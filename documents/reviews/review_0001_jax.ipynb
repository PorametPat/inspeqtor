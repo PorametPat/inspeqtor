{
 "cells": [
  {
   "cell_type": "code",
   "execution_count": 1,
   "metadata": {},
   "outputs": [
    {
     "name": "stdout",
     "output_type": "stream",
     "text": [
      "TensorFlow Gradient: 9.0\n",
      "TensorFlow Random:\n",
      " [[ 0.3274685 -0.8426258  0.3194337]\n",
      " [-1.4075519 -2.3880599 -1.0392479]]\n"
     ]
    }
   ],
   "source": [
    "import tensorflow as tf\n",
    "\n",
    "# Gradient Calculation\n",
    "x = tf.Variable(3.0)\n",
    "with tf.GradientTape() as tape:\n",
    "    y = x**2 + 3*x + 2\n",
    "grad = tape.gradient(y, x)\n",
    "print(\"TensorFlow Gradient:\", grad.numpy())\n",
    "\n",
    "# Random Number Generation with Seed\n",
    "tf.random.set_seed(42)\n",
    "rand_tf = tf.random.normal(shape=(2, 3))\n",
    "print(\"TensorFlow Random:\\n\", rand_tf.numpy())\n"
   ]
  },
  {
   "cell_type": "code",
   "execution_count": 2,
   "metadata": {},
   "outputs": [
    {
     "name": "stdout",
     "output_type": "stream",
     "text": [
      "PyTorch Gradient: 9.0\n",
      "PyTorch Random:\n",
      " [[ 0.33669037  0.1288094   0.23446237]\n",
      " [ 0.23033303 -1.1228564  -0.18632829]]\n"
     ]
    }
   ],
   "source": [
    "import torch\n",
    "\n",
    "# Gradient Calculation\n",
    "x = torch.tensor(3.0, requires_grad=True)\n",
    "y = x**2 + 3*x + 2\n",
    "y.backward()\n",
    "print(\"PyTorch Gradient:\", x.grad.item())\n",
    "\n",
    "# Random Number Generation with Seed\n",
    "torch.manual_seed(42)\n",
    "rand_torch = torch.randn(2, 3)\n",
    "print(\"PyTorch Random:\\n\", rand_torch.numpy())\n"
   ]
  },
  {
   "cell_type": "code",
   "execution_count": null,
   "metadata": {},
   "outputs": [
    {
     "name": "stdout",
     "output_type": "stream",
     "text": [
      "JAX Gradient: 9.0\n",
      "JAX Random:\n",
      " [[-0.02830462  0.46713185  0.29570296]\n",
      " [ 0.15354592 -0.12403282  0.21692315]]\n"
     ]
    }
   ],
   "source": [
    "import jax\n",
    "\n",
    "# Gradient Calculation\n",
    "def func(x):\n",
    "    return x**2 + 3*x + 2\n",
    "grad_func = jax.grad(func)\n",
    "print(\"JAX Gradient:\", grad_func(3.0))\n",
    "\n",
    "# Random Number Generation with Seed\n",
    "key = jax.random.key(42)\n",
    "rand_jax = jax.random.normal(key, (2, 3))\n",
    "print(\"JAX Random:\\n\", rand_jax)\n"
   ]
  },
  {
   "cell_type": "code",
   "execution_count": null,
   "metadata": {},
   "outputs": [],
   "source": []
  }
 ],
 "metadata": {
  "kernelspec": {
   "display_name": "inspeqtor (3.11.10)",
   "language": "python",
   "name": "python3"
  },
  "language_info": {
   "codemirror_mode": {
    "name": "ipython",
    "version": 3
   },
   "file_extension": ".py",
   "mimetype": "text/x-python",
   "name": "python",
   "nbconvert_exporter": "python",
   "pygments_lexer": "ipython3",
   "version": "3.11.10"
  }
 },
 "nbformat": 4,
 "nbformat_minor": 2
}
