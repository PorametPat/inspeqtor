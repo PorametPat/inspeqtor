{
 "cells": [
  {
   "cell_type": "code",
   "execution_count": 1,
   "id": "34ce9b6c",
   "metadata": {},
   "outputs": [],
   "source": [
    "import inspeqtor.experimental as sq\n",
    "import numpyro\n",
    "from numpyro import handlers\n",
    "from numpyro import distributions as dist\n",
    "import jax\n",
    "import jax.numpy as jnp\n",
    "\n",
    "from numpyro.infer import (\n",
    "    SVI,\n",
    "    TraceMeanField_ELBO,\n",
    "    autoguide,\n",
    "    init_to_sample,\n",
    "    Predictive,\n",
    ")\n",
    "import optax"
   ]
  },
  {
   "cell_type": "code",
   "execution_count": 16,
   "id": "375f0e9f",
   "metadata": {},
   "outputs": [],
   "source": [
    "sensitivity = 1.0\n",
    "\n",
    "\n",
    "def model(l: jnp.ndarray):\n",
    "    # Dimension -1 of `l` represents the number of rounds\n",
    "    # Other dimensions are batch dimensions: we indicate this with a plate_stack\n",
    "    with numpyro.plate_stack(\"plate\", list(l.shape[:-1])):\n",
    "        # Share theta across the number of rounds of the experiment\n",
    "        # This represents repeatedly testing the same participant\n",
    "        theta = numpyro.sample(\"theta\", dist.Normal(7., 2.))  # type: ignore\n",
    "        theta = jnp.expand_dims(theta, -1)\n",
    "        # This define a *logistic regression* model for y\n",
    "        logit_p = sensitivity * (theta - l)\n",
    "        # The event shape represents responses from the same participant\n",
    "        y = numpyro.sample(\"y\", dist.Bernoulli(logits=logit_p).to_event(1))  # type: ignore\n",
    "\n",
    "    return y\n",
    "\n",
    "\n",
    "def guide(l: jnp.ndarray):\n",
    "    # The guide is initialised at the prior\n",
    "    posterior_mean = numpyro.param(\"posterior_mean\", jnp.array(7.0))\n",
    "    posterior_sd = numpyro.param(\n",
    "        \"posterior_sd\", jnp.array(2.0), constraint=dist.constraints.positive\n",
    "    )\n",
    "    numpyro.sample(\"theta\", dist.Normal(posterior_mean, posterior_sd)) # type: ignore\n"
   ]
  },
  {
   "cell_type": "code",
   "execution_count": 17,
   "id": "2738c8bd",
   "metadata": {},
   "outputs": [
    {
     "name": "stderr",
     "output_type": "stream",
     "text": [
      "100%|██████████| 10000/10000 [00:00<00:00, 10891.91it/s, init loss: 2.2569, avg. loss [9501-10000]: 1.2946]\n"
     ]
    }
   ],
   "source": [
    "l_data = jnp.array([5., 7., 9.])\n",
    "y_data = jnp.array([1., 1., 0.])\n",
    "\n",
    "conditioned_model = handlers.condition(model, {\"y\": y_data})\n",
    "\n",
    "optimizer = optax.adamw(learning_rate=1e-3)\n",
    "\n",
    "svi = SVI(\n",
    "    model=conditioned_model,\n",
    "    guide=guide,\n",
    "    optim=numpyro.optim.optax_to_numpyro(optimizer),\n",
    "    loss=TraceMeanField_ELBO(num_particles=1),\n",
    ")\n",
    "\n",
    "svi_results = svi.run(\n",
    "    jax.random.key(0),\n",
    "    10_000,\n",
    "    l_data,\n",
    "    progress_bar=True\n",
    ")"
   ]
  },
  {
   "cell_type": "code",
   "execution_count": 18,
   "id": "e2d1a5af",
   "metadata": {},
   "outputs": [
    {
     "data": {
      "text/plain": [
       "{'posterior_mean': Array(7.75896117, dtype=float64),\n",
       " 'posterior_sd': Array(1.21964926, dtype=float64)}"
      ]
     },
     "execution_count": 18,
     "metadata": {},
     "output_type": "execute_result"
    }
   ],
   "source": [
    "svi_results.params"
   ]
  },
  {
   "cell_type": "code",
   "execution_count": 19,
   "id": "ae3f1c5b",
   "metadata": {},
   "outputs": [],
   "source": [
    "def marginal_guide(design, observation_labels, target_labels):\n",
    "    # This shape allows us to learn a different parameter for each candidate design l\n",
    "    q_logit = numpyro.param(\"theta\", jnp.zeros(design.shape[-2:]))\n",
    "    numpyro.sample(\"y\", dist.Bernoulli(logits=q_logit).to_event(1))  # type: ignore"
   ]
  },
  {
   "cell_type": "code",
   "execution_count": 21,
   "id": "e302d5e6",
   "metadata": {},
   "outputs": [
    {
     "name": "stdout",
     "output_type": "stream",
     "text": [
      "|████████████████████████████████████████| 10000/10000 [100%] in 12.7s (789.50/s\n"
     ]
    }
   ],
   "source": [
    "candidate_designs = jnp.arange(1, 15, dtype=jnp.float_).reshape(-1, 1)\n",
    "\n",
    "NUM_STEP = 10_000\n",
    "optimizer = sq.optimize.get_default_optimizer(NUM_STEP)\n",
    "\n",
    "eig, aux = sq.boed.estimate_eig(\n",
    "    jax.random.key(0),\n",
    "    model,\n",
    "    marginal_guide,\n",
    "    candidate_designs,  # design, or in this case, tensor of possible designs\n",
    "    observation_labels=[\"y\"],  # site label of observations, could be a list\n",
    "    target_labels=[\"theta\"],  # site label of 'targets' (latent variables), could also be list\n",
    "    num_particles=100,  # number of samples to draw per step in the expectation\n",
    "    num_optimization_steps=NUM_STEP,  # number of gradient steps\n",
    "    optimizer=optimizer,  # optimizer with learning rate decay\n",
    "    final_num_particles=10000,  # at the last step, we draw more samples\n",
    "    # for a more accurate EIG estimate\n",
    "    # loss_fn=sq.boed.vnmc_eig_loss\n",
    ")"
   ]
  },
  {
   "cell_type": "code",
   "execution_count": 22,
   "id": "4f641c93",
   "metadata": {},
   "outputs": [
    {
     "data": {
      "text/plain": [
       "Text(0, 0.5, 'EIG($l$)')"
      ]
     },
     "execution_count": 22,
     "metadata": {},
     "output_type": "execute_result"
    },
    {
     "data": {
      "image/png": "[encoded data removed]",
      "text/plain": [
       "<Figure size 640x480 with 1 Axes>"
      ]
     },
     "metadata": {},
     "output_type": "display_data"
    }
   ],
   "source": [
    "import matplotlib.pyplot as plt\n",
    "plt.plot(eig, marker='o')\n",
    "plt.xlabel(\"$l$\")\n",
    "plt.ylabel(\"EIG($l$)\")"
   ]
  },
  {
   "cell_type": "code",
   "execution_count": 29,
   "id": "45074447",
   "metadata": {},
   "outputs": [
    {
     "data": {
      "text/plain": [
       "Array(7, dtype=int64)"
      ]
     },
     "execution_count": 29,
     "metadata": {},
     "output_type": "execute_result"
    }
   ],
   "source": [
    "jnp.argmax(eig) + 1"
   ]
  }
 ],
 "metadata": {
  "kernelspec": {
   "display_name": "inspeqtor (3.13.0)",
   "language": "python",
   "name": "python3"
  },
  "language_info": {
   "codemirror_mode": {
    "name": "ipython",
    "version": 3
   },
   "file_extension": ".py",
   "mimetype": "text/x-python",
   "name": "python",
   "nbconvert_exporter": "python",
   "pygments_lexer": "ipython3",
   "version": "3.13.0"
  }
 },
 "nbformat": 4,
 "nbformat_minor": 5
}
