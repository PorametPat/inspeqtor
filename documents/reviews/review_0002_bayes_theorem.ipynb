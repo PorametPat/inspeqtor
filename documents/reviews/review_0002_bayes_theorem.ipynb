{
 "cells": [
  {
   "cell_type": "code",
   "execution_count": 1,
   "metadata": {},
   "outputs": [],
   "source": [
    "import jax\n",
    "import jax.numpy as jnp\n",
    "from dataclasses import dataclass, field\n",
    "import rich\n",
    "import pprint as pp"
   ]
  },
  {
   "cell_type": "markdown",
   "metadata": {},
   "source": [
    "### The Bayes Theorem\n",
    "\n",
    "$$P(A|B) = \\frac{P(B|A)P(A)}{P(B)}$$\n",
    "\n",
    "Where:\n",
    "- $P(A|B)$ is the probability of event A occurring given that B is true.\n",
    "- $P(B|A)$ is the probability of event B occurring given that A is true.\n",
    "\n"
   ]
  },
  {
   "cell_type": "code",
   "execution_count": 2,
   "metadata": {},
   "outputs": [],
   "source": [
    "@dataclass\n",
    "class Coin(dict):\n",
    "    \"\"\"A dataclass to represent a coin with a head and tail probability.\n",
    "     ```python\n",
    "    coin = Coin(0.5)\n",
    "    coin[True]\n",
    "    # 0.5\n",
    "    ```\n",
    "    \"\"\"\n",
    "\n",
    "    p_head: float\n",
    "    p_tail: float = field(init=False)\n",
    "\n",
    "    def __post_init__(self):\n",
    "        self.p_tail = 1.0 - self.p_head\n",
    "\n",
    "    def __getitem__(self, key: bool) -> float:\n",
    "        \"\"\"Overload the __getitem__ method to return the probability of the coin.\n",
    "        ```python\n",
    "        coin = Coin(0.5)\n",
    "        coin[True]\n",
    "        # 0.5\n",
    "        ```\n",
    "\n",
    "        Args:\n",
    "            key (bool): The key to get the probability of the coin.\n",
    "\n",
    "        Returns:\n",
    "            float: The probability of the coin.\n",
    "        \"\"\"\n",
    "        return self.p_head if key else self.p_tail\n",
    "\n",
    "\n",
    "def flip_coin(key: jnp.ndarray, coin: Coin) -> bool:\n",
    "    \"\"\"Flip a coin and return the result.\n",
    "\n",
    "    Args:\n",
    "        key (jnp.ndarray): random key\n",
    "        coin (Coin): The `Coin` object to flip.\n",
    "\n",
    "    Returns:\n",
    "        bool: The result of the coin flip. True for heads, False for tails.\n",
    "    \"\"\"\n",
    "    res = jax.random.bernoulli(key, coin[True])\n",
    "    return True if res else False\n",
    "\n",
    "\n",
    "def marginal_probability(\n",
    "    data: bool, coins: dict[int, Coin], box: dict[int, float]\n",
    ") -> float:\n",
    "    \"\"\"Calculate the marginal probability of the data.\n",
    "\n",
    "    Args:\n",
    "        data (bool): The data to calculate the marginal probability of.\n",
    "        coins (dict): All possible coins.\n",
    "        box (dict): The prior probability of each coin.\n",
    "\n",
    "    Returns:\n",
    "        float: The marginal probability of the data.\n",
    "    \"\"\"\n",
    "    return sum(\n",
    "        # P(Coin) * P(Data|Coin)\n",
    "        box[coin] * coins[coin][data]\n",
    "        for coin in coins\n",
    "    )\n",
    "\n",
    "\n",
    "def posterior_probability(\n",
    "    data: bool, coins: dict[int, Coin], prior_box: dict[int, float]\n",
    ") -> dict[int, float]:\n",
    "    \"\"\"Calculate the posterior probability of the data.\n",
    "\n",
    "    Args:\n",
    "        data (bool): The data to calculate the posterior probability of.\n",
    "        coins (dict): All possible coins.\n",
    "        prior_box (dict): The prior probability of each coin.\n",
    "\n",
    "    Returns:\n",
    "        dict: The posterior probability of the data.\n",
    "    \"\"\"\n",
    "    marginal = marginal_probability(data, coins, prior_box)\n",
    "    return {coin: (prior_box[coin] * coins[coin][data]) / marginal for coin in coins}\n",
    "\n",
    "def get_most_probable_coin(posterior: dict[int, float]) -> int:\n",
    "    \"\"\"Get the most probable coin from the posterior probability.\n",
    "\n",
    "    Args:\n",
    "        posterior (dict): The posterior probability.\n",
    "\n",
    "    Returns:\n",
    "        int: The most probable coin.\n",
    "    \"\"\"\n",
    "    coin_idx = 0\n",
    "    for coin, prob in posterior.items():\n",
    "        if coin_idx is None or prob > posterior[coin_idx]:\n",
    "            coin_idx = coin\n",
    "\n",
    "    return coin_idx"
   ]
  },
  {
   "cell_type": "code",
   "execution_count": 10,
   "metadata": {},
   "outputs": [],
   "source": [
    "key = jax.random.key(0)\n",
    "key, subkey = jax.random.split(key)\n",
    "# The coins are biased with the following probabilities\n",
    "coins = {0: Coin(0.5), 1: Coin(0.8), 2: Coin(0.3)}\n",
    "# The box contains 3 coins with the following probabilities\n",
    "box = {\n",
    "    0: 1 / 5,  # 20%\n",
    "    1: 2 / 5,  # 40%\n",
    "    2: 2 / 5,  # 40%\n",
    "}\n",
    "\n",
    "# The prior probability of each coin\n",
    "# The uniform prior box is equivalent to knowing nothing about the coins\n",
    "prior_box = {\n",
    "    0: 1/3,  # 33.3%\n",
    "    1: 1/3,  # 33.3%\n",
    "    2: 1/3,  # 33.3%\n",
    "}\n",
    "# Randomly select a coin from the box\n",
    "random_coin = int(jax.random.choice(\n",
    "    subkey, jnp.array(list(coins.keys())), p=jnp.array(list(box.values()))\n",
    "))"
   ]
  },
  {
   "cell_type": "markdown",
   "metadata": {},
   "source": [
    "### Upate the Belief\n",
    "1. We start with some prior belief $P(A)$.\n",
    "2. We observe some evidence $B$.\n",
    "3. We update our belief to $P(A|B)$ (Posterior Probability)."
   ]
  },
  {
   "cell_type": "code",
   "execution_count": 19,
   "metadata": {},
   "outputs": [
    {
     "name": "stdout",
     "output_type": "stream",
     "text": [
      "At [1000]: {0: 0.0, 1: 0.0, 2: 1.0}\n",
      "At [2000]: {0: 0.0, 1: 0.0, 2: 1.0}\n",
      "At [3000]: {0: 0.0, 1: 0.0, 2: 1.0}\n",
      "At [4000]: {0: 0.0, 1: 0.0, 2: 1.0}\n",
      "At [5000]: {0: 0.0, 1: 0.0, 2: 1.0}\n",
      "At [6000]: {0: 0.0, 1: 0.0, 2: 1.0}\n",
      "At [7000]: {0: 0.0, 1: 0.0, 2: 1.0}\n",
      "At [8000]: {0: 0.0, 1: 0.0, 2: 1.0}\n",
      "At [9000]: {0: 0.0, 1: 0.0, 2: 1.0}\n",
      "At [10000]: {0: 0.0, 1: 0.0, 2: 1.0}\n",
      "The most probable coin is:  2\n",
      "The hidden coin is:  2\n"
     ]
    }
   ],
   "source": [
    "# The prior probability is the same as the posterior probability at the beginning\n",
    "# You could play with the prior probability to see how it affects the posterior probability\n",
    "posterior = prior_box\n",
    "# Bayesian updating\n",
    "n_updates = 10000\n",
    "report_interval = int(n_updates / 10)\n",
    "flip_data = []\n",
    "for idx in range(1, n_updates + 1):\n",
    "    key, subkey = jax.random.split(key)\n",
    "    # Flip a coin\n",
    "    data = flip_coin(subkey, coins[random_coin])\n",
    "    flip_data.append(int(data))\n",
    "    # Update the posterior probability\n",
    "    posterior = posterior_probability(data, coins, posterior)\n",
    "\n",
    "    if idx % report_interval == 0:\n",
    "        print(f\"At [{idx}]:\", jax.tree.map(lambda x: round(x, 3), posterior))\n",
    "\n",
    "print(\"The most probable coin is: \", get_most_probable_coin(posterior))\n",
    "print(\"The hidden coin is: \", random_coin)"
   ]
  },
  {
   "cell_type": "code",
   "execution_count": 16,
   "metadata": {},
   "outputs": [],
   "source": [
    "import jax\n",
    "import jax.numpy as jnp\n",
    "import numpyro\n",
    "import numpyro.distributions as dist\n",
    "from numpyro.infer import SVI, Trace_ELBO, init_to_feasible\n",
    "import numpyro.infer.autoguide as autoguide\n",
    "import optax\n",
    "import matplotlib.pyplot as plt"
   ]
  },
  {
   "cell_type": "code",
   "execution_count": null,
   "metadata": {},
   "outputs": [
    {
     "name": "stderr",
     "output_type": "stream",
     "text": [
      "100%|██████████| 10000/10000 [00:01<00:00, 9002.34it/s, init loss: 6911.6011, avg. loss [9501-10000]: 6048.1034]\n"
     ]
    }
   ],
   "source": [
    "def model(data: jnp.ndarray | None = None):\n",
    "    # Flip the coin.\n",
    "    p = numpyro.sample(\"p\", dist.Beta(2, 2))\n",
    "    return numpyro.sample(\"coin\", dist.BernoulliProbs(probs=p), obs=data)\n",
    "\n",
    "data = jnp.array(flip_data)\n",
    "optimizer = numpyro.optim.optax_to_numpyro(optax.adam(0.01))\n",
    "guide = autoguide.AutoNormal(model, init_loc_fn=init_to_feasible)\n",
    "svi = SVI(model, guide, optimizer, loss=Trace_ELBO())\n",
    "svi_result = svi.run(jax.random.key(0), num_steps=10000, data=data)"
   ]
  },
  {
   "cell_type": "code",
   "execution_count": 23,
   "metadata": {},
   "outputs": [
    {
     "data": {
      "image/png": "[encoded data removed]",
      "text/plain": [
       "<Figure size 640x480 with 1 Axes>"
      ]
     },
     "metadata": {},
     "output_type": "display_data"
    }
   ],
   "source": [
    "params = svi_result.params\n",
    "\n",
    "# Sample from the variational distribution\n",
    "posterior_samples = guide.sample_posterior(jax.random.key(1), params, sample_shape=(10000,))\n",
    "assert isinstance(posterior_samples, dict)\n",
    "# Analyze the posterior samples\n",
    "\n",
    "plt.hist(posterior_samples['p'], bins=50, density=True)\n",
    "plt.xlabel('Probability of heads')\n",
    "plt.ylabel('Density')\n",
    "plt.title('Variational posterior distribution of the probability of heads')\n",
    "plt.show()"
   ]
  },
  {
   "cell_type": "code",
   "execution_count": null,
   "metadata": {},
   "outputs": [],
   "source": []
  }
 ],
 "metadata": {
  "kernelspec": {
   "display_name": ".venv",
   "language": "python",
   "name": "python3"
  },
  "language_info": {
   "codemirror_mode": {
    "name": "ipython",
    "version": 3
   },
   "file_extension": ".py",
   "mimetype": "text/x-python",
   "name": "python",
   "nbconvert_exporter": "python",
   "pygments_lexer": "ipython3",
   "version": "3.11.10"
  }
 },
 "nbformat": 4,
 "nbformat_minor": 2
}
