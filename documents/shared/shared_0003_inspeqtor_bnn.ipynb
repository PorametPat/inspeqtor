{
 "cells": [
  {
   "cell_type": "code",
   "execution_count": 1,
   "metadata": {},
   "outputs": [],
   "source": [
    "import jax\n",
    "import jax.numpy as jnp\n",
    "import numpyro\n",
    "import numpyro.distributions as dist\n",
    "from numpyro.infer import (\n",
    "    Predictive,\n",
    "    SVI,\n",
    "    TraceMeanField_ELBO,\n",
    "    autoguide,\n",
    "    init_to_feasible,\n",
    ")\n",
    "from numpyro.contrib.module import random_flax_module\n",
    "import inspeqtor.experimental as sq\n",
    "\n",
    "jax.config.update(\"jax_enable_x64\", True)"
   ]
  },
  {
   "cell_type": "markdown",
   "metadata": {},
   "source": [
    "## Simulate some data and load it to LoadedData object"
   ]
  },
  {
   "cell_type": "code",
   "execution_count": 2,
   "metadata": {},
   "outputs": [
    {
     "name": "stderr",
     "output_type": "stream",
     "text": [
      "/var/folders/rm/_5r9_x2s3tgfyqlnv1pdjfqc0000gn/T/ipykernel_67724/1920614346.py:22: UserWarning: The function generate_mock_experiment_data is not yet tested.\n",
      "  ) = sq.predefined.generate_mock_experiment_data(\n",
      "/Users/porametpathumsoot/University/PhD/Projects/espresso/inspeqtor/src/inspeqtor/experimental/predefined.py:364: UserWarning: The function detune_hamiltonian is not yet tested.\n",
      "  hamiltonian = detune_hamiltonian(ideal_hamiltonian, detune)\n",
      "/Users/porametpathumsoot/University/PhD/Projects/espresso/inspeqtor/.venv/lib/python3.11/site-packages/equinox/_jit.py:55: UserWarning: Complex dtype support is work in progress, please read https://github.com/patrick-kidger/diffrax/pull/197 and proceed carefully.\n",
      "  out = fun(*args, **kwargs)\n",
      "/Users/porametpathumsoot/University/PhD/Projects/espresso/inspeqtor/.venv/lib/python3.11/site-packages/equinox/_jit.py:55: UserWarning: Complex dtype support is work in progress, please read https://github.com/patrick-kidger/diffrax/pull/197 and proceed carefully.\n",
      "  out = fun(*args, **kwargs)\n"
     ]
    }
   ],
   "source": [
    "key = jax.random.key(0)\n",
    "key, data_key, model_key, train_key, gate_optim_key = jax.random.split(key, 5)\n",
    "sample_size = 1000\n",
    "\n",
    "qubit_info = sq.predefined.get_mock_qubit_information()\n",
    "\n",
    "\n",
    "# NOTE pick the pulse sequence you want to use\n",
    "# def get_pulse_sequence_fn():\n",
    "#         return sq.predefined.get_drag_pulse_sequence(qubit_info)\n",
    "\n",
    "get_pulse_sequence_fn = sq.predefined.get_multi_drag_pulse_sequence_v3\n",
    "\n",
    "# NOTE: Simulate the experiment with some detuning noise\n",
    "(\n",
    "    exp_data,\n",
    "    pulse_sequence,\n",
    "    noisy_unitaries,\n",
    "    signal_params_list,\n",
    "    noisy_simulator,\n",
    "    whitebox,\n",
    ") = sq.predefined.generate_mock_experiment_data(\n",
    "    key=data_key,\n",
    "    sample_size=sample_size,\n",
    "    shots=3000,\n",
    "    strategy=sq.predefined.SimulationStrategy.SHOT,\n",
    "    detune=0.001,\n",
    "    get_pulse_sequence_fn=get_pulse_sequence_fn,\n",
    "    get_qubit_information_fn=sq.predefined.get_mock_qubit_information,\n",
    ")\n",
    "\n",
    "# Prepare the data for training\n",
    "loaded_data = sq.utils.prepare_data(\n",
    "    exp_data=exp_data, pulse_sequence=pulse_sequence, whitebox=whitebox\n",
    ")"
   ]
  },
  {
   "cell_type": "markdown",
   "metadata": {},
   "source": [
    "## Dataset metric\n",
    "\n",
    "-   `var` is the lowest test MSE of expectation value that model could hope to get.\n",
    "-   `mse_ideal2exp` is the MSE of expectation value between ideal evolution and noisy observation. This show how much data is noisy. This point could be used as a reference to compare with the test MSE of expectation value.\n"
   ]
  },
  {
   "cell_type": "code",
   "execution_count": 3,
   "metadata": {},
   "outputs": [
    {
     "data": {
      "text/plain": [
       "DatasetMetrics(var=0.00022213154722644025, mse_ideal2exp=0.0004172154452236824, total_iterations=9000, step_for_optimizer=8000, warmup_steps=800, cool_down_steps=1000)"
      ]
     },
     "execution_count": 3,
     "metadata": {},
     "output_type": "execute_result"
    }
   ],
   "source": [
    "sq.utils.get_dataset_metrics(loaded_data)"
   ]
  },
  {
   "cell_type": "markdown",
   "metadata": {},
   "source": [
    "## Define Bayesian model"
   ]
  },
  {
   "cell_type": "code",
   "execution_count": 4,
   "metadata": {},
   "outputs": [],
   "source": [
    "def make_bmlp_model(SHOTS: int):\n",
    "    def model_v2b(\n",
    "        pulse_parameters: jnp.ndarray,\n",
    "        unitaries: jnp.ndarray,\n",
    "        expectation_values: jnp.ndarray | None = None,\n",
    "    ):\n",
    "        # NOTE: Seem correct?, but not fast.\n",
    "\n",
    "        # NOTE: Perform auto expanding on unitaries\n",
    "        samples_shape = pulse_parameters.shape[:-2]\n",
    "        unitaries = jnp.broadcast_to(\n",
    "            unitaries, samples_shape + unitaries.shape[-3:]\n",
    "        )\n",
    "        # unitaries = helper.lexpand(unitaries, *samples_shape)\n",
    "\n",
    "        # Define the base module\n",
    "        base_module = sq.model.BasicBlackBoxV2(\n",
    "            hidden_sizes_1=[9, 29, 13],\n",
    "            hidden_sizes_2=[46, 32],\n",
    "        )\n",
    "        # Initialize BMLP model\n",
    "        net = random_flax_module(\n",
    "            \"nn\",\n",
    "            base_module,\n",
    "            dist.Normal(0, 1.0),\n",
    "            input_shape=pulse_parameters.shape,\n",
    "        )\n",
    "\n",
    "        # Predict Wo from pulse parameters\n",
    "        Wo = net(pulse_parameters)\n",
    "\n",
    "        # With unitary and Wo, calculate expectation values\n",
    "        expvals = sq.model.get_predict_expectation_value(\n",
    "            Wos_params=Wo,\n",
    "            unitaries=unitaries,\n",
    "            evaluate_expectation_values=sq.constant.default_expectation_values_order,\n",
    "        )\n",
    "\n",
    "        # Calculate the variance of expectation value from the expectation value\n",
    "        expected_scale = jnp.sqrt(\n",
    "            sq.utils.variance_of_observable(\n",
    "                expval=expvals,\n",
    "                shots=SHOTS,\n",
    "            )\n",
    "        )\n",
    "\n",
    "        for idx, exp in enumerate(sq.constant.default_expectation_values_order):\n",
    "            numpyro.sample(\n",
    "                f\"obs/{exp.initial_state}/{exp.observable}\",\n",
    "                dist.TruncatedNormal(\n",
    "                    loc=expvals[..., idx], # type: ignore\n",
    "                    scale=expected_scale[..., idx], # type: ignore\n",
    "                    low=-1.0,\n",
    "                    high=1.0,\n",
    "                ),\n",
    "                obs=(\n",
    "                    expectation_values[..., idx]\n",
    "                    if expectation_values is not None\n",
    "                    else None\n",
    "                ),\n",
    "            )\n",
    "\n",
    "    return model_v2b"
   ]
  },
  {
   "cell_type": "code",
   "execution_count": 5,
   "metadata": {},
   "outputs": [],
   "source": [
    "key = jax.random.key(0)\n",
    "key, random_split_key, train_key, prediction_key = jax.random.split(key, 4)\n",
    "(\n",
    "    train_pulse_parameters,\n",
    "    train_unitaries,\n",
    "    train_expectation_values,\n",
    "    test_pulse_parameters,\n",
    "    test_unitaries,\n",
    "    test_expectation_values,\n",
    ") = sq.utils.random_split(\n",
    "    random_split_key,\n",
    "    100,  # Test size\n",
    "    loaded_data.pulse_parameters,\n",
    "    loaded_data.unitaries,\n",
    "    loaded_data.expectation_values,\n",
    ")"
   ]
  },
  {
   "cell_type": "code",
   "execution_count": 6,
   "metadata": {},
   "outputs": [],
   "source": [
    "model = make_bmlp_model(loaded_data.experiment_data.experiment_config.shots)\n",
    "guide = autoguide.AutoDiagonalNormal(model, init_loc_fn=init_to_feasible)\n",
    "optimizer = sq.optimize.get_default_optimizer(8000)\n",
    "\n",
    "svi = SVI(\n",
    "    model=model,\n",
    "    guide=guide,\n",
    "    optim=numpyro.optim.optax_to_numpyro(optimizer),\n",
    "    loss=TraceMeanField_ELBO(),\n",
    ")\n",
    "\n",
    "svi_result = svi.run(\n",
    "    train_key,\n",
    "    num_steps=10_000,\n",
    "    pulse_parameters=train_pulse_parameters,\n",
    "    unitaries=train_unitaries,\n",
    "    expectation_values=train_expectation_values,\n",
    "    progress_bar=False,\n",
    ")"
   ]
  },
  {
   "cell_type": "code",
   "execution_count": 7,
   "metadata": {},
   "outputs": [],
   "source": [
    "params, losses = svi_result.params, svi_result.losses\n",
    "predictive = Predictive(model, guide=guide, params=params, num_samples=1_000)\n",
    "\n",
    "\n",
    "y_pred = predictive(\n",
    "    prediction_key,\n",
    "    pulse_parameters=test_pulse_parameters,\n",
    "    unitaries=test_unitaries,\n",
    ")"
   ]
  },
  {
   "cell_type": "code",
   "execution_count": 8,
   "metadata": {},
   "outputs": [
    {
     "name": "stdout",
     "output_type": "stream",
     "text": [
      "(1000, 100, 18)\n",
      "(1000, 100, 18) 0.00022232106868100968 0.00013795110879701736\n",
      "(1000, 100) 0.0005340922778215452 0.0002168604855420022\n"
     ]
    }
   ],
   "source": [
    "predicted_expvals = [\n",
    "    y_pred[f\"obs/{exp.initial_state}/{exp.observable}\"]\n",
    "    for exp in sq.constant.default_expectation_values_order\n",
    "]\n",
    "\n",
    "predicted_expvals = jnp.array(predicted_expvals)\n",
    "# Swapaxes\n",
    "predicted_expvals = jnp.swapaxes(predicted_expvals, 0, 1)\n",
    "predicted_expvals = jnp.swapaxes(predicted_expvals, 1, 2)\n",
    "print(predicted_expvals.shape)\n",
    "\n",
    "optimal_mse_losses = sq.utils.variance_of_observable(\n",
    "    expval=predicted_expvals,\n",
    "    shots=loaded_data.experiment_data.experiment_config.shots,\n",
    ")\n",
    "print(optimal_mse_losses.shape, optimal_mse_losses.mean(), optimal_mse_losses.std())\n",
    "\n",
    "mse_losses = jax.vmap(jax.vmap(sq.model.mse, in_axes=(0, 0)), in_axes=(0, None))(\n",
    "    predicted_expvals,\n",
    "    test_expectation_values,\n",
    ")\n",
    "print(mse_losses.shape, mse_losses.mean(), mse_losses.std())"
   ]
  }
 ],
 "metadata": {
  "kernelspec": {
   "display_name": ".venv",
   "language": "python",
   "name": "python3"
  },
  "language_info": {
   "codemirror_mode": {
    "name": "ipython",
    "version": 3
   },
   "file_extension": ".py",
   "mimetype": "text/x-python",
   "name": "python",
   "nbconvert_exporter": "python",
   "pygments_lexer": "ipython3",
   "version": "3.11.10"
  }
 },
 "nbformat": 4,
 "nbformat_minor": 2
}
