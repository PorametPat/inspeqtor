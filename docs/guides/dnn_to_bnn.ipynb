{
 "cells": [
  {
   "cell_type": "markdown",
   "id": "50cba288",
   "metadata": {},
   "source": [
    "# How to convert DNN into BNN\n",
    "\n",
    "<div class=\"admonition goal\">\n",
    "    <p class=\"admonition-title\">Goal</p>\n",
    "    <p>\n",
    "        This notebook aims to showcase how can you convert a statistical deep neural network that predict a point into a bayesian neural network that predict the distribution instead. \n",
    "    </p>\n",
    "</div>"
   ]
  },
  {
   "cell_type": "markdown",
   "id": "65c9015f",
   "metadata": {},
   "source": [
    "Let us start by importing libraries."
   ]
  },
  {
   "cell_type": "code",
   "execution_count": 1,
   "id": "33cc197c",
   "metadata": {},
   "outputs": [],
   "source": [
    "import jax\n",
    "import jax.numpy as jnp\n",
    "import inspeqtor.experimental as sq\n",
    "from functools import partial"
   ]
  },
  {
   "cell_type": "markdown",
   "id": "b63616ad",
   "metadata": {},
   "source": [
    "## Get synthetic dataset ready 🚀\n",
    "\n",
    "Here we are working with synthetic dataset. So, we need to define a simulator, perform an experiment, prepare the dataset for model training/inference, benchmarking. Luckily, `inspeqtor` provide a serveral helper functions and predefined noise model for user to quickly get stuff setting up."
   ]
  },
  {
   "cell_type": "code",
   "execution_count": 2,
   "id": "1c737776",
   "metadata": {},
   "outputs": [],
   "source": [
    "def get_data():\n",
    "    # This is the predefined noise model that we are going to work with.\n",
    "    data_model = sq.predefined.get_predefined_data_model_m1()\n",
    "\n",
    "    # Now, we use the noise model to performing the data using simulator.\n",
    "    exp_data, _, _, _ = sq.predefined.generate_experimental_data(\n",
    "        key=jax.random.key(0),\n",
    "        hamiltonian=data_model.total_hamiltonian,\n",
    "        sample_size=100,\n",
    "        strategy=sq.predefined.SimulationStrategy.SHOT,\n",
    "        get_qubit_information_fn=lambda: data_model.qubit_information,\n",
    "        get_control_sequence_fn=lambda: data_model.control_sequence,\n",
    "        method=sq.predefined.WhiteboxStrategy.TROTTER,\n",
    "        trotter_steps=10_000,\n",
    "    )\n",
    "\n",
    "    # Now we can prepare the dataset that ready to use.\n",
    "    whitebox = sq.physics.make_trotterization_solver(\n",
    "        data_model.ideal_hamiltonian,\n",
    "        data_model.control_sequence,\n",
    "        data_model.dt,\n",
    "        trotter_steps=10_000,\n",
    "    )\n",
    "    loaded_data = sq.predefined.prepare_data(\n",
    "        exp_data, data_model.control_sequence, whitebox\n",
    "    )\n",
    "\n",
    "    # Here, we just bundling things up for convinience uses.\n",
    "    key = jax.random.key(0)\n",
    "    key, random_split_key = jax.random.split(key)\n",
    "    (\n",
    "        train_pulse_parameters,\n",
    "        train_unitaries,\n",
    "        train_expectation_values,\n",
    "        test_pulse_parameters,\n",
    "        test_unitaries,\n",
    "        test_expectation_values,\n",
    "    ) = sq.utils.random_split(\n",
    "        random_split_key,\n",
    "        int(loaded_data.control_parameters.shape[0] * 0.1),  # Test size\n",
    "        loaded_data.control_parameters,\n",
    "        loaded_data.unitaries,\n",
    "        loaded_data.expectation_values,\n",
    "    )\n",
    "\n",
    "    shots = loaded_data.experiment_data.experiment_config.shots\n",
    "\n",
    "    train_binaries = sq.utils.eigenvalue_to_binary(\n",
    "        sq.utils.expectation_value_to_eigenvalue(train_expectation_values, shots)\n",
    "    )\n",
    "    train_binaries = jnp.swapaxes(jnp.swapaxes(train_binaries, 1, 2), 0, 1)\n",
    "\n",
    "    test_binaries = sq.utils.eigenvalue_to_binary(\n",
    "        sq.utils.expectation_value_to_eigenvalue(test_expectation_values, shots)\n",
    "    )\n",
    "\n",
    "    test_binaries = jnp.swapaxes(jnp.swapaxes(test_binaries, 1, 2), 0, 1)\n",
    "\n",
    "    assert train_binaries.shape == (shots, train_pulse_parameters.shape[0], 18)\n",
    "    assert test_binaries.shape == (shots, test_pulse_parameters.shape[0], 18)\n",
    "\n",
    "    train_data = sq.optimize.DataBundled(\n",
    "        control_params=sq.predefined.drag_feature_map(train_pulse_parameters),\n",
    "        unitaries=train_unitaries,\n",
    "        observables=train_binaries,\n",
    "        aux=train_expectation_values,\n",
    "    )\n",
    "\n",
    "    test_data = sq.optimize.DataBundled(\n",
    "        control_params=sq.predefined.drag_feature_map(test_pulse_parameters),\n",
    "        unitaries=test_unitaries,\n",
    "        observables=test_binaries,\n",
    "        aux=test_expectation_values,\n",
    "    )\n",
    "    # Return data ready to use.\n",
    "    return data_model, loaded_data, train_data, test_data\n",
    "\n",
    "data_model, loaded_data, train_data, test_data = get_data()"
   ]
  },
  {
   "cell_type": "markdown",
   "id": "d8ca02f4",
   "metadata": {},
   "source": [
    "## Routes to convert DNN model to BNN model\n",
    "\n",
    "`inspeqtor` provides serveral ways to convert DNN to BNN and user can also create the BNN from scratch too! For the predefined models or model defined using `flax`, `numpyro.contrib.module` implemented the function that transform the statistical model to probabilistic model with ease. Thus, `inspeqtor` provides a wrapper function `make_flax_probabilistic_graybox_model` that help convet user defined model into a proper probabilistic Graybox model. Here are examples of how to do it."
   ]
  },
  {
   "cell_type": "markdown",
   "id": "87c44855",
   "metadata": {},
   "source": [
    "For the `linen` models, user has to use `random_flax_module` for a `flax_module` argument to `make_flax_probabilistic_graybox_model` function. Similar to `models` version, the adapter function that transform model's output into expectation values has to be use appropiately."
   ]
  },
  {
   "cell_type": "code",
   "execution_count": 3,
   "id": "bb6c45e1",
   "metadata": {},
   "outputs": [],
   "source": [
    "from numpyro.contrib.module import random_flax_module\n",
    "\n",
    "base_model, adapter_fn, flax_module = (\n",
    "    sq.models.linen.UnitaryModel([10, 10]),\n",
    "    sq.probabilistic.toggling_unitary_to_expvals,\n",
    "    random_flax_module,\n",
    ")"
   ]
  },
  {
   "cell_type": "code",
   "execution_count": 13,
   "id": "bef6a86b",
   "metadata": {},
   "outputs": [],
   "source": [
    "base_model, adapter_fn, flax_module = (\n",
    "    sq.models.linen.WoModel([5], [5]),\n",
    "    sq.probabilistic.observable_to_expvals,\n",
    "    random_flax_module,\n",
    ")"
   ]
  },
  {
   "cell_type": "markdown",
   "id": "4ef86df2",
   "metadata": {},
   "source": [
    "<div class=\"admonition warning\">\n",
    "    <p class=\"admonition-title\">Warning</p>\n",
    "    <p>\n",
    "        For <code>nnx</code> models, use <code>sq.probabilistic.random_nnx_module</code> instead of <code>random_nnx_module</code> exported from <code>numpyro.contrib.module</code>. Because, we modified some behavior of the function for it to work properly with out predefined models. In the future, this might be change.\n",
    "    </p>\n",
    "</div>\n",
    "\n"
   ]
  },
  {
   "cell_type": "code",
   "execution_count": 7,
   "id": "f8138548",
   "metadata": {},
   "outputs": [],
   "source": [
    "from flax import nnx\n",
    "\n",
    "base_model, adapter_fn, flax_module = (\n",
    "    sq.models.nnx.UnitaryModel([8, 8], rngs=nnx.Rngs(0)),\n",
    "    sq.probabilistic.toggling_unitary_to_expvals,\n",
    "    sq.probabilistic.random_nnx_module,\n",
    ")"
   ]
  },
  {
   "cell_type": "code",
   "execution_count": 17,
   "id": "4036b75b",
   "metadata": {},
   "outputs": [],
   "source": [
    "base_model, adapter_fn, flax_module = (\n",
    "    sq.models.nnx.WoModel([8], [8], rngs=nnx.Rngs(0)),\n",
    "    sq.probabilistic.observable_to_expvals,\n",
    "    sq.probabilistic.random_nnx_module,\n",
    ")"
   ]
  },
  {
   "cell_type": "markdown",
   "id": "7ab20c5f",
   "metadata": {},
   "source": [
    "Finally, we can define `graybox` model with the choice of the DNN model. For the custom `linen` and `nnx` models, you have to define a corresponding `adapter_fn` as well."
   ]
  },
  {
   "cell_type": "code",
   "execution_count": 19,
   "id": "c41e0ffd",
   "metadata": {},
   "outputs": [],
   "source": [
    "graybox_model = sq.probabilistic.make_flax_probabilistic_graybox_model(\n",
    "    name=\"graybox\",\n",
    "    base_model=base_model,\n",
    "    model_prediction_to_expvals_fn=adapter_fn,\n",
    "    prior=sq.probabilistic.dist.Normal(0, 1),\n",
    "    flax_module=flax_module,\n",
    ")"
   ]
  },
  {
   "cell_type": "markdown",
   "id": "e46b8d6f",
   "metadata": {},
   "source": [
    "In the case that you need a completely in control of the model behavior. You can define the probabilistic mdoel from scratch too. You can do this using our primitive bayesian neural network components that design to be compatible with `numpyro`.\n",
    "\n",
    "Below is $\\hat{W}_{O}$-based model defined from scratch to mirror the `flax` implementation. Note that we use `sq.probabilistic.dense_layer` for our mathematical operation. The mental model of defining probabilistic model using our primitive as example below is that you can define it as operating on point prediction, while `numpyro` will handle the distribution part for you."
   ]
  },
  {
   "cell_type": "code",
   "execution_count": null,
   "id": "38084cec",
   "metadata": {},
   "outputs": [],
   "source": [
    "import typing\n",
    "from numpyro import distributions as dist\n",
    "\n",
    "\n",
    "def make_basic_blackbox_bnn_model(\n",
    "    name: str,\n",
    "    priors_fn: typing.Callable[\n",
    "        [str], dist.Distribution\n",
    "    ] = sq.probabilistic.default_priors_fn,\n",
    "    hidden_sizes_1: tuple[int, ...] = (),\n",
    "    hidden_sizes_2: tuple[int, ...] = (),\n",
    "    pauli_operators: tuple[str, ...] = (\"X\", \"Y\", \"Z\"),\n",
    "    NUM_UNITARY_PARAMS: int = 3,\n",
    "    NUM_DIAGONAL_PARAMS: int = 2,\n",
    "    unitary_activation_fn: typing.Callable[[jnp.ndarray], jnp.ndarray] = lambda x: 2\n",
    "    * jnp.pi\n",
    "    * jax.nn.hard_sigmoid(x),\n",
    "    diagonal_activation_fn: typing.Callable[[jnp.ndarray], jnp.ndarray] = lambda x: (\n",
    "        2 * jax.nn.hard_sigmoid(x)\n",
    "    )\n",
    "    - 1,\n",
    ") -> typing.Callable:\n",
    "    \"\"\"Function to create Blackbox BNN with custom activation functions for unitary and diagonal output\n",
    "\n",
    "    Args:\n",
    "        unitary_activation_fn: Activation function for unitary parameters.\n",
    "        diagonal_activation_fn: Activation function for diagonal parameters.\n",
    "        priors_fn: Function to generate priors for parameters.\n",
    "\n",
    "    Returns:\n",
    "        Callable: Blackbox BNN model function\n",
    "    \"\"\"\n",
    "\n",
    "    def blackbox_bnn_model(\n",
    "        x: jnp.ndarray,\n",
    "    ) -> dict[str, jnp.ndarray]:\n",
    "        # Main trunk network\n",
    "        shared_x = x\n",
    "        for i, hidden_size in enumerate(hidden_sizes_1):\n",
    "            shared_x = sq.probabilistic.dense_layer(\n",
    "                shared_x,\n",
    "                f\"{name}/shared/Dense_{i}\",\n",
    "                shared_x.shape[-1],\n",
    "                hidden_size,\n",
    "                priors_fn,\n",
    "            )\n",
    "            shared_x = jax.nn.relu(shared_x)\n",
    "\n",
    "        Wos: dict[str, jnp.ndarray] = dict()\n",
    "\n",
    "        for op in pauli_operators:\n",
    "            # Branch network for each Pauli operator\n",
    "            branch_x = jnp.copy(shared_x)\n",
    "\n",
    "            # Sub hidden layers for this operator\n",
    "            for i, hidden_size in enumerate(hidden_sizes_2):\n",
    "                branch_x = sq.probabilistic.dense_layer(\n",
    "                    branch_x,\n",
    "                    f\"{name}/Pauli_{op}/Dense_{i}\",\n",
    "                    branch_x.shape[-1],\n",
    "                    hidden_size,\n",
    "                    priors_fn,\n",
    "                )\n",
    "                branch_x = jax.nn.relu(branch_x)\n",
    "\n",
    "            # Unitary parameters output\n",
    "            unitary_params = sq.probabilistic.dense_layer(\n",
    "                branch_x,\n",
    "                f\"{name}/U_{op}\",\n",
    "                branch_x.shape[-1],\n",
    "                NUM_UNITARY_PARAMS,\n",
    "                priors_fn,\n",
    "            )\n",
    "            unitary_params = unitary_activation_fn(unitary_params)\n",
    "\n",
    "            # Diagonal parameters output\n",
    "            diag_params = sq.probabilistic.dense_layer(\n",
    "                branch_x,\n",
    "                f\"{name}/D_{op}\",\n",
    "                branch_x.shape[-1],\n",
    "                NUM_DIAGONAL_PARAMS,\n",
    "                priors_fn,\n",
    "            )\n",
    "            diag_params = diagonal_activation_fn(diag_params)\n",
    "\n",
    "            # Combine into Wo using your existing function\n",
    "            Wos[op] = sq.model.hermitian(unitary_params, diag_params)\n",
    "\n",
    "        numpyro.deterministic(f\"{name}/Wo\", Wos)  # type: ignore\n",
    "        return Wos\n",
    "\n",
    "    return blackbox_bnn_model\n",
    "\n",
    "\n",
    "def probabilistic_graybox_model(\n",
    "    control_parameters: jnp.ndarray,\n",
    "    unitaries: jnp.ndarray,\n",
    "    priors_fn=sq.probabilistic.default_priors_fn,\n",
    "):\n",
    "    # Inner broadcast.\n",
    "    samples_shape = control_parameters.shape[:-2]\n",
    "    unitaries = jnp.broadcast_to(unitaries, samples_shape + unitaries.shape[-3:])\n",
    "\n",
    "    model = make_basic_blackbox_bnn_model(\"graybox\", priors_fn=priors_fn)\n",
    "\n",
    "    output = model(control_parameters)\n",
    "\n",
    "    expectation_values = sq.probabilistic.observable_to_expvals(\n",
    "        output, unitaries\n",
    "    )\n",
    "\n",
    "    return expectation_values\n",
    "\n",
    "\n",
    "# Super simple prior function that will initial every parameter \n",
    "# to Normal distribution with zero mean and standand deviation of one.\n",
    "def prior_fn(param_name: str):\n",
    "    return dist.Normal(0, 1)\n",
    "\n",
    "\n",
    "graybox_model = partial(probabilistic_graybox_model, priors_fn=prior_fn)"
   ]
  },
  {
   "cell_type": "markdown",
   "id": "e7a4432a",
   "metadata": {},
   "source": [
    "You can inspect the model using `sq.probabilistic.get_trace`. Below, we visualize the trace of model using `nnx.display`. Note that `get_trace` handle the random key for you under the hood. User can suppliment their own key if desire."
   ]
  },
  {
   "cell_type": "code",
   "execution_count": 14,
   "id": "a6365cb2",
   "metadata": {},
   "outputs": [
    {
     "data": {
      "text/html": [
       "<script> (()=>{ if (customElements.get('treescope-container') === undefined) { class TreescopeContainer extends HTMLElement { constructor() { super(); this.attachShadow({mode: \"open\"}); this.defns = {}; this.state = {}; } } customElements.define(\"treescope-container\", TreescopeContainer); } if (customElements.get('treescope-run-here') === undefined) { class RunHere extends HTMLElement { constructor() { super() } connectedCallback() { const run = child => { const fn = new Function(child.textContent); child.textContent = \"\"; fn.call(this); this.remove(); }; const child = this.querySelector(\"script\"); if (child) { run(child); } else { new MutationObserver(()=>{ run(this.querySelector(\"script\")); }).observe(this, {childList: true}); } } } customElements.define(\"treescope-run-here\", RunHere); } })(); </script> <treescope-container class=\"treescope_out_520893d428df4c2787445edbcb4c609c\" style=\"display:block\"></treescope-container> <treescope-run-here><script type=\"application/octet-stream\"> const root = ( Array.from(document.getElementsByClassName( \"treescope_out_520893d428df4c2787445edbcb4c609c\")) .filter((elt) => !elt.dataset.setup) )[0]; root.dataset.setup = 1; const msg = document.createElement(\"span\"); msg.style = \"color: #cccccc; font-family: monospace;\"; msg.textContent = \"(Loading...)\"; root.state.loadingMsg = msg; root.shadowRoot.appendChild(msg); root.state.chain = new Promise((resolve, reject) => { const observer = new IntersectionObserver((entries) => { for (const entry of entries) { if (entry.isIntersecting) { resolve(); observer.disconnect(); return; } } }, {rootMargin: \"1000px\"}); window.setTimeout(() => { observer.observe(root); }, 0); }); root.state.deferring = false; const _insertNode = (node) => { for (let oldScript of node.querySelectorAll(\"script\")) { let newScript = document.createElement(\"script\"); newScript.type = oldScript.type; newScript.textContent = oldScript.textContent; oldScript.parentNode.replaceChild(newScript, oldScript); } if (root.state.loadingMsg) { root.state.loadingMsg.remove(); root.state.loadingMsg = null; } root.shadowRoot.appendChild(node); }; root.defns.insertContent = ((contentNode, compressed) => { if (compressed) { root.state.deferring = true; } if (root.state.deferring) { root.state.chain = (async () => { await root.state.chain; if (compressed) { const encoded = contentNode.textContent; const blob = new Blob([ Uint8Array.from(atob(encoded), (m) => m.codePointAt(0)) ]); const reader = blob.stream().pipeThrough( new DecompressionStream(\"deflate\") ).pipeThrough( new TextDecoderStream(\"utf-8\") ).getReader(); const parts = []; while (true) { const step = await reader.read(); if (step.done) { break; } parts.push(step.value); } const tpl = document.createElement('template'); tpl.innerHTML = parts.join(\"\"); _insertNode(tpl.content); } else { _insertNode(contentNode.content); } })(); } else { _insertNode(contentNode.content); } }); </script></treescope-run-here><div style=\"display:none\"> <script type=\"application/octet-stream\" >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</script> <treescope-run-here><script type=\"application/octet-stream\"> const root = ( Array.from(document.getElementsByClassName( \"treescope_out_520893d428df4c2787445edbcb4c609c\")) .filter((elt) => !elt.dataset['step0']) )[0]; root.dataset['step0'] = 1; root.defns.insertContent( this.parentNode.querySelector('script[type=\"application/octet-stream\"]'), true ); this.parentNode.remove(); </script></treescope-run-here> </div>"
      ],
      "text/plain": [
       "<IPython.core.display.HTML object>"
      ]
     },
     "metadata": {},
     "output_type": "display_data"
    },
    {
     "data": {
      "text/html": [
       "<div style=\"display:none\"> <script type=\"application/octet-stream\" >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</script> <treescope-run-here><script type=\"application/octet-stream\"> const root = ( Array.from(document.getElementsByClassName( \"treescope_out_520893d428df4c2787445edbcb4c609c\")) .filter((elt) => !elt.dataset['step1']) )[0]; root.dataset['step1'] = 1; root.defns.insertContent( this.parentNode.querySelector('script[type=\"application/octet-stream\"]'), true ); this.parentNode.remove(); </script></treescope-run-here> </div>"
      ],
      "text/plain": [
       "<IPython.core.display.HTML object>"
      ]
     },
     "metadata": {},
     "output_type": "display_data"
    }
   ],
   "source": [
    "from flax import nnx\n",
    "\n",
    "nnx.display(sq.probabilistic.get_trace(graybox_model)(test_data.control_params, test_data.unitaries))"
   ]
  },
  {
   "cell_type": "markdown",
   "id": "1f3ebdb9",
   "metadata": {},
   "source": [
    "## Stochastic Variational Inference of BNN\n",
    "\n",
    "Let import the goodies to use. "
   ]
  },
  {
   "cell_type": "code",
   "execution_count": 9,
   "id": "5cc9d5cd",
   "metadata": {},
   "outputs": [],
   "source": [
    "import numpyro\n",
    "from numpyro.infer import (\n",
    "    SVI,\n",
    "    TraceMeanField_ELBO,\n",
    ")\n",
    "from alive_progress import alive_it"
   ]
  },
  {
   "cell_type": "markdown",
   "id": "2e39f6e8",
   "metadata": {},
   "source": [
    "You will see below that probabilistic model (`model` variable) accept `graybox` which can be defined from multiple ways demonstrated previously. In the following code snippet, we also use custom guide and custom training loop to demonstrate the flexibility."
   ]
  },
  {
   "cell_type": "code",
   "execution_count": 20,
   "id": "4668ab2c",
   "metadata": {},
   "outputs": [
    {
     "name": "stdout",
     "output_type": "stream",
     "text": [
      "|████████████████████████████████████████| 10000/10000 [100%] in 41.4s (241.79/s\n"
     ]
    }
   ],
   "source": [
    "model = sq.probabilistic.make_probabilistic_model(\n",
    "    graybox_probabilistic_model=graybox_model,\n",
    ")\n",
    "\n",
    "guide = sq.probabilistic.auto_diagonal_normal_guide(\n",
    "    model,\n",
    "    train_data.control_params,\n",
    "    train_data.unitaries,\n",
    "    train_data.observables,\n",
    "    key=jax.random.key(0),\n",
    ")\n",
    "\n",
    "NUM_STEPS = 10_000\n",
    "optimizer = sq.optimize.get_default_optimizer(NUM_STEPS)\n",
    "\n",
    "svi = SVI(\n",
    "    model=model,\n",
    "    guide=guide,\n",
    "    optim=numpyro.optim.optax_to_numpyro(optimizer),\n",
    "    loss=TraceMeanField_ELBO(),\n",
    ")\n",
    "\n",
    "svi_state = svi.init(\n",
    "    rng_key=jax.random.key(0),\n",
    "    control_parameters=train_data.control_params,\n",
    "    unitaries=train_data.unitaries,\n",
    "    observables=train_data.observables,\n",
    ")\n",
    "\n",
    "update_fn = sq.probabilistic.make_update_fn(\n",
    "    svi,\n",
    "    control_parameters=train_data.control_params,\n",
    "    unitaries=train_data.unitaries,\n",
    "    observables=train_data.observables,\n",
    ")\n",
    "\n",
    "eval_fn = sq.probabilistic.make_evaluate_fn(\n",
    "    svi,\n",
    "    control_parameters=test_data.control_params,\n",
    "    unitaries=test_data.unitaries,\n",
    "    observables=test_data.observables,\n",
    ")\n",
    "\n",
    "eval_losses = []\n",
    "losses = []\n",
    "for i in alive_it(range(NUM_STEPS), force_tty=True):\n",
    "    svi_state, loss = jax.jit(update_fn)(svi_state)\n",
    "    eval_loss = jax.jit(eval_fn)(svi_state)\n",
    "    losses.append(loss)\n",
    "    eval_losses.append(eval_loss)\n",
    "\n",
    "svi_result = sq.probabilistic.SVIRunResult(\n",
    "    svi.get_params(svi_state), svi_state, jnp.stack(losses), jnp.stack(eval_losses)\n",
    ")"
   ]
  },
  {
   "cell_type": "markdown",
   "id": "ab98633e",
   "metadata": {},
   "source": [
    "## Visualize the Negative ELBO loss\n",
    "\n",
    "Belows, we rescale the loss with the number of the sample and plot it with `matplotlib`."
   ]
  },
  {
   "cell_type": "code",
   "execution_count": 11,
   "id": "5fac8f90",
   "metadata": {},
   "outputs": [],
   "source": [
    "import matplotlib.pyplot as plt"
   ]
  },
  {
   "cell_type": "code",
   "execution_count": 21,
   "id": "4b2d835e",
   "metadata": {},
   "outputs": [
    {
     "data": {
      "text/plain": [
       "<matplotlib.legend.Legend at 0x36b0b5e50>"
      ]
     },
     "execution_count": 21,
     "metadata": {},
     "output_type": "execute_result"
    },
    {
     "data": {
      "image/png": "[encoded data removed]",
      "text/plain": [
       "<Figure size 500x300 with 1 Axes>"
      ]
     },
     "metadata": {},
     "output_type": "display_data"
    }
   ],
   "source": [
    "rescaled_eval_losses = svi_result.eval_losses / test_data.control_params.shape[0]\n",
    "rescaled_train_losses = svi_result.losses / train_data.control_params.shape[0]\n",
    "\n",
    "iterations = jnp.arange(len(rescaled_train_losses))\n",
    "fig, ax = plt.subplots(figsize=(5, 3))\n",
    "ax = sq.visualization.plot_loss_with_moving_average(\n",
    "    iterations,\n",
    "    rescaled_eval_losses,\n",
    "    ax=ax,\n",
    "    color=\"#6366f1\",\n",
    "    label=\"moving average Test ELBO Loss\",\n",
    ")\n",
    "ax = sq.visualization.plot_loss_with_moving_average(\n",
    "    iterations,\n",
    "    rescaled_train_losses,\n",
    "    ax,\n",
    "    window=1,\n",
    "    annotate_at=[],\n",
    "    color=\"gray\",\n",
    "    alpha=0.25,\n",
    "    label=\"Train ELBO Loss\",\n",
    ")\n",
    "ax.set_yscale(\"log\")\n",
    "ax.set_xlabel(\"Iterations\")\n",
    "ax.set_ylabel(\"Rescaled ELBO Loss\")\n",
    "ax.legend()\n"
   ]
  }
 ],
 "metadata": {
  "kernelspec": {
   "display_name": "inspeqtor (3.13.0)",
   "language": "python",
   "name": "python3"
  },
  "language_info": {
   "codemirror_mode": {
    "name": "ipython",
    "version": 3
   },
   "file_extension": ".py",
   "mimetype": "text/x-python",
   "name": "python",
   "nbconvert_exporter": "python",
   "pygments_lexer": "ipython3",
   "version": "3.13.0"
  }
 },
 "nbformat": 4,
 "nbformat_minor": 5
}
