{
 "cells": [
  {
   "cell_type": "markdown",
   "id": "50cba288",
   "metadata": {},
   "source": [
    "# How to convert DNN into BNN\n",
    "\n",
    "<div class=\"admonition goal\">\n",
    "    <p class=\"admonition-title\">Goal</p>\n",
    "    <p>\n",
    "        This notebook aims to showcase how can you convert a statistical deep neural network that predict a point into a bayesian neural network that predict the distribution instead. \n",
    "    </p>\n",
    "</div>"
   ]
  },
  {
   "cell_type": "markdown",
   "id": "65c9015f",
   "metadata": {},
   "source": [
    "Let us start by importing libraries."
   ]
  },
  {
   "cell_type": "code",
   "execution_count": 1,
   "id": "33cc197c",
   "metadata": {},
   "outputs": [],
   "source": [
    "import jax\n",
    "import jax.numpy as jnp\n",
    "import inspeqtor.experimental as sq\n",
    "from functools import partial"
   ]
  },
  {
   "cell_type": "markdown",
   "id": "b63616ad",
   "metadata": {},
   "source": [
    "## Get synthetic dataset ready 🚀\n",
    "\n",
    "Here we are working with synthetic dataset. So, we need to define a simulator, perform an experiment, prepare the dataset for model training/inference, benchmarking. Luckily, `inspeqtor` provide a serveral helper functions and predefined noise model for user to quickly get stuff setting up."
   ]
  },
  {
   "cell_type": "code",
   "execution_count": 2,
   "id": "1c737776",
   "metadata": {},
   "outputs": [],
   "source": [
    "def get_data():\n",
    "    # This is the predefined noise model that we are going to work with.\n",
    "    data_model = sq.predefined.get_predefined_data_model_m1()\n",
    "\n",
    "    # Now, we use the noise model to performing the data using simulator.\n",
    "    exp_data, _, _, _ = sq.predefined.generate_experimental_data(\n",
    "        key=jax.random.key(0),\n",
    "        hamiltonian=data_model.total_hamiltonian,\n",
    "        sample_size=100,\n",
    "        strategy=sq.predefined.SimulationStrategy.SHOT,\n",
    "        get_qubit_information_fn=lambda: data_model.qubit_information,\n",
    "        get_control_sequence_fn=lambda: data_model.control_sequence,\n",
    "        method=sq.predefined.WhiteboxStrategy.TROTTER,\n",
    "        trotter_steps=10_000,\n",
    "    )\n",
    "\n",
    "    # Now we can prepare the dataset that ready to use.\n",
    "    whitebox = sq.physics.make_trotterization_solver(\n",
    "        data_model.ideal_hamiltonian,\n",
    "        data_model.control_sequence,\n",
    "        data_model.dt,\n",
    "        trotter_steps=10_000,\n",
    "    )\n",
    "    loaded_data = sq.predefined.prepare_data(\n",
    "        exp_data, data_model.control_sequence, whitebox\n",
    "    )\n",
    "\n",
    "    # Here, we just bundling things up for convinience uses.\n",
    "    key = jax.random.key(0)\n",
    "    key, random_split_key = jax.random.split(key)\n",
    "    (\n",
    "        train_pulse_parameters,\n",
    "        train_unitaries,\n",
    "        train_expectation_values,\n",
    "        test_pulse_parameters,\n",
    "        test_unitaries,\n",
    "        test_expectation_values,\n",
    "    ) = sq.utils.random_split(\n",
    "        random_split_key,\n",
    "        int(loaded_data.control_parameters.shape[0] * 0.1),  # Test size\n",
    "        loaded_data.control_parameters,\n",
    "        loaded_data.unitaries,\n",
    "        loaded_data.expectation_values,\n",
    "    )\n",
    "\n",
    "    shots = loaded_data.experiment_data.experiment_config.shots\n",
    "\n",
    "    train_binaries = sq.utils.eigenvalue_to_binary(\n",
    "        sq.utils.expectation_value_to_eigenvalue(train_expectation_values, shots)\n",
    "    )\n",
    "    train_binaries = jnp.swapaxes(jnp.swapaxes(train_binaries, 1, 2), 0, 1)\n",
    "\n",
    "    test_binaries = sq.utils.eigenvalue_to_binary(\n",
    "        sq.utils.expectation_value_to_eigenvalue(test_expectation_values, shots)\n",
    "    )\n",
    "\n",
    "    test_binaries = jnp.swapaxes(jnp.swapaxes(test_binaries, 1, 2), 0, 1)\n",
    "\n",
    "    assert train_binaries.shape == (shots, train_pulse_parameters.shape[0], 18)\n",
    "    assert test_binaries.shape == (shots, test_pulse_parameters.shape[0], 18)\n",
    "\n",
    "    train_data = sq.optimize.DataBundled(\n",
    "        control_params=sq.predefined.drag_feature_map(train_pulse_parameters),\n",
    "        unitaries=train_unitaries,\n",
    "        observables=train_binaries,\n",
    "        aux=train_expectation_values,\n",
    "    )\n",
    "\n",
    "    test_data = sq.optimize.DataBundled(\n",
    "        control_params=sq.predefined.drag_feature_map(test_pulse_parameters),\n",
    "        unitaries=test_unitaries,\n",
    "        observables=test_binaries,\n",
    "        aux=test_expectation_values,\n",
    "    )\n",
    "    # Return data ready to use.\n",
    "    return data_model, loaded_data, train_data, test_data\n",
    "\n",
    "data_model, loaded_data, train_data, test_data = get_data()"
   ]
  },
  {
   "cell_type": "markdown",
   "id": "d8ca02f4",
   "metadata": {},
   "source": [
    "## Routes to convert DNN model to BNN model\n",
    "\n",
    "`inspeqtor` provides serveral ways to convert DNN to BNN and user can also create the BNN from scratch too! For the predefined models or model defined using `flax`, `numpyro.contrib.module` implemented the function that transform the statistical model to probabilistic model with ease. Thus, `inspeqtor` provides a wrapper function `make_flax_probabilistic_graybox_model` that help convet user defined model into a proper probabilistic Graybox model. Here are examples of how to do it."
   ]
  },
  {
   "cell_type": "markdown",
   "id": "87c44855",
   "metadata": {},
   "source": [
    "For the `linen` models, user has to use `random_flax_module` for a `flax_module` argument to `make_flax_probabilistic_graybox_model` function. Similar to `models` version, the adapter function that transform model's output into expectation values has to be use appropiately."
   ]
  },
  {
   "cell_type": "code",
   "execution_count": 3,
   "id": "bb6c45e1",
   "metadata": {},
   "outputs": [],
   "source": [
    "from numpyro.contrib.module import random_flax_module\n",
    "\n",
    "base_model, adapter_fn, flax_module = (\n",
    "    sq.models.linen.UnitaryModel([10, 10]),\n",
    "    sq.models.toggling_unitary_to_expvals,\n",
    "    random_flax_module,\n",
    ")"
   ]
  },
  {
   "cell_type": "code",
   "execution_count": 4,
   "id": "bef6a86b",
   "metadata": {},
   "outputs": [],
   "source": [
    "base_model, adapter_fn, flax_module = (\n",
    "    sq.models.linen.WoModel([5], [5]),\n",
    "    sq.models.observable_to_expvals,\n",
    "    random_flax_module,\n",
    ")"
   ]
  },
  {
   "cell_type": "code",
   "execution_count": 5,
   "id": "f8138548",
   "metadata": {},
   "outputs": [],
   "source": [
    "from flax import nnx\n",
    "from numpyro.contrib.module import random_nnx_module\n",
    "\n",
    "base_model, adapter_fn, flax_module = (\n",
    "    sq.models.nnx.UnitaryModel([8, 8], rngs=nnx.Rngs(0)),\n",
    "    sq.models.toggling_unitary_to_expvals,\n",
    "    random_nnx_module,\n",
    ")"
   ]
  },
  {
   "cell_type": "code",
   "execution_count": 6,
   "id": "4036b75b",
   "metadata": {},
   "outputs": [],
   "source": [
    "base_model, adapter_fn, flax_module = (\n",
    "    sq.models.nnx.WoModel([8, 4, 6], [6, 4, 5], rngs=nnx.Rngs(0)),\n",
    "    sq.models.observable_to_expvals,\n",
    "    random_nnx_module,\n",
    ")"
   ]
  },
  {
   "cell_type": "markdown",
   "id": "7ab20c5f",
   "metadata": {},
   "source": [
    "Finally, we can define `graybox` model with the choice of the DNN model. For the custom `linen` and `nnx` models, you have to define a corresponding `adapter_fn` as well."
   ]
  },
  {
   "cell_type": "code",
   "execution_count": 7,
   "id": "c41e0ffd",
   "metadata": {},
   "outputs": [
    {
     "data": {
      "text/html": [
       "<script> (()=>{ if (customElements.get('treescope-container') === undefined) { class TreescopeContainer extends HTMLElement { constructor() { super(); this.attachShadow({mode: \"open\"}); this.defns = {}; this.state = {}; } } customElements.define(\"treescope-container\", TreescopeContainer); } if (customElements.get('treescope-run-here') === undefined) { class RunHere extends HTMLElement { constructor() { super() } connectedCallback() { const run = child => { const fn = new Function(child.textContent); child.textContent = \"\"; fn.call(this); this.remove(); }; const child = this.querySelector(\"script\"); if (child) { run(child); } else { new MutationObserver(()=>{ run(this.querySelector(\"script\")); }).observe(this, {childList: true}); } } } customElements.define(\"treescope-run-here\", RunHere); } })(); </script> <treescope-container class=\"treescope_out_96fd2d83fccc40f487bc83a730c22c55\" style=\"display:block\"></treescope-container> <treescope-run-here><script type=\"application/octet-stream\"> const root = ( Array.from(document.getElementsByClassName( \"treescope_out_96fd2d83fccc40f487bc83a730c22c55\")) .filter((elt) => !elt.dataset.setup) )[0]; root.dataset.setup = 1; const msg = document.createElement(\"span\"); msg.style = \"color: #cccccc; font-family: monospace;\"; msg.textContent = \"(Loading...)\"; root.state.loadingMsg = msg; root.shadowRoot.appendChild(msg); root.state.chain = new Promise((resolve, reject) => { const observer = new IntersectionObserver((entries) => { for (const entry of entries) { if (entry.isIntersecting) { resolve(); observer.disconnect(); return; } } }, {rootMargin: \"1000px\"}); window.setTimeout(() => { observer.observe(root); }, 0); }); root.state.deferring = false; const _insertNode = (node) => { for (let oldScript of node.querySelectorAll(\"script\")) { let newScript = document.createElement(\"script\"); newScript.type = oldScript.type; newScript.textContent = oldScript.textContent; oldScript.parentNode.replaceChild(newScript, oldScript); } if (root.state.loadingMsg) { root.state.loadingMsg.remove(); root.state.loadingMsg = null; } root.shadowRoot.appendChild(node); }; root.defns.insertContent = ((contentNode, compressed) => { if (compressed) { root.state.deferring = true; } if (root.state.deferring) { root.state.chain = (async () => { await root.state.chain; if (compressed) { const encoded = contentNode.textContent; const blob = new Blob([ Uint8Array.from(atob(encoded), (m) => m.codePointAt(0)) ]); const reader = blob.stream().pipeThrough( new DecompressionStream(\"deflate\") ).pipeThrough( new TextDecoderStream(\"utf-8\") ).getReader(); const parts = []; while (true) { const step = await reader.read(); if (step.done) { break; } parts.push(step.value); } const tpl = document.createElement('template'); tpl.innerHTML = parts.join(\"\"); _insertNode(tpl.content); } else { _insertNode(contentNode.content); } })(); } else { _insertNode(contentNode.content); } }); </script></treescope-run-here><div style=\"display:none\"> <script type=\"application/octet-stream\" >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</script> <treescope-run-here><script type=\"application/octet-stream\"> const root = ( Array.from(document.getElementsByClassName( \"treescope_out_96fd2d83fccc40f487bc83a730c22c55\")) .filter((elt) => !elt.dataset['step0']) )[0]; root.dataset['step0'] = 1; root.defns.insertContent( this.parentNode.querySelector('script[type=\"application/octet-stream\"]'), true ); this.parentNode.remove(); </script></treescope-run-here> </div>"
      ],
      "text/plain": [
       "<IPython.core.display.HTML object>"
      ]
     },
     "metadata": {},
     "output_type": "display_data"
    },
    {
     "data": {
      "text/html": [
       "<div style=\"display:none\"> <script type=\"application/octet-stream\" >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</script> <treescope-run-here><script type=\"application/octet-stream\"> const root = ( Array.from(document.getElementsByClassName( \"treescope_out_96fd2d83fccc40f487bc83a730c22c55\")) .filter((elt) => !elt.dataset['step1']) )[0]; root.dataset['step1'] = 1; root.defns.insertContent( this.parentNode.querySelector('script[type=\"application/octet-stream\"]'), true ); this.parentNode.remove(); </script></treescope-run-here> </div>"
      ],
      "text/plain": [
       "<IPython.core.display.HTML object>"
      ]
     },
     "metadata": {},
     "output_type": "display_data"
    }
   ],
   "source": [
    "graybox_model = sq.probabilistic.make_flax_probabilistic_graybox_model(\n",
    "    name=\"graybox\",\n",
    "    base_model=base_model,\n",
    "    adapter_fn=adapter_fn,\n",
    "    prior=sq.probabilistic.dist.Normal(0, 1),\n",
    "    flax_module=flax_module,\n",
    ")\n",
    "\n",
    "nnx.display(base_model)"
   ]
  },
  {
   "cell_type": "markdown",
   "id": "e46b8d6f",
   "metadata": {},
   "source": [
    "In the case that you need a completely in control of the model behavior. You can define the probabilistic mdoel from scratch too. You can do this using our primitive bayesian neural network components that design to be compatible with `numpyro`.\n",
    "\n",
    "Below is $\\hat{W}_{O}$-based model defined from scratch to mirror the `flax` implementation. Note that we use `sq.probabilistic.dense_layer` for our mathematical operation. The mental model of defining probabilistic model using our primitive as example below is that you can define it as operating on point prediction, while `numpyro` will handle the distribution part for you."
   ]
  },
  {
   "cell_type": "code",
   "execution_count": 10,
   "id": "38084cec",
   "metadata": {},
   "outputs": [],
   "source": [
    "import typing\n",
    "from numpyro import distributions as dist\n",
    "\n",
    "\n",
    "def make_basic_blackbox_bnn_model(\n",
    "    name: str,\n",
    "    priors_fn: typing.Callable[\n",
    "        [str], dist.Distribution\n",
    "    ] = sq.probabilistic.default_priors_fn,\n",
    "    hidden_sizes_1: tuple[int, ...] = (),\n",
    "    hidden_sizes_2: tuple[int, ...] = (),\n",
    "    pauli_operators: tuple[str, ...] = (\"X\", \"Y\", \"Z\"),\n",
    "    NUM_UNITARY_PARAMS: int = 3,\n",
    "    NUM_DIAGONAL_PARAMS: int = 2,\n",
    "    unitary_activation_fn: typing.Callable[[jnp.ndarray], jnp.ndarray] = lambda x: 2\n",
    "    * jnp.pi\n",
    "    * jax.nn.hard_sigmoid(x),\n",
    "    diagonal_activation_fn: typing.Callable[[jnp.ndarray], jnp.ndarray] = lambda x: (\n",
    "        2 * jax.nn.hard_sigmoid(x)\n",
    "    )\n",
    "    - 1,\n",
    ") -> typing.Callable:\n",
    "    \"\"\"Function to create Blackbox BNN with custom activation functions for unitary and diagonal output\n",
    "\n",
    "    Args:\n",
    "        unitary_activation_fn: Activation function for unitary parameters.\n",
    "        diagonal_activation_fn: Activation function for diagonal parameters.\n",
    "        priors_fn: Function to generate priors for parameters.\n",
    "\n",
    "    Returns:\n",
    "        Callable: Blackbox BNN model function\n",
    "    \"\"\"\n",
    "\n",
    "    def blackbox_bnn_model(\n",
    "        x: jnp.ndarray,\n",
    "    ) -> dict[str, jnp.ndarray]:\n",
    "        # Main trunk network\n",
    "        shared_x = x\n",
    "        for i, hidden_size in enumerate(hidden_sizes_1):\n",
    "            shared_x = sq.probabilistic.dense_layer(\n",
    "                shared_x,\n",
    "                f\"{name}/shared/Dense_{i}\",\n",
    "                shared_x.shape[-1],\n",
    "                hidden_size,\n",
    "                priors_fn,\n",
    "            )\n",
    "            shared_x = jax.nn.relu(shared_x)\n",
    "\n",
    "        Wos: dict[str, jnp.ndarray] = dict()\n",
    "\n",
    "        for op in pauli_operators:\n",
    "            # Branch network for each Pauli operator\n",
    "            branch_x = jnp.copy(shared_x)\n",
    "\n",
    "            # Sub hidden layers for this operator\n",
    "            for i, hidden_size in enumerate(hidden_sizes_2):\n",
    "                branch_x = sq.probabilistic.dense_layer(\n",
    "                    branch_x,\n",
    "                    f\"{name}/Pauli_{op}/Dense_{i}\",\n",
    "                    branch_x.shape[-1],\n",
    "                    hidden_size,\n",
    "                    priors_fn,\n",
    "                )\n",
    "                branch_x = jax.nn.relu(branch_x)\n",
    "\n",
    "            # Unitary parameters output\n",
    "            unitary_params = sq.probabilistic.dense_layer(\n",
    "                branch_x,\n",
    "                f\"{name}/U_{op}\",\n",
    "                branch_x.shape[-1],\n",
    "                NUM_UNITARY_PARAMS,\n",
    "                priors_fn,\n",
    "            )\n",
    "            unitary_params = unitary_activation_fn(unitary_params)\n",
    "\n",
    "            # Diagonal parameters output\n",
    "            diag_params = sq.probabilistic.dense_layer(\n",
    "                branch_x,\n",
    "                f\"{name}/D_{op}\",\n",
    "                branch_x.shape[-1],\n",
    "                NUM_DIAGONAL_PARAMS,\n",
    "                priors_fn,\n",
    "            )\n",
    "            diag_params = diagonal_activation_fn(diag_params)\n",
    "\n",
    "            # Combine into Wo using your existing function\n",
    "            Wos[op] = sq.model.hermitian(unitary_params, diag_params)\n",
    "\n",
    "        numpyro.deterministic(f\"{name}/Wo\", Wos)  # type: ignore\n",
    "        return Wos\n",
    "\n",
    "    return blackbox_bnn_model\n",
    "\n",
    "\n",
    "def probabilistic_graybox_model(\n",
    "    control_parameters: jnp.ndarray,\n",
    "    unitaries: jnp.ndarray,\n",
    "    priors_fn=sq.probabilistic.default_priors_fn,\n",
    "):\n",
    "    # Inner broadcast.\n",
    "    samples_shape = control_parameters.shape[:-2]\n",
    "    unitaries = jnp.broadcast_to(unitaries, samples_shape + unitaries.shape[-3:])\n",
    "\n",
    "    model = make_basic_blackbox_bnn_model(\"graybox\", priors_fn=priors_fn)\n",
    "\n",
    "    output = model(control_parameters)\n",
    "\n",
    "    expectation_values = sq.probabilistic.observable_to_expvals(\n",
    "        output, unitaries\n",
    "    )\n",
    "\n",
    "    return expectation_values\n",
    "\n",
    "\n",
    "# Super simple prior function that will initial every parameter \n",
    "# to Normal distribution with zero mean and standand deviation of one.\n",
    "def prior_fn(param_name: str):\n",
    "    return dist.Normal(0, 1)\n",
    "\n",
    "\n",
    "graybox_model = partial(probabilistic_graybox_model, priors_fn=prior_fn)"
   ]
  },
  {
   "cell_type": "markdown",
   "id": "e7a4432a",
   "metadata": {},
   "source": [
    "You can inspect the model using `sq.probabilistic.get_trace`. Below, we visualize the trace of model using `nnx.display`. Note that `get_trace` handle the random key for you under the hood. User can suppliment their own key if desire."
   ]
  },
  {
   "cell_type": "code",
   "execution_count": 21,
   "id": "a6365cb2",
   "metadata": {},
   "outputs": [
    {
     "data": {
      "text/html": [
       "<script> (()=>{ if (customElements.get('treescope-container') === undefined) { class TreescopeContainer extends HTMLElement { constructor() { super(); this.attachShadow({mode: \"open\"}); this.defns = {}; this.state = {}; } } customElements.define(\"treescope-container\", TreescopeContainer); } if (customElements.get('treescope-run-here') === undefined) { class RunHere extends HTMLElement { constructor() { super() } connectedCallback() { const run = child => { const fn = new Function(child.textContent); child.textContent = \"\"; fn.call(this); this.remove(); }; const child = this.querySelector(\"script\"); if (child) { run(child); } else { new MutationObserver(()=>{ run(this.querySelector(\"script\")); }).observe(this, {childList: true}); } } } customElements.define(\"treescope-run-here\", RunHere); } })(); </script> <treescope-container class=\"treescope_out_f67b57dd8abd4da2a3c15666e270b5e8\" style=\"display:block\"></treescope-container> <treescope-run-here><script type=\"application/octet-stream\"> const root = ( Array.from(document.getElementsByClassName( \"treescope_out_f67b57dd8abd4da2a3c15666e270b5e8\")) .filter((elt) => !elt.dataset.setup) )[0]; root.dataset.setup = 1; const msg = document.createElement(\"span\"); msg.style = \"color: #cccccc; font-family: monospace;\"; msg.textContent = \"(Loading...)\"; root.state.loadingMsg = msg; root.shadowRoot.appendChild(msg); root.state.chain = new Promise((resolve, reject) => { const observer = new IntersectionObserver((entries) => { for (const entry of entries) { if (entry.isIntersecting) { resolve(); observer.disconnect(); return; } } }, {rootMargin: \"1000px\"}); window.setTimeout(() => { observer.observe(root); }, 0); }); root.state.deferring = false; const _insertNode = (node) => { for (let oldScript of node.querySelectorAll(\"script\")) { let newScript = document.createElement(\"script\"); newScript.type = oldScript.type; newScript.textContent = oldScript.textContent; oldScript.parentNode.replaceChild(newScript, oldScript); } if (root.state.loadingMsg) { root.state.loadingMsg.remove(); root.state.loadingMsg = null; } root.shadowRoot.appendChild(node); }; root.defns.insertContent = ((contentNode, compressed) => { if (compressed) { root.state.deferring = true; } if (root.state.deferring) { root.state.chain = (async () => { await root.state.chain; if (compressed) { const encoded = contentNode.textContent; const blob = new Blob([ Uint8Array.from(atob(encoded), (m) => m.codePointAt(0)) ]); const reader = blob.stream().pipeThrough( new DecompressionStream(\"deflate\") ).pipeThrough( new TextDecoderStream(\"utf-8\") ).getReader(); const parts = []; while (true) { const step = await reader.read(); if (step.done) { break; } parts.push(step.value); } const tpl = document.createElement('template'); tpl.innerHTML = parts.join(\"\"); _insertNode(tpl.content); } else { _insertNode(contentNode.content); } })(); } else { _insertNode(contentNode.content); } }); </script></treescope-run-here><div style=\"display:none\"> <script type=\"application/octet-stream\" >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</script> <treescope-run-here><script type=\"application/octet-stream\"> const root = ( Array.from(document.getElementsByClassName( \"treescope_out_f67b57dd8abd4da2a3c15666e270b5e8\")) .filter((elt) => !elt.dataset['step0']) )[0]; root.dataset['step0'] = 1; root.defns.insertContent( this.parentNode.querySelector('script[type=\"application/octet-stream\"]'), true ); this.parentNode.remove(); </script></treescope-run-here> </div>"
      ],
      "text/plain": [
       "<IPython.core.display.HTML object>"
      ]
     },
     "metadata": {},
     "output_type": "display_data"
    },
    {
     "data": {
      "text/html": [
       "<div style=\"display:none\"> <script type=\"application/octet-stream\" >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</script> <treescope-run-here><script type=\"application/octet-stream\"> const root = ( Array.from(document.getElementsByClassName( \"treescope_out_f67b57dd8abd4da2a3c15666e270b5e8\")) .filter((elt) => !elt.dataset['step1']) )[0]; root.dataset['step1'] = 1; root.defns.insertContent( this.parentNode.querySelector('script[type=\"application/octet-stream\"]'), true ); this.parentNode.remove(); </script></treescope-run-here> </div>"
      ],
      "text/plain": [
       "<IPython.core.display.HTML object>"
      ]
     },
     "metadata": {},
     "output_type": "display_data"
    }
   ],
   "source": [
    "from flax import nnx\n",
    "\n",
    "nnx.display(sq.probabilistic.get_trace(graybox_model)(test_data.control_params, test_data.unitaries))"
   ]
  },
  {
   "cell_type": "markdown",
   "id": "1f3ebdb9",
   "metadata": {},
   "source": [
    "## Stochastic Variational Inference of BNN\n",
    "\n",
    "Let import the goodies to use. "
   ]
  },
  {
   "cell_type": "code",
   "execution_count": 14,
   "id": "5cc9d5cd",
   "metadata": {},
   "outputs": [],
   "source": [
    "import numpyro\n",
    "from numpyro.infer import (\n",
    "    SVI,\n",
    "    TraceMeanField_ELBO,\n",
    ")\n",
    "from alive_progress import alive_it"
   ]
  },
  {
   "cell_type": "markdown",
   "id": "2e39f6e8",
   "metadata": {},
   "source": [
    "You will see below that probabilistic model (`model` variable) accept `graybox` which can be defined from multiple ways demonstrated previously. In the following code snippet, we also use custom guide and custom training loop to demonstrate the flexibility."
   ]
  },
  {
   "cell_type": "code",
   "execution_count": 15,
   "id": "4668ab2c",
   "metadata": {},
   "outputs": [
    {
     "name": "stdout",
     "output_type": "stream",
     "text": [
      "|████████████████████████████████████████| 10000/10000 [100%] in 51.1s (195.84/s\n"
     ]
    }
   ],
   "source": [
    "model = sq.probabilistic.make_probabilistic_model(\n",
    "    predictive_model=graybox_model,\n",
    ")\n",
    "\n",
    "guide = sq.probabilistic.auto_diagonal_normal_guide(\n",
    "    model,\n",
    "    train_data.control_params,\n",
    "    train_data.unitaries,\n",
    "    train_data.observables,\n",
    "    key=jax.random.key(0),\n",
    ")\n",
    "\n",
    "NUM_STEPS = 10_000\n",
    "optimizer = sq.optimize.get_default_optimizer(NUM_STEPS)\n",
    "\n",
    "svi = SVI(\n",
    "    model=model,\n",
    "    guide=guide,\n",
    "    optim=numpyro.optim.optax_to_numpyro(optimizer),\n",
    "    loss=TraceMeanField_ELBO(),\n",
    ")\n",
    "\n",
    "svi_state = svi.init(\n",
    "    rng_key=jax.random.key(0),\n",
    "    control_parameters=train_data.control_params,\n",
    "    unitaries=train_data.unitaries,\n",
    "    observables=train_data.observables,\n",
    ")\n",
    "\n",
    "update_fn = sq.probabilistic.make_update_fn(\n",
    "    svi,\n",
    "    control_parameters=train_data.control_params,\n",
    "    unitaries=train_data.unitaries,\n",
    "    observables=train_data.observables,\n",
    ")\n",
    "\n",
    "eval_fn = sq.probabilistic.make_evaluate_fn(\n",
    "    svi,\n",
    "    control_parameters=test_data.control_params,\n",
    "    unitaries=test_data.unitaries,\n",
    "    observables=test_data.observables,\n",
    ")\n",
    "\n",
    "eval_losses = []\n",
    "losses = []\n",
    "for i in alive_it(range(NUM_STEPS), force_tty=True):\n",
    "    svi_state, loss = jax.jit(update_fn)(svi_state)\n",
    "    eval_loss = jax.jit(eval_fn)(svi_state)\n",
    "    losses.append(loss)\n",
    "    eval_losses.append(eval_loss)\n",
    "\n",
    "svi_result = sq.probabilistic.SVIRunResult(\n",
    "    svi.get_params(svi_state), svi_state, jnp.stack(losses), jnp.stack(eval_losses)\n",
    ")"
   ]
  },
  {
   "cell_type": "markdown",
   "id": "ab98633e",
   "metadata": {},
   "source": [
    "## Visualize the Negative ELBO loss\n",
    "\n",
    "Belows, we rescale the loss with the number of the sample and plot it with `matplotlib`."
   ]
  },
  {
   "cell_type": "code",
   "execution_count": 16,
   "id": "5fac8f90",
   "metadata": {},
   "outputs": [],
   "source": [
    "import matplotlib.pyplot as plt"
   ]
  },
  {
   "cell_type": "code",
   "execution_count": 17,
   "id": "4b2d835e",
   "metadata": {},
   "outputs": [
    {
     "data": {
      "text/plain": [
       "<matplotlib.legend.Legend at 0x352127b60>"
      ]
     },
     "execution_count": 17,
     "metadata": {},
     "output_type": "execute_result"
    },
    {
     "data": {
      "image/png": "[encoded data removed]",
      "text/plain": [
       "<Figure size 500x300 with 1 Axes>"
      ]
     },
     "metadata": {},
     "output_type": "display_data"
    }
   ],
   "source": [
    "rescaled_eval_losses = svi_result.eval_losses / test_data.control_params.shape[0]\n",
    "rescaled_train_losses = svi_result.losses / train_data.control_params.shape[0]\n",
    "\n",
    "iterations = jnp.arange(len(rescaled_train_losses))\n",
    "fig, ax = plt.subplots(figsize=(5, 3))\n",
    "ax = sq.visualization.plot_loss_with_moving_average(\n",
    "    iterations,\n",
    "    rescaled_eval_losses,\n",
    "    ax=ax,\n",
    "    color=\"#6366f1\",\n",
    "    label=\"moving average Test ELBO Loss\",\n",
    ")\n",
    "ax = sq.visualization.plot_loss_with_moving_average(\n",
    "    iterations,\n",
    "    rescaled_train_losses,\n",
    "    ax,\n",
    "    window=1,\n",
    "    annotate_at=[],\n",
    "    color=\"gray\",\n",
    "    alpha=0.25,\n",
    "    label=\"Train ELBO Loss\",\n",
    ")\n",
    "ax.set_yscale(\"log\")\n",
    "ax.set_xlabel(\"Iterations\")\n",
    "ax.set_ylabel(\"Rescaled ELBO Loss\")\n",
    "ax.legend()\n"
   ]
  },
  {
   "cell_type": "code",
   "execution_count": 18,
   "id": "7f746dcd",
   "metadata": {},
   "outputs": [],
   "source": [
    "import tempfile\n",
    "from pathlib import Path\n",
    "\n",
    "\n",
    "with tempfile.TemporaryDirectory() as tmpdir:\n",
    "\n",
    "    model_path = Path(tmpdir)\n",
    "\n",
    "    # Create the path with parents if not existed already\n",
    "    model_path.mkdir(parents=True, exist_ok=True)\n",
    "\n",
    "    model_state = sq.models.ModelData(\n",
    "        params=svi_result.params,\n",
    "        config={}\n",
    "    )\n",
    "\n",
    "    model_state.to_file(model_path /\"model.json\")\n",
    "\n",
    "    reloaded_model = sq.models.ModelData.from_file(model_path / \"model.json\")\n",
    "\n",
    "assert reloaded_model == model_state"
   ]
  }
 ],
 "metadata": {
  "kernelspec": {
   "display_name": "inspeqtor (3.13.0)",
   "language": "python",
   "name": "python3"
  },
  "language_info": {
   "codemirror_mode": {
    "name": "ipython",
    "version": 3
   },
   "file_extension": ".py",
   "mimetype": "text/x-python",
   "name": "python",
   "nbconvert_exporter": "python",
   "pygments_lexer": "ipython3",
   "version": "3.13.0"
  }
 },
 "nbformat": 4,
 "nbformat_minor": 5
}
