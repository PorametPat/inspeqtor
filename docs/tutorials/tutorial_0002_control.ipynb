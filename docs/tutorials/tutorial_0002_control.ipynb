{
 "cells": [
  {
   "cell_type": "markdown",
   "id": "99961728",
   "metadata": {},
   "source": [
    "# Control Action\n",
    "\n",
    "<div class=\"admonition note\">\n",
    "    <p class=\"admonition-title\">TODO</p>\n",
    "    <p>\n",
    "        This tutorial will show how to define, use, and custom the <code>sq.control</code> module.\n",
    "        <ul>\n",
    "            <li>How to define custom control</li>\n",
    "            <li>How to save and load custom control using control reader</li>\n",
    "        </ul>\n",
    "    </p>\n",
    "</div>\n"
   ]
  },
  {
   "cell_type": "markdown",
   "id": "f162b3e5",
   "metadata": {},
   "source": []
  }
 ],
 "metadata": {
  "kernelspec": {
   "display_name": "inspeqtor (3.13.0)",
   "language": "python",
   "name": "python3"
  },
  "language_info": {
   "name": "python",
   "version": "3.13.0"
  }
 },
 "nbformat": 4,
 "nbformat_minor": 5
}
