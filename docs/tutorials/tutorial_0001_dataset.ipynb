{
 "cells": [
  {
   "cell_type": "markdown",
   "id": "f1e92998",
   "metadata": {},
   "source": [
    "# Dataset Creating\n",
    "\n",
    "<div class=\"admonition goal\">\n",
    "    <p class=\"admonition-title\">Goal</p>\n",
    "    <p>\n",
    "        Before any characterization and control calibration, we have to gather the data for us to extract information about the target quantum device first. The central object for holding data for us is <code>ExperimentData</code> instance. It is responsible for saving and loading dataset to and from disk. Furthermore, it allows us to organize the dataset better. Thus, the goal of this tutorial is to create the instance of <code>ExperimentData</code>.\n",
    "    </p>\n",
    "</div>"
   ]
  },
  {
   "cell_type": "markdown",
   "id": "0f1907c6",
   "metadata": {},
   "source": [
    "First and foremost, let's import some package that necessary for us to use for our purpose. We also ignore the User warning raised by the ODE solver."
   ]
  },
  {
   "cell_type": "code",
   "execution_count": 1,
   "id": "3ee0562d",
   "metadata": {},
   "outputs": [],
   "source": [
    "import warnings\n",
    "warnings.filterwarnings('ignore', category=UserWarning)"
   ]
  },
  {
   "cell_type": "code",
   "execution_count": 2,
   "id": "87dcd9ca",
   "metadata": {},
   "outputs": [],
   "source": [
    "import jax\n",
    "import jax.numpy as jnp\n",
    "import inspeqtor.experimental as sq\n",
    "import pandas as pd\n",
    "\n",
    "key = jax.random.key(0)"
   ]
  },
  {
   "cell_type": "markdown",
   "id": "fc9f4856",
   "metadata": {},
   "source": [
    "If you do not familar with `jax.random.key`, we refer to their [document](https://docs.jax.dev/en/latest/random-numbers.html). But for brevity, you can think of it as how `jax` generate the pesudo random number."
   ]
  },
  {
   "cell_type": "markdown",
   "id": "01e37bef",
   "metadata": {},
   "source": [
    "## Prepare experiments\n",
    "\n",
    "We break the experiment preparation phase into the following steps.\n",
    "\n",
    "- Gathering \"prior\" information about the quantum device.\n",
    "- Defining the control action.\n",
    "\n",
    "### Quantum device specification\n",
    "\n",
    "In `inspeqtor`, we focus on characterizing quantum device. In the finest level, user most likely want to perform control calibration on individual qubit which is part of the full system. Thus, we provide a dedicated `dataclass` responsible for holding \"prior\" information about the qubit. The information is often necessary for constructing the subsystem Hamiltonian which is used for open-loop optimization. Below is the code snippet to initialize [`QubitInformation`](../../api/data#src.inspeqtor.experimental.data.QubitInformation) object."
   ]
  },
  {
   "cell_type": "code",
   "execution_count": 3,
   "id": "47d8d9f3",
   "metadata": {},
   "outputs": [
    {
     "data": {
      "text/plain": [
       "QubitInformation(unit='GHz', qubit_idx=0, anharmonicity=-0.2, frequency=5.0, drive_strength=0.1, date='2025-08-24 14:03:48')"
      ]
     },
     "execution_count": 3,
     "metadata": {},
     "output_type": "execute_result"
    }
   ],
   "source": [
    "qubit_info = sq.data.QubitInformation(\n",
    "    unit=\"GHz\",\n",
    "    qubit_idx=0,\n",
    "    anharmonicity=-0.2,\n",
    "    frequency=5.0,\n",
    "    drive_strength=0.1,\n",
    ")\n",
    "\n",
    "qubit_info"
   ]
  },
  {
   "cell_type": "markdown",
   "id": "36efa8d5",
   "metadata": {},
   "source": [
    "### Define the control\n",
    "\n",
    "For composability of control action, we let user define an \"atomic\" control action by inheriting `Control` dataclass, then compose them together via `ControlSequence` class. Below is an example of defining the total control action with only single predefined `DragPulseV2`."
   ]
  },
  {
   "cell_type": "code",
   "execution_count": null,
   "id": "0b24f5d1",
   "metadata": {},
   "outputs": [],
   "source": [
    "total_length = 320\n",
    "dt = 2 / 9\n",
    "pulse = sq.predefined.DragPulseV2(\n",
    "    duration=total_length,\n",
    "    qubit_drive_strength=qubit_info.drive_strength,\n",
    "    dt=2 / 9,\n",
    "    max_amp=0.5,\n",
    "    min_theta=0,\n",
    "    max_theta=2 * jnp.pi,\n",
    "    min_beta=-5.0,\n",
    "    max_beta=5.0,\n",
    ")\n",
    "\n",
    "control_sequence = sq.control.ControlSequence(\n",
    "    controls=[\n",
    "        pulse,\n",
    "    ],\n",
    "    pulse_length_dt=total_length,\n",
    ")"
   ]
  },
  {
   "cell_type": "markdown",
   "id": "1f4aca72",
   "metadata": {},
   "source": [
    "By default, `ControlSequence` performs validation during the object instantiation to detect early bugs. We can see our control in action by sample from it."
   ]
  },
  {
   "cell_type": "code",
   "execution_count": 5,
   "id": "45969aae",
   "metadata": {},
   "outputs": [
    {
     "data": {
      "text/plain": [
       "[{'theta': Array(4.3855351, dtype=float64),\n",
       "  'beta': Array(-4.46933642, dtype=float64)}]"
      ]
     },
     "execution_count": 5,
     "metadata": {},
     "output_type": "execute_result"
    }
   ],
   "source": [
    "key, subkey = jax.random.split(key)\n",
    "params = control_sequence.sample_params(subkey)\n",
    "params"
   ]
  },
  {
   "cell_type": "markdown",
   "id": "477ea56e",
   "metadata": {},
   "source": [
    "We can also visualize the control sequence waveform by"
   ]
  },
  {
   "cell_type": "code",
   "execution_count": 6,
   "id": "69696dc7",
   "metadata": {},
   "outputs": [
    {
     "data": {
      "image/png": "[encoded data removed]",
      "text/plain": [
       "<Figure size 600x300 with 1 Axes>"
      ]
     },
     "metadata": {},
     "output_type": "display_data"
    }
   ],
   "source": [
    "import matplotlib.pyplot as plt\n",
    "\n",
    "fig, ax = plt.subplots(figsize=(6, 3))\n",
    "\n",
    "t_eval = jnp.linspace(0, total_length, total_length)\n",
    "\n",
    "sq.visualization.plot_control_envelope(\n",
    "    control_sequence.get_waveform(params), t_eval, ax\n",
    ")"
   ]
  },
  {
   "cell_type": "markdown",
   "id": "32ff5947",
   "metadata": {},
   "source": [
    "## Perform experiment\n",
    "\n",
    "Now, we are ready to perform an experiment on the quantum device. In this tutorial, we will use a local simulator to generate the data for us. In fact, most of the time, we might want to work on the local before performing experiment on the quantum device without confidence. \n",
    "\n",
    "Either ways, `inspeqtor` provides a unified and flexible pipeline for user to populate the data and store it with `ExperimentData` object. For now, let us shift our attention a bit to the quantum device simulator. \n",
    "\n",
    "As an example, we define our device as a single transmon qubit. We can also rotate the Hamiltonian with a frame as follows."
   ]
  },
  {
   "cell_type": "code",
   "execution_count": 7,
   "id": "deabeebb",
   "metadata": {},
   "outputs": [],
   "source": [
    "from functools import partial\n",
    "\n",
    "signal_fn = sq.physics.signal_func_v3(\n",
    "    get_envelope=control_sequence.get_envelope,\n",
    "    drive_frequency=qubit_info.frequency,\n",
    "    dt=dt,\n",
    ")\n",
    "\n",
    "hamiltonian = partial(\n",
    "    sq.predefined.transmon_hamiltonian, qubit_info=qubit_info, signal=signal_fn\n",
    ")\n",
    "frame = (jnp.pi * qubit_info.frequency) * sq.constant.Z\n",
    "hamiltonian = sq.physics.auto_rotating_frame_hamiltonian(hamiltonian, frame=frame)"
   ]
  },
  {
   "cell_type": "markdown",
   "id": "40ee3b94",
   "metadata": {},
   "source": [
    "Then, we can solve the Schrodinger equation using `sq.physics.solver`. By itself, `sq.physics.solver` is a function of multiple arguments that will solve the system dynamics on the call. But most of the time, we just want to solve the dynamics of the system with different control parameters, and keep the rest fixed. So the common pattern of using `sq.physics.solver` is to used it with `partial` as follows. "
   ]
  },
  {
   "cell_type": "code",
   "execution_count": 8,
   "id": "28ba2de2",
   "metadata": {},
   "outputs": [],
   "source": [
    "solver = partial(\n",
    "    sq.physics.solver,\n",
    "    t_eval=t_eval * dt, # nanosecond.\n",
    "    hamiltonian=hamiltonian,\n",
    "    y0=jnp.eye(2, dtype=jnp.complex_),\n",
    "    t0=0.0, # nanosecond.\n",
    "    t1=total_length * dt, # nanosecond.\n",
    ")"
   ]
  },
  {
   "cell_type": "markdown",
   "id": "cc4dce85",
   "metadata": {},
   "source": [
    "As per `inspeqtor` specification, the `hamiltonian` function required by `solver` should be a function of two arguments. The first argument can be arbitary while the second argument should be the a scalar of time. "
   ]
  },
  {
   "cell_type": "code",
   "execution_count": 9,
   "id": "b9a435e7",
   "metadata": {},
   "outputs": [
    {
     "data": {
      "text/plain": [
       "Array([[0.00000000e+00+0.j, 1.06878303e-05+0.j],\n",
       "       [1.06878303e-05+0.j, 0.00000000e+00+0.j]], dtype=complex128)"
      ]
     },
     "execution_count": 9,
     "metadata": {},
     "output_type": "execute_result"
    }
   ],
   "source": [
    "signal_params = sq.physics.SignalParameters(pulse_params=params, phase=0)\n",
    "hamiltonian(signal_params, jnp.array(0))"
   ]
  },
  {
   "cell_type": "markdown",
   "id": "0ce21bc4",
   "metadata": {},
   "source": [
    "Now, we can solve the system dynamics by using the `solver` as a single argument function."
   ]
  },
  {
   "cell_type": "code",
   "execution_count": 10,
   "id": "64d5e229",
   "metadata": {},
   "outputs": [],
   "source": [
    "unitary = solver(signal_params)"
   ]
  },
  {
   "cell_type": "markdown",
   "id": "d2990f92",
   "metadata": {},
   "source": [
    "We can visualize the trajectory of the system using the `visualization` module for quick inspection."
   ]
  },
  {
   "cell_type": "code",
   "execution_count": 11,
   "id": "b0065769",
   "metadata": {},
   "outputs": [
    {
     "data": {
      "image/png": "[encoded data removed]",
      "text/plain": [
       "<Figure size 1000x500 with 6 Axes>"
      ]
     },
     "metadata": {},
     "output_type": "display_data"
    }
   ],
   "source": [
    "fig, axes = sq.visualization.plot_expectation_values(\n",
    "    sq.visualization.format_expectation_values(\n",
    "        sq.predefined.calculate_expectation_values(unitary).T\n",
    "    ),\n",
    "    title=\"Sample trajectory\",\n",
    ")"
   ]
  },
  {
   "cell_type": "markdown",
   "id": "bd392c81",
   "metadata": {},
   "source": [
    "We saw that by using `sq.physics.signal_func_v3` as a signal function wih the hamiltonian in the `predefined` module require using `sq.physics.SignalParameters` as the first argument for `solver`. The advantage of this approach is the explicitness of the control parameters. While it needs a lot of setup for it to working properly. \n",
    "\n",
    "Alternatively, we can use `sq.physics.signal_func_v5` which will results in an `jnp.array` as the first argument. This approach might be preferred for model training, vectorization, and compatability with other library. "
   ]
  },
  {
   "cell_type": "code",
   "execution_count": 12,
   "id": "66552adf",
   "metadata": {},
   "outputs": [],
   "source": [
    "signal_fn = sq.physics.signal_func_v5(\n",
    "    # We have to transform the usual envelope with helper function.\n",
    "    get_envelope=sq.control.get_envelope_transformer(control_sequence),\n",
    "    drive_frequency=qubit_info.frequency,\n",
    "    dt=dt,\n",
    ")\n",
    "\n",
    "hamiltonian = partial(\n",
    "    sq.predefined.transmon_hamiltonian, qubit_info=qubit_info, signal=signal_fn\n",
    ")\n",
    "hamiltonian = sq.physics.auto_rotating_frame_hamiltonian(hamiltonian, frame=frame)\n",
    "\n",
    "solver = partial(\n",
    "    sq.physics.solver,\n",
    "    t_eval=t_eval * dt, # nanosecond.\n",
    "    hamiltonian=hamiltonian,\n",
    "    y0=jnp.eye(2, dtype=jnp.complex_),\n",
    "    t0=0.0, # nanosecond.\n",
    "    t1=total_length * dt, # nanosecond.\n",
    ")"
   ]
  },
  {
   "cell_type": "markdown",
   "id": "34d93464",
   "metadata": {},
   "source": [
    "We also provide a helper function to convert the `list[ParameterDictType]` returned from the `sample_params` method to `jnp.narray` and vice versa."
   ]
  },
  {
   "cell_type": "code",
   "execution_count": 13,
   "id": "ca523820",
   "metadata": {},
   "outputs": [
    {
     "data": {
      "text/plain": [
       "Array([ 4.3855351 , -4.46933642], dtype=float64)"
      ]
     },
     "execution_count": 13,
     "metadata": {},
     "output_type": "execute_result"
    }
   ],
   "source": [
    "a2l_fn, l2a_fn = sq.control.get_param_array_converter(control_sequence)\n",
    "array_params = l2a_fn(params)\n",
    "array_params"
   ]
  },
  {
   "cell_type": "code",
   "execution_count": 14,
   "id": "0700a638",
   "metadata": {},
   "outputs": [
    {
     "data": {
      "text/plain": [
       "[{'theta': Array(4.3855351, dtype=float64),\n",
       "  'beta': Array(-4.46933642, dtype=float64)}]"
      ]
     },
     "execution_count": 14,
     "metadata": {},
     "output_type": "execute_result"
    }
   ],
   "source": [
    "reverted_params = a2l_fn(array_params)\n",
    "reverted_params"
   ]
  },
  {
   "cell_type": "markdown",
   "id": "d1b600a8",
   "metadata": {},
   "source": [
    "Now, we can simply solve the system dynamics with `solver` and yield the same result."
   ]
  },
  {
   "cell_type": "code",
   "execution_count": 15,
   "id": "e14a2097",
   "metadata": {},
   "outputs": [
    {
     "data": {
      "image/png": "[encoded data removed]",
      "text/plain": [
       "<Figure size 1000x500 with 6 Axes>"
      ]
     },
     "metadata": {},
     "output_type": "display_data"
    }
   ],
   "source": [
    "unitary_a = solver(array_params)\n",
    "\n",
    "# Assert that they yield the same unitary 😎\n",
    "assert jnp.allclose(unitary_a, unitary)\n",
    "\n",
    "fig, axes = sq.visualization.plot_expectation_values(\n",
    "    sq.visualization.format_expectation_values(\n",
    "        sq.predefined.calculate_expectation_values(unitary_a).T\n",
    "    ),\n",
    "    title=\"Sample trajectory\",\n",
    ")"
   ]
  },
  {
   "cell_type": "markdown",
   "id": "1db9f76d",
   "metadata": {},
   "source": [
    "What we can measure in the experiment is not the unitary, but the finite-shot expectation value. `inspeqtor` provides a helper function `sq.predefined.shot_quantum_device` to turn the solver into just that! Again, we use `partial` to fix the `solver` and the number `SHOTS`. Note that, it is up to user to decide the partial strategy to suit their use case. "
   ]
  },
  {
   "cell_type": "code",
   "execution_count": 16,
   "id": "94bdfec0",
   "metadata": {},
   "outputs": [
    {
     "data": {
      "text/plain": [
       "Array([[ 0.924, -0.91 , -0.17 ,  0.242, -0.272,  0.272,  0.216, -0.228,\n",
       "        -0.368,  0.328,  0.896, -0.934, -0.26 ,  0.32 , -0.918,  0.922,\n",
       "        -0.27 ,  0.266]], dtype=float64)"
      ]
     },
     "execution_count": 16,
     "metadata": {},
     "output_type": "execute_result"
    }
   ],
   "source": [
    "SHOTS = 1000\n",
    "quantum_device = partial(\n",
    "    sq.predefined.shot_quantum_device,\n",
    "    solver=solver,\n",
    "    SHOTS=SHOTS,\n",
    "    expectation_value_receipt=sq.constant.default_expectation_values_order,\n",
    ")\n",
    "\n",
    "# Since, shot_quantum_device is a stochastic function, we have to provide the random key.\n",
    "key, subkey = jax.random.split(key)\n",
    "# Here the function accept a batch of control parameters, so we have to reshape it to have a batch dimension.\n",
    "expvals = quantum_device(subkey, array_params.reshape(1, -1))\n",
    "expvals"
   ]
  },
  {
   "cell_type": "markdown",
   "id": "7c5cc317",
   "metadata": {},
   "source": [
    "We saw that the output is an array of shape `(batch, 18)` where the number 18 is the complete combinatation of initial states and Pauli observables. The order of the expectation values array is order as the same as provided `expectation_value_receipt` argument. in this case, the order is the default order used throughout `inspeqtor`. \n",
    "\n",
    "It is important to note that, `inspeqtor` provide its functionality as functions so that user can provide a custom behavior by simply define function that have the same interface with the functions provided by `inspeqtor`. For example, `solver` that `sq.predefined.shot_quantum_device` is just a function of control parameters that return unitary at each time step as a result. Thus user can switch it out to user-defined solver such as physics-informed neural network. "
   ]
  },
  {
   "cell_type": "markdown",
   "id": "fd185114",
   "metadata": {},
   "source": [
    "With the quantum device ready to use, we proceed with experimental data collection. To handle performing experiment in at once, in batch, or a single experiment at a time, we model each control parameter as a single row of the `pd.DataFrame` table (you can think of it as a sql table as well). Here we provide `sq.data.make_row` to enforce the schema. Let us see it in action by consider the experiment with initial state $|+\\rangle$ and measure in $\\hat{X}$ basis."
   ]
  },
  {
   "cell_type": "code",
   "execution_count": 17,
   "id": "4aef2e46",
   "metadata": {},
   "outputs": [
    {
     "data": {
      "text/plain": [
       "ExpectationValue(initial_state=\"+\", observable=\"X\", expectation_value=None)"
      ]
     },
     "execution_count": 17,
     "metadata": {},
     "output_type": "execute_result"
    }
   ],
   "source": [
    "exp = sq.constant.default_expectation_values_order[0]\n",
    "exp"
   ]
  },
  {
   "cell_type": "markdown",
   "id": "c69f6615",
   "metadata": {},
   "source": [
    "Don't worry about `expectation_value = None`, since we merely use `ExpectationValue` in `sq.constant.default_expectation_values_order` for the code completion."
   ]
  },
  {
   "cell_type": "code",
   "execution_count": 18,
   "id": "67b56b69",
   "metadata": {},
   "outputs": [
    {
     "data": {
      "text/plain": [
       "{'expectation_value': 0.924,\n",
       " 'initial_state': '+',\n",
       " 'observable': 'X',\n",
       " 'parameters_id': 0,\n",
       " 'parameter/0/theta': 4.385535096915008,\n",
       " 'parameter/0/beta': -4.469336421734063,\n",
       " 'custom_id': 'stardust'}"
      ]
     },
     "execution_count": 18,
     "metadata": {},
     "output_type": "execute_result"
    }
   ],
   "source": [
    "sq.data.make_row(\n",
    "    expectation_value=expvals[0][0].item(),\n",
    "    initial_state=exp.initial_state,\n",
    "    observable=exp.observable,\n",
    "    parameters_id=0,\n",
    "    parameters_list=params,\n",
    "    custom_id='stardust'\n",
    ")"
   ]
  },
  {
   "cell_type": "markdown",
   "id": "83863442",
   "metadata": {},
   "source": [
    "The returned value is a python dictionary with parsed keys required by `inspeqtor` specification for dataset schema. Note that, you can store additional custom information by providing `kwargs` to the function. Here we provided `custom_id = \"Auspicious Elephant\"` as an example. "
   ]
  },
  {
   "cell_type": "markdown",
   "id": "95b76f27",
   "metadata": {},
   "source": [
    "As a good practice, we will define experiment configuration first before performing the dataset as it is required later. However, user can do it after the experiment as appropiate."
   ]
  },
  {
   "cell_type": "code",
   "execution_count": 19,
   "id": "617a60df",
   "metadata": {},
   "outputs": [],
   "source": [
    "config = sq.data.ExperimentConfiguration(\n",
    "    qubits=[qubit_info],\n",
    "    expectation_values_order=sq.constant.default_expectation_values_order,\n",
    "    parameter_names=control_sequence.get_parameter_names(),\n",
    "    backend_name=\"red_demon\",\n",
    "    shots=SHOTS,\n",
    "    EXPERIMENT_IDENTIFIER=\"0001\",\n",
    "    EXPERIMENT_TAGS=[\"tutorial\", \"for\", \"you\", \"😉\"],\n",
    "    description=\"One impossible step at a time\",\n",
    "    device_cycle_time_ns=dt,\n",
    "    sequence_duration_dt=control_sequence.pulse_length_dt,\n",
    "    instance=\"black_rose\",\n",
    "    sample_size=100,\n",
    ")"
   ]
  },
  {
   "cell_type": "markdown",
   "id": "1e8465f3",
   "metadata": {},
   "source": [
    "Now, we proceed to perform a series of experiment and store the data in the `pd.DataFrame` instance as follows. First, we sample the control parameters and store them in a ready-to-use format."
   ]
  },
  {
   "cell_type": "code",
   "execution_count": 20,
   "id": "73349822",
   "metadata": {},
   "outputs": [
    {
     "data": {
      "text/plain": [
       "(100, 2)"
      ]
     },
     "execution_count": 20,
     "metadata": {},
     "output_type": "execute_result"
    }
   ],
   "source": [
    "control_params_list = []\n",
    "temp_control_params: list[jnp.ndarray] = []\n",
    "\n",
    "key = jax.random.key(0)\n",
    "\n",
    "for control_idx in range(config.sample_size):\n",
    "    key, subkey = jax.random.split(key)\n",
    "    params = control_sequence.sample_params(subkey)\n",
    "    \n",
    "    control_params_list.append(params)\n",
    "    temp_control_params.append(l2a_fn(params))\n",
    "\n",
    "control_params = jnp.array(temp_control_params)\n",
    "control_params.shape"
   ]
  },
  {
   "cell_type": "markdown",
   "id": "7de4e93b",
   "metadata": {},
   "source": [
    "For simplicity, we perform experiments in a single batches."
   ]
  },
  {
   "cell_type": "code",
   "execution_count": 21,
   "id": "47888bac",
   "metadata": {},
   "outputs": [
    {
     "data": {
      "text/plain": [
       "(100, 18)"
      ]
     },
     "execution_count": 21,
     "metadata": {},
     "output_type": "execute_result"
    }
   ],
   "source": [
    "key, subkey = jax.random.split(key)\n",
    "expectation_values = quantum_device(subkey, control_params)\n",
    "expectation_values.shape"
   ]
  },
  {
   "cell_type": "markdown",
   "id": "9c238a00",
   "metadata": {},
   "source": [
    "Next, we store the experimetal data using `sq.data.make_row` in the intermediate `pd.DataFrame` instance."
   ]
  },
  {
   "cell_type": "code",
   "execution_count": 22,
   "id": "2ffe07b6",
   "metadata": {},
   "outputs": [
    {
     "data": {
      "text/html": [
       "<div>\n",
       "<style scoped>\n",
       "    .dataframe tbody tr th:only-of-type {\n",
       "        vertical-align: middle;\n",
       "    }\n",
       "\n",
       "    .dataframe tbody tr th {\n",
       "        vertical-align: top;\n",
       "    }\n",
       "\n",
       "    .dataframe thead th {\n",
       "        text-align: right;\n",
       "    }\n",
       "</style>\n",
       "<table border=\"1\" class=\"dataframe\">\n",
       "  <thead>\n",
       "    <tr style=\"text-align: right;\">\n",
       "      <th></th>\n",
       "      <th>expectation_value</th>\n",
       "      <th>initial_state</th>\n",
       "      <th>observable</th>\n",
       "      <th>parameters_id</th>\n",
       "      <th>parameter/0/theta</th>\n",
       "      <th>parameter/0/beta</th>\n",
       "      <th>custom_id</th>\n",
       "    </tr>\n",
       "  </thead>\n",
       "  <tbody>\n",
       "    <tr>\n",
       "      <th>0</th>\n",
       "      <td>0.914</td>\n",
       "      <td>+</td>\n",
       "      <td>X</td>\n",
       "      <td>0</td>\n",
       "      <td>4.385535</td>\n",
       "      <td>-4.469336</td>\n",
       "      <td>0/0</td>\n",
       "    </tr>\n",
       "    <tr>\n",
       "      <th>1</th>\n",
       "      <td>-0.932</td>\n",
       "      <td>-</td>\n",
       "      <td>X</td>\n",
       "      <td>0</td>\n",
       "      <td>4.385535</td>\n",
       "      <td>-4.469336</td>\n",
       "      <td>0/1</td>\n",
       "    </tr>\n",
       "    <tr>\n",
       "      <th>2</th>\n",
       "      <td>-0.176</td>\n",
       "      <td>r</td>\n",
       "      <td>X</td>\n",
       "      <td>0</td>\n",
       "      <td>4.385535</td>\n",
       "      <td>-4.469336</td>\n",
       "      <td>0/2</td>\n",
       "    </tr>\n",
       "    <tr>\n",
       "      <th>3</th>\n",
       "      <td>0.238</td>\n",
       "      <td>l</td>\n",
       "      <td>X</td>\n",
       "      <td>0</td>\n",
       "      <td>4.385535</td>\n",
       "      <td>-4.469336</td>\n",
       "      <td>0/3</td>\n",
       "    </tr>\n",
       "    <tr>\n",
       "      <th>4</th>\n",
       "      <td>-0.324</td>\n",
       "      <td>0</td>\n",
       "      <td>X</td>\n",
       "      <td>0</td>\n",
       "      <td>4.385535</td>\n",
       "      <td>-4.469336</td>\n",
       "      <td>0/4</td>\n",
       "    </tr>\n",
       "    <tr>\n",
       "      <th>...</th>\n",
       "      <td>...</td>\n",
       "      <td>...</td>\n",
       "      <td>...</td>\n",
       "      <td>...</td>\n",
       "      <td>...</td>\n",
       "      <td>...</td>\n",
       "      <td>...</td>\n",
       "    </tr>\n",
       "    <tr>\n",
       "      <th>1795</th>\n",
       "      <td>-0.040</td>\n",
       "      <td>-</td>\n",
       "      <td>Z</td>\n",
       "      <td>99</td>\n",
       "      <td>6.077224</td>\n",
       "      <td>1.334615</td>\n",
       "      <td>99/13</td>\n",
       "    </tr>\n",
       "    <tr>\n",
       "      <th>1796</th>\n",
       "      <td>-0.206</td>\n",
       "      <td>r</td>\n",
       "      <td>Z</td>\n",
       "      <td>99</td>\n",
       "      <td>6.077224</td>\n",
       "      <td>1.334615</td>\n",
       "      <td>99/14</td>\n",
       "    </tr>\n",
       "    <tr>\n",
       "      <th>1797</th>\n",
       "      <td>0.196</td>\n",
       "      <td>l</td>\n",
       "      <td>Z</td>\n",
       "      <td>99</td>\n",
       "      <td>6.077224</td>\n",
       "      <td>1.334615</td>\n",
       "      <td>99/15</td>\n",
       "    </tr>\n",
       "    <tr>\n",
       "      <th>1798</th>\n",
       "      <td>0.978</td>\n",
       "      <td>0</td>\n",
       "      <td>Z</td>\n",
       "      <td>99</td>\n",
       "      <td>6.077224</td>\n",
       "      <td>1.334615</td>\n",
       "      <td>99/16</td>\n",
       "    </tr>\n",
       "    <tr>\n",
       "      <th>1799</th>\n",
       "      <td>-0.982</td>\n",
       "      <td>1</td>\n",
       "      <td>Z</td>\n",
       "      <td>99</td>\n",
       "      <td>6.077224</td>\n",
       "      <td>1.334615</td>\n",
       "      <td>99/17</td>\n",
       "    </tr>\n",
       "  </tbody>\n",
       "</table>\n",
       "<p>1800 rows × 7 columns</p>\n",
       "</div>"
      ],
      "text/plain": [
       "      expectation_value initial_state observable  parameters_id  \\\n",
       "0                 0.914             +          X              0   \n",
       "1                -0.932             -          X              0   \n",
       "2                -0.176             r          X              0   \n",
       "3                 0.238             l          X              0   \n",
       "4                -0.324             0          X              0   \n",
       "...                 ...           ...        ...            ...   \n",
       "1795             -0.040             -          Z             99   \n",
       "1796             -0.206             r          Z             99   \n",
       "1797              0.196             l          Z             99   \n",
       "1798              0.978             0          Z             99   \n",
       "1799             -0.982             1          Z             99   \n",
       "\n",
       "      parameter/0/theta  parameter/0/beta custom_id  \n",
       "0              4.385535         -4.469336       0/0  \n",
       "1              4.385535         -4.469336       0/1  \n",
       "2              4.385535         -4.469336       0/2  \n",
       "3              4.385535         -4.469336       0/3  \n",
       "4              4.385535         -4.469336       0/4  \n",
       "...                 ...               ...       ...  \n",
       "1795           6.077224          1.334615     99/13  \n",
       "1796           6.077224          1.334615     99/14  \n",
       "1797           6.077224          1.334615     99/15  \n",
       "1798           6.077224          1.334615     99/16  \n",
       "1799           6.077224          1.334615     99/17  \n",
       "\n",
       "[1800 rows x 7 columns]"
      ]
     },
     "execution_count": 22,
     "metadata": {},
     "output_type": "execute_result"
    }
   ],
   "source": [
    "rows = []\n",
    "for sample_idx in range(config.sample_size):\n",
    "\n",
    "    for exp_idx, exp in enumerate(sq.constant.default_expectation_values_order):\n",
    "        row = sq.data.make_row(\n",
    "            expectation_value=float(expectation_values[sample_idx, exp_idx]),\n",
    "            initial_state=exp.initial_state,\n",
    "            observable=exp.observable,\n",
    "            parameters_list=control_params_list[sample_idx],\n",
    "            parameters_id=sample_idx,\n",
    "            custom_id=f'{sample_idx}/{exp_idx}'\n",
    "        )\n",
    "\n",
    "        rows.append(row)\n",
    "\n",
    "df = pd.DataFrame(rows)\n",
    "df"
   ]
  },
  {
   "cell_type": "markdown",
   "id": "14290e71",
   "metadata": {},
   "source": [
    "Finally, we can store our data using `sq.data.ExperimentData`!"
   ]
  },
  {
   "cell_type": "code",
   "execution_count": 23,
   "id": "dc7275d4",
   "metadata": {},
   "outputs": [],
   "source": [
    "exp_data = sq.data.ExperimentData(\n",
    "    experiment_config=config,\n",
    "    preprocess_data=df\n",
    ")"
   ]
  },
  {
   "cell_type": "code",
   "execution_count": 24,
   "id": "e0f7e889",
   "metadata": {},
   "outputs": [
    {
     "data": {
      "text/html": [
       "<div>\n",
       "<style scoped>\n",
       "    .dataframe tbody tr th:only-of-type {\n",
       "        vertical-align: middle;\n",
       "    }\n",
       "\n",
       "    .dataframe tbody tr th {\n",
       "        vertical-align: top;\n",
       "    }\n",
       "\n",
       "    .dataframe thead th {\n",
       "        text-align: right;\n",
       "    }\n",
       "</style>\n",
       "<table border=\"1\" class=\"dataframe\">\n",
       "  <thead>\n",
       "    <tr style=\"text-align: right;\">\n",
       "      <th></th>\n",
       "      <th>parameters_id</th>\n",
       "      <th>expectation_value/+/X</th>\n",
       "      <th>expectation_value/-/X</th>\n",
       "      <th>expectation_value/r/X</th>\n",
       "      <th>expectation_value/l/X</th>\n",
       "      <th>expectation_value/0/X</th>\n",
       "      <th>expectation_value/1/X</th>\n",
       "      <th>expectation_value/+/Y</th>\n",
       "      <th>expectation_value/-/Y</th>\n",
       "      <th>expectation_value/r/Y</th>\n",
       "      <th>...</th>\n",
       "      <th>expectation_value/r/Z</th>\n",
       "      <th>expectation_value/l/Z</th>\n",
       "      <th>expectation_value/0/Z</th>\n",
       "      <th>expectation_value/1/Z</th>\n",
       "      <th>expectation_value</th>\n",
       "      <th>initial_state</th>\n",
       "      <th>observable</th>\n",
       "      <th>parameter/0/theta</th>\n",
       "      <th>parameter/0/beta</th>\n",
       "      <th>custom_id</th>\n",
       "    </tr>\n",
       "  </thead>\n",
       "  <tbody>\n",
       "    <tr>\n",
       "      <th>0</th>\n",
       "      <td>0</td>\n",
       "      <td>0.914</td>\n",
       "      <td>-0.932</td>\n",
       "      <td>-0.176</td>\n",
       "      <td>0.238</td>\n",
       "      <td>-0.324</td>\n",
       "      <td>0.280</td>\n",
       "      <td>0.244</td>\n",
       "      <td>-0.194</td>\n",
       "      <td>-0.336</td>\n",
       "      <td>...</td>\n",
       "      <td>-0.924</td>\n",
       "      <td>0.926</td>\n",
       "      <td>-0.254</td>\n",
       "      <td>0.232</td>\n",
       "      <td>0.914</td>\n",
       "      <td>+</td>\n",
       "      <td>X</td>\n",
       "      <td>4.385535</td>\n",
       "      <td>-4.469336</td>\n",
       "      <td>0/0</td>\n",
       "    </tr>\n",
       "    <tr>\n",
       "      <th>1</th>\n",
       "      <td>1</td>\n",
       "      <td>1.000</td>\n",
       "      <td>-1.000</td>\n",
       "      <td>-0.042</td>\n",
       "      <td>-0.006</td>\n",
       "      <td>0.030</td>\n",
       "      <td>-0.006</td>\n",
       "      <td>-0.042</td>\n",
       "      <td>0.000</td>\n",
       "      <td>0.958</td>\n",
       "      <td>...</td>\n",
       "      <td>0.254</td>\n",
       "      <td>-0.218</td>\n",
       "      <td>0.980</td>\n",
       "      <td>-0.958</td>\n",
       "      <td>1.000</td>\n",
       "      <td>+</td>\n",
       "      <td>X</td>\n",
       "      <td>0.276427</td>\n",
       "      <td>3.608326</td>\n",
       "      <td>1/0</td>\n",
       "    </tr>\n",
       "    <tr>\n",
       "      <th>2</th>\n",
       "      <td>2</td>\n",
       "      <td>0.974</td>\n",
       "      <td>-0.972</td>\n",
       "      <td>0.214</td>\n",
       "      <td>-0.206</td>\n",
       "      <td>0.124</td>\n",
       "      <td>-0.088</td>\n",
       "      <td>-0.162</td>\n",
       "      <td>0.180</td>\n",
       "      <td>0.462</td>\n",
       "      <td>...</td>\n",
       "      <td>-0.848</td>\n",
       "      <td>0.888</td>\n",
       "      <td>0.426</td>\n",
       "      <td>-0.434</td>\n",
       "      <td>0.974</td>\n",
       "      <td>+</td>\n",
       "      <td>X</td>\n",
       "      <td>5.154778</td>\n",
       "      <td>2.333456</td>\n",
       "      <td>2/0</td>\n",
       "    </tr>\n",
       "    <tr>\n",
       "      <th>3</th>\n",
       "      <td>3</td>\n",
       "      <td>0.966</td>\n",
       "      <td>-0.968</td>\n",
       "      <td>-0.098</td>\n",
       "      <td>0.080</td>\n",
       "      <td>-0.226</td>\n",
       "      <td>0.218</td>\n",
       "      <td>0.106</td>\n",
       "      <td>-0.148</td>\n",
       "      <td>-0.604</td>\n",
       "      <td>...</td>\n",
       "      <td>-0.838</td>\n",
       "      <td>0.792</td>\n",
       "      <td>-0.542</td>\n",
       "      <td>0.598</td>\n",
       "      <td>0.966</td>\n",
       "      <td>+</td>\n",
       "      <td>X</td>\n",
       "      <td>4.094562</td>\n",
       "      <td>-2.803718</td>\n",
       "      <td>3/0</td>\n",
       "    </tr>\n",
       "    <tr>\n",
       "      <th>4</th>\n",
       "      <td>4</td>\n",
       "      <td>1.000</td>\n",
       "      <td>-0.994</td>\n",
       "      <td>0.034</td>\n",
       "      <td>0.002</td>\n",
       "      <td>0.080</td>\n",
       "      <td>-0.068</td>\n",
       "      <td>0.098</td>\n",
       "      <td>-0.032</td>\n",
       "      <td>-0.754</td>\n",
       "      <td>...</td>\n",
       "      <td>0.590</td>\n",
       "      <td>-0.608</td>\n",
       "      <td>-0.770</td>\n",
       "      <td>0.772</td>\n",
       "      <td>1.000</td>\n",
       "      <td>+</td>\n",
       "      <td>X</td>\n",
       "      <td>2.458046</td>\n",
       "      <td>2.477768</td>\n",
       "      <td>4/0</td>\n",
       "    </tr>\n",
       "    <tr>\n",
       "      <th>...</th>\n",
       "      <td>...</td>\n",
       "      <td>...</td>\n",
       "      <td>...</td>\n",
       "      <td>...</td>\n",
       "      <td>...</td>\n",
       "      <td>...</td>\n",
       "      <td>...</td>\n",
       "      <td>...</td>\n",
       "      <td>...</td>\n",
       "      <td>...</td>\n",
       "      <td>...</td>\n",
       "      <td>...</td>\n",
       "      <td>...</td>\n",
       "      <td>...</td>\n",
       "      <td>...</td>\n",
       "      <td>...</td>\n",
       "      <td>...</td>\n",
       "      <td>...</td>\n",
       "      <td>...</td>\n",
       "      <td>...</td>\n",
       "      <td>...</td>\n",
       "    </tr>\n",
       "    <tr>\n",
       "      <th>95</th>\n",
       "      <td>95</td>\n",
       "      <td>1.000</td>\n",
       "      <td>-1.000</td>\n",
       "      <td>0.016</td>\n",
       "      <td>-0.004</td>\n",
       "      <td>0.034</td>\n",
       "      <td>0.010</td>\n",
       "      <td>-0.008</td>\n",
       "      <td>-0.008</td>\n",
       "      <td>1.000</td>\n",
       "      <td>...</td>\n",
       "      <td>0.042</td>\n",
       "      <td>0.006</td>\n",
       "      <td>1.000</td>\n",
       "      <td>-1.000</td>\n",
       "      <td>1.000</td>\n",
       "      <td>+</td>\n",
       "      <td>X</td>\n",
       "      <td>0.007379</td>\n",
       "      <td>0.258322</td>\n",
       "      <td>95/0</td>\n",
       "    </tr>\n",
       "    <tr>\n",
       "      <th>96</th>\n",
       "      <td>96</td>\n",
       "      <td>1.000</td>\n",
       "      <td>-1.000</td>\n",
       "      <td>0.054</td>\n",
       "      <td>-0.016</td>\n",
       "      <td>0.000</td>\n",
       "      <td>0.010</td>\n",
       "      <td>-0.106</td>\n",
       "      <td>0.018</td>\n",
       "      <td>0.456</td>\n",
       "      <td>...</td>\n",
       "      <td>0.898</td>\n",
       "      <td>-0.890</td>\n",
       "      <td>0.424</td>\n",
       "      <td>-0.414</td>\n",
       "      <td>1.000</td>\n",
       "      <td>+</td>\n",
       "      <td>X</td>\n",
       "      <td>1.112030</td>\n",
       "      <td>-4.666942</td>\n",
       "      <td>96/0</td>\n",
       "    </tr>\n",
       "    <tr>\n",
       "      <th>97</th>\n",
       "      <td>97</td>\n",
       "      <td>1.000</td>\n",
       "      <td>-1.000</td>\n",
       "      <td>0.080</td>\n",
       "      <td>-0.014</td>\n",
       "      <td>0.012</td>\n",
       "      <td>0.026</td>\n",
       "      <td>0.016</td>\n",
       "      <td>-0.012</td>\n",
       "      <td>0.992</td>\n",
       "      <td>...</td>\n",
       "      <td>0.066</td>\n",
       "      <td>-0.104</td>\n",
       "      <td>0.994</td>\n",
       "      <td>-0.998</td>\n",
       "      <td>1.000</td>\n",
       "      <td>+</td>\n",
       "      <td>X</td>\n",
       "      <td>0.119057</td>\n",
       "      <td>-3.652233</td>\n",
       "      <td>97/0</td>\n",
       "    </tr>\n",
       "    <tr>\n",
       "      <th>98</th>\n",
       "      <td>98</td>\n",
       "      <td>1.000</td>\n",
       "      <td>-1.000</td>\n",
       "      <td>-0.048</td>\n",
       "      <td>-0.004</td>\n",
       "      <td>0.000</td>\n",
       "      <td>0.040</td>\n",
       "      <td>0.004</td>\n",
       "      <td>0.016</td>\n",
       "      <td>0.902</td>\n",
       "      <td>...</td>\n",
       "      <td>0.426</td>\n",
       "      <td>-0.450</td>\n",
       "      <td>0.898</td>\n",
       "      <td>-0.920</td>\n",
       "      <td>1.000</td>\n",
       "      <td>+</td>\n",
       "      <td>X</td>\n",
       "      <td>0.430843</td>\n",
       "      <td>3.605063</td>\n",
       "      <td>98/0</td>\n",
       "    </tr>\n",
       "    <tr>\n",
       "      <th>99</th>\n",
       "      <td>99</td>\n",
       "      <td>0.984</td>\n",
       "      <td>-0.996</td>\n",
       "      <td>0.044</td>\n",
       "      <td>-0.108</td>\n",
       "      <td>-0.026</td>\n",
       "      <td>0.028</td>\n",
       "      <td>-0.106</td>\n",
       "      <td>0.102</td>\n",
       "      <td>0.974</td>\n",
       "      <td>...</td>\n",
       "      <td>-0.206</td>\n",
       "      <td>0.196</td>\n",
       "      <td>0.978</td>\n",
       "      <td>-0.982</td>\n",
       "      <td>0.984</td>\n",
       "      <td>+</td>\n",
       "      <td>X</td>\n",
       "      <td>6.077224</td>\n",
       "      <td>1.334615</td>\n",
       "      <td>99/0</td>\n",
       "    </tr>\n",
       "  </tbody>\n",
       "</table>\n",
       "<p>100 rows × 25 columns</p>\n",
       "</div>"
      ],
      "text/plain": [
       "    parameters_id  expectation_value/+/X  expectation_value/-/X  \\\n",
       "0               0                  0.914                 -0.932   \n",
       "1               1                  1.000                 -1.000   \n",
       "2               2                  0.974                 -0.972   \n",
       "3               3                  0.966                 -0.968   \n",
       "4               4                  1.000                 -0.994   \n",
       "..            ...                    ...                    ...   \n",
       "95             95                  1.000                 -1.000   \n",
       "96             96                  1.000                 -1.000   \n",
       "97             97                  1.000                 -1.000   \n",
       "98             98                  1.000                 -1.000   \n",
       "99             99                  0.984                 -0.996   \n",
       "\n",
       "    expectation_value/r/X  expectation_value/l/X  expectation_value/0/X  \\\n",
       "0                  -0.176                  0.238                 -0.324   \n",
       "1                  -0.042                 -0.006                  0.030   \n",
       "2                   0.214                 -0.206                  0.124   \n",
       "3                  -0.098                  0.080                 -0.226   \n",
       "4                   0.034                  0.002                  0.080   \n",
       "..                    ...                    ...                    ...   \n",
       "95                  0.016                 -0.004                  0.034   \n",
       "96                  0.054                 -0.016                  0.000   \n",
       "97                  0.080                 -0.014                  0.012   \n",
       "98                 -0.048                 -0.004                  0.000   \n",
       "99                  0.044                 -0.108                 -0.026   \n",
       "\n",
       "    expectation_value/1/X  expectation_value/+/Y  expectation_value/-/Y  \\\n",
       "0                   0.280                  0.244                 -0.194   \n",
       "1                  -0.006                 -0.042                  0.000   \n",
       "2                  -0.088                 -0.162                  0.180   \n",
       "3                   0.218                  0.106                 -0.148   \n",
       "4                  -0.068                  0.098                 -0.032   \n",
       "..                    ...                    ...                    ...   \n",
       "95                  0.010                 -0.008                 -0.008   \n",
       "96                  0.010                 -0.106                  0.018   \n",
       "97                  0.026                  0.016                 -0.012   \n",
       "98                  0.040                  0.004                  0.016   \n",
       "99                  0.028                 -0.106                  0.102   \n",
       "\n",
       "    expectation_value/r/Y  ...  expectation_value/r/Z  expectation_value/l/Z  \\\n",
       "0                  -0.336  ...                 -0.924                  0.926   \n",
       "1                   0.958  ...                  0.254                 -0.218   \n",
       "2                   0.462  ...                 -0.848                  0.888   \n",
       "3                  -0.604  ...                 -0.838                  0.792   \n",
       "4                  -0.754  ...                  0.590                 -0.608   \n",
       "..                    ...  ...                    ...                    ...   \n",
       "95                  1.000  ...                  0.042                  0.006   \n",
       "96                  0.456  ...                  0.898                 -0.890   \n",
       "97                  0.992  ...                  0.066                 -0.104   \n",
       "98                  0.902  ...                  0.426                 -0.450   \n",
       "99                  0.974  ...                 -0.206                  0.196   \n",
       "\n",
       "    expectation_value/0/Z  expectation_value/1/Z  expectation_value  \\\n",
       "0                  -0.254                  0.232              0.914   \n",
       "1                   0.980                 -0.958              1.000   \n",
       "2                   0.426                 -0.434              0.974   \n",
       "3                  -0.542                  0.598              0.966   \n",
       "4                  -0.770                  0.772              1.000   \n",
       "..                    ...                    ...                ...   \n",
       "95                  1.000                 -1.000              1.000   \n",
       "96                  0.424                 -0.414              1.000   \n",
       "97                  0.994                 -0.998              1.000   \n",
       "98                  0.898                 -0.920              1.000   \n",
       "99                  0.978                 -0.982              0.984   \n",
       "\n",
       "    initial_state  observable  parameter/0/theta  parameter/0/beta  custom_id  \n",
       "0               +           X           4.385535         -4.469336        0/0  \n",
       "1               +           X           0.276427          3.608326        1/0  \n",
       "2               +           X           5.154778          2.333456        2/0  \n",
       "3               +           X           4.094562         -2.803718        3/0  \n",
       "4               +           X           2.458046          2.477768        4/0  \n",
       "..            ...         ...                ...               ...        ...  \n",
       "95              +           X           0.007379          0.258322       95/0  \n",
       "96              +           X           1.112030         -4.666942       96/0  \n",
       "97              +           X           0.119057         -3.652233       97/0  \n",
       "98              +           X           0.430843          3.605063       98/0  \n",
       "99              +           X           6.077224          1.334615       99/0  \n",
       "\n",
       "[100 rows x 25 columns]"
      ]
     },
     "execution_count": 24,
     "metadata": {},
     "output_type": "execute_result"
    }
   ],
   "source": [
    "exp_data.postprocessed_data"
   ]
  },
  {
   "cell_type": "markdown",
   "id": "131ce4c5",
   "metadata": {},
   "source": [
    "Note that `exp_data.postprocessed_data` is a dataframe that created from the aggregation of the `exp_data.preprocess_data` by combinding rows with the same `parameters_id`. So the extra fields provided by the user will be just the first entry of the expectaion values combination."
   ]
  },
  {
   "cell_type": "markdown",
   "id": "470381c1",
   "metadata": {},
   "source": [
    "## Save the experiment\n",
    "\n",
    "There are several ways to save `sq.data.ExperimentData`. For the most common usage pattern, we provides a pair of save and load function in the `predefined` module. The `sq.predefined.save_data_to_path` function will save the dataset in the format that can be easily load back using `sq.predefined.load_data_from_path`."
   ]
  },
  {
   "cell_type": "code",
   "execution_count": 25,
   "id": "3954a430",
   "metadata": {},
   "outputs": [],
   "source": [
    "import tempfile\n",
    "from pathlib import Path\n",
    "\n",
    "# path = Path(\"./test_data_v1\")\n",
    "tmpdir = tempfile.TemporaryDirectory()\n",
    "path = Path(tmpdir.name)\n",
    "\n",
    "# Create the path with parents if not existed already\n",
    "path.mkdir(parents=True, exist_ok=True)\n",
    "# Save the experiment with a single liner 😉.\n",
    "sq.predefined.save_data_to_path(path, exp_data, control_sequence)"
   ]
  },
  {
   "cell_type": "markdown",
   "id": "b674b6d1",
   "metadata": {},
   "source": [
    "## Load the experiment\n",
    "Loading just `sq.data.ExperimentData` back is often not enough. We load the data back into a bundle of `sq.utils.LoadedData` dataclass instance. The dataclass provides access to the `sq.data.ExperimentData`, `sq.control.ControlSequence`, `solver` with provided specification of Hamiltonian `sq.predefined.HamiltonianSpec` and the `jnp.ndarray` of control parameters, ideal unitary operators, and the corresponding expectation values. "
   ]
  },
  {
   "cell_type": "code",
   "execution_count": 26,
   "id": "6c06c1f0",
   "metadata": {},
   "outputs": [],
   "source": [
    "loaded_data = sq.predefined.load_data_from_path(\n",
    "    path,\n",
    "    hamiltonian_spec=sq.predefined.HamiltonianSpec(\n",
    "        method=sq.predefined.WhiteboxStrategy.TROTTER,\n",
    "        trotter_steps=1_000,\n",
    "    ),\n",
    ")\n",
    "\n",
    "tmpdir.cleanup()"
   ]
  },
  {
   "cell_type": "markdown",
   "id": "e7e226a5",
   "metadata": {},
   "source": [
    "Note that in the case of custom solver, user has to manually load the experimental dataset back by the primitive load method of `sq.data.ExperimentData` and solve for the unitary by the solver. User can also bundle the data by manually instantiate the `sq.utils.LoadedData` for further usage too."
   ]
  }
 ],
 "metadata": {
  "kernelspec": {
   "display_name": "inspeqtor (3.13.0)",
   "language": "python",
   "name": "python3"
  },
  "language_info": {
   "codemirror_mode": {
    "name": "ipython",
    "version": 3
   },
   "file_extension": ".py",
   "mimetype": "text/x-python",
   "name": "python",
   "nbconvert_exporter": "python",
   "pygments_lexer": "ipython3",
   "version": "3.13.0"
  }
 },
 "nbformat": 4,
 "nbformat_minor": 5
}
