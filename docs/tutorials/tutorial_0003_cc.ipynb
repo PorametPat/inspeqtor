{
 "cells": [
  {
   "cell_type": "markdown",
   "id": "ef00bdf3",
   "metadata": {},
   "source": [
    "# Characterization and Calibration using Graybox\n",
    "\n",
    "<div class=\"admonition goal\">\n",
    "    <p class=\"admonition-title\">Goal</p>\n",
    "    <p>\n",
    "        This tutorial aims to guide you thourgh a process of characterizing a predicitive model, and using the predictive model in calibrating for quantum gate using open-loop optimization (although not necessary). \n",
    "    </p>\n",
    "</div>"
   ]
  },
  {
   "cell_type": "code",
   "execution_count": 1,
   "id": "18d5d758",
   "metadata": {},
   "outputs": [],
   "source": [
    "import jax\n",
    "import jax.numpy as jnp\n",
    "import inspeqtor.experimental as sq"
   ]
  },
  {
   "cell_type": "markdown",
   "id": "e61b26e8",
   "metadata": {},
   "source": [
    "## Generate some synthetic data"
   ]
  },
  {
   "cell_type": "code",
   "execution_count": 2,
   "id": "d4f95052",
   "metadata": {},
   "outputs": [],
   "source": [
    "data_model = sq.predefined.get_predefined_data_model_m1()\n",
    "\n",
    "# Now, we use the noise model to performing the data using simulator.\n",
    "exp_data, _, _, _ = sq.predefined.generate_experimental_data(\n",
    "    key=jax.random.key(0),\n",
    "    hamiltonian=data_model.total_hamiltonian,\n",
    "    sample_size=100,\n",
    "    strategy=sq.predefined.SimulationStrategy.SHOT,\n",
    "    get_qubit_information_fn=lambda: data_model.qubit_information,\n",
    "    get_control_sequence_fn=lambda: data_model.control_sequence,\n",
    "    method=sq.predefined.WhiteboxStrategy.TROTTER,\n",
    "    trotter_steps=10_000,\n",
    ")\n",
    "\n",
    "# Now we can prepare the dataset that ready to use.\n",
    "whitebox = sq.physics.make_trotterization_solver(\n",
    "    data_model.ideal_hamiltonian,\n",
    "    data_model.control_sequence,\n",
    "    data_model.dt,\n",
    "    trotter_steps=10_000,\n",
    ")\n",
    "loaded_data = sq.utils.prepare_data(\n",
    "    exp_data, data_model.control_sequence, whitebox\n",
    ")"
   ]
  },
  {
   "cell_type": "markdown",
   "id": "c5dcf27e",
   "metadata": {},
   "source": [
    "We can inspect the experiment configuration from predefined noise model using `display` function from `flax.nnx`"
   ]
  },
  {
   "cell_type": "code",
   "execution_count": 3,
   "id": "168cb54e",
   "metadata": {},
   "outputs": [
    {
     "data": {
      "text/html": [
       "<script> (()=>{ if (customElements.get('treescope-container') === undefined) { class TreescopeContainer extends HTMLElement { constructor() { super(); this.attachShadow({mode: \"open\"}); this.defns = {}; this.state = {}; } } customElements.define(\"treescope-container\", TreescopeContainer); } if (customElements.get('treescope-run-here') === undefined) { class RunHere extends HTMLElement { constructor() { super() } connectedCallback() { const run = child => { const fn = new Function(child.textContent); child.textContent = \"\"; fn.call(this); this.remove(); }; const child = this.querySelector(\"script\"); if (child) { run(child); } else { new MutationObserver(()=>{ run(this.querySelector(\"script\")); }).observe(this, {childList: true}); } } } customElements.define(\"treescope-run-here\", RunHere); } })(); </script> <treescope-container class=\"treescope_out_0da14502c8034ea08121d36f6e6019db\" style=\"display:block\"></treescope-container> <treescope-run-here><script type=\"application/octet-stream\"> const root = ( Array.from(document.getElementsByClassName( \"treescope_out_0da14502c8034ea08121d36f6e6019db\")) .filter((elt) => !elt.dataset.setup) )[0]; root.dataset.setup = 1; const msg = document.createElement(\"span\"); msg.style = \"color: #cccccc; font-family: monospace;\"; msg.textContent = \"(Loading...)\"; root.state.loadingMsg = msg; root.shadowRoot.appendChild(msg); root.state.chain = new Promise((resolve, reject) => { const observer = new IntersectionObserver((entries) => { for (const entry of entries) { if (entry.isIntersecting) { resolve(); observer.disconnect(); return; } } }, {rootMargin: \"1000px\"}); window.setTimeout(() => { observer.observe(root); }, 0); }); root.state.deferring = false; const _insertNode = (node) => { for (let oldScript of node.querySelectorAll(\"script\")) { let newScript = document.createElement(\"script\"); newScript.type = oldScript.type; newScript.textContent = oldScript.textContent; oldScript.parentNode.replaceChild(newScript, oldScript); } if (root.state.loadingMsg) { root.state.loadingMsg.remove(); root.state.loadingMsg = null; } root.shadowRoot.appendChild(node); }; root.defns.insertContent = ((contentNode, compressed) => { if (compressed) { root.state.deferring = true; } if (root.state.deferring) { root.state.chain = (async () => { await root.state.chain; if (compressed) { const encoded = contentNode.textContent; const blob = new Blob([ Uint8Array.from(atob(encoded), (m) => m.codePointAt(0)) ]); const reader = blob.stream().pipeThrough( new DecompressionStream(\"deflate\") ).pipeThrough( new TextDecoderStream(\"utf-8\") ).getReader(); const parts = []; while (true) { const step = await reader.read(); if (step.done) { break; } parts.push(step.value); } const tpl = document.createElement('template'); tpl.innerHTML = parts.join(\"\"); _insertNode(tpl.content); } else { _insertNode(contentNode.content); } })(); } else { _insertNode(contentNode.content); } }); </script></treescope-run-here><div style=\"display:none\"> <script type=\"application/octet-stream\" >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</script> <treescope-run-here><script type=\"application/octet-stream\"> const root = ( Array.from(document.getElementsByClassName( \"treescope_out_0da14502c8034ea08121d36f6e6019db\")) .filter((elt) => !elt.dataset['step0']) )[0]; root.dataset['step0'] = 1; root.defns.insertContent( this.parentNode.querySelector('script[type=\"application/octet-stream\"]'), true ); this.parentNode.remove(); </script></treescope-run-here> </div>"
      ],
      "text/plain": [
       "<IPython.core.display.HTML object>"
      ]
     },
     "metadata": {},
     "output_type": "display_data"
    },
    {
     "data": {
      "text/html": [
       "<div style=\"display:none\"> <script type=\"application/octet-stream\" >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</script> <treescope-run-here><script type=\"application/octet-stream\"> const root = ( Array.from(document.getElementsByClassName( \"treescope_out_0da14502c8034ea08121d36f6e6019db\")) .filter((elt) => !elt.dataset['step1']) )[0]; root.dataset['step1'] = 1; root.defns.insertContent( this.parentNode.querySelector('script[type=\"application/octet-stream\"]'), true ); this.parentNode.remove(); </script></treescope-run-here> </div>"
      ],
      "text/plain": [
       "<IPython.core.display.HTML object>"
      ]
     },
     "metadata": {},
     "output_type": "display_data"
    }
   ],
   "source": [
    "from flax.nnx import display\n",
    "\n",
    "display(loaded_data.experiment_data.experiment_config)"
   ]
  },
  {
   "cell_type": "markdown",
   "id": "ad62d4b1",
   "metadata": {},
   "source": [
    "And the experimental data,"
   ]
  },
  {
   "cell_type": "code",
   "execution_count": 4,
   "id": "f4c62169",
   "metadata": {},
   "outputs": [
    {
     "data": {
      "text/html": [
       "<div>\n",
       "<style scoped>\n",
       "    .dataframe tbody tr th:only-of-type {\n",
       "        vertical-align: middle;\n",
       "    }\n",
       "\n",
       "    .dataframe tbody tr th {\n",
       "        vertical-align: top;\n",
       "    }\n",
       "\n",
       "    .dataframe thead th {\n",
       "        text-align: right;\n",
       "    }\n",
       "</style>\n",
       "<table border=\"1\" class=\"dataframe\">\n",
       "  <thead>\n",
       "    <tr style=\"text-align: right;\">\n",
       "      <th></th>\n",
       "      <th>parameters_id</th>\n",
       "      <th>expectation_value/+/X</th>\n",
       "      <th>expectation_value/-/X</th>\n",
       "      <th>expectation_value/r/X</th>\n",
       "      <th>expectation_value/l/X</th>\n",
       "      <th>expectation_value/0/X</th>\n",
       "      <th>expectation_value/1/X</th>\n",
       "      <th>expectation_value/+/Y</th>\n",
       "      <th>expectation_value/-/Y</th>\n",
       "      <th>expectation_value/r/Y</th>\n",
       "      <th>...</th>\n",
       "      <th>expectation_value/-/Z</th>\n",
       "      <th>expectation_value/r/Z</th>\n",
       "      <th>expectation_value/l/Z</th>\n",
       "      <th>expectation_value/0/Z</th>\n",
       "      <th>expectation_value/1/Z</th>\n",
       "      <th>expectation_value</th>\n",
       "      <th>initial_state</th>\n",
       "      <th>observable</th>\n",
       "      <th>parameter/0/theta</th>\n",
       "      <th>parameter/0/beta</th>\n",
       "    </tr>\n",
       "  </thead>\n",
       "  <tbody>\n",
       "    <tr>\n",
       "      <th>0</th>\n",
       "      <td>0</td>\n",
       "      <td>0.982</td>\n",
       "      <td>-0.954</td>\n",
       "      <td>0.244</td>\n",
       "      <td>-0.188</td>\n",
       "      <td>-0.042</td>\n",
       "      <td>-0.010</td>\n",
       "      <td>-0.228</td>\n",
       "      <td>0.260</td>\n",
       "      <td>0.934</td>\n",
       "      <td>...</td>\n",
       "      <td>-0.010</td>\n",
       "      <td>0.264</td>\n",
       "      <td>-0.234</td>\n",
       "      <td>0.958</td>\n",
       "      <td>-0.962</td>\n",
       "      <td>0.982</td>\n",
       "      <td>+</td>\n",
       "      <td>X</td>\n",
       "      <td>0.276427</td>\n",
       "      <td>3.608326</td>\n",
       "    </tr>\n",
       "    <tr>\n",
       "      <th>1</th>\n",
       "      <td>1</td>\n",
       "      <td>0.998</td>\n",
       "      <td>-0.994</td>\n",
       "      <td>-0.064</td>\n",
       "      <td>0.132</td>\n",
       "      <td>-0.020</td>\n",
       "      <td>0.026</td>\n",
       "      <td>0.084</td>\n",
       "      <td>-0.130</td>\n",
       "      <td>0.442</td>\n",
       "      <td>...</td>\n",
       "      <td>0.054</td>\n",
       "      <td>-0.894</td>\n",
       "      <td>0.886</td>\n",
       "      <td>0.446</td>\n",
       "      <td>-0.486</td>\n",
       "      <td>0.998</td>\n",
       "      <td>+</td>\n",
       "      <td>X</td>\n",
       "      <td>5.154778</td>\n",
       "      <td>2.333456</td>\n",
       "    </tr>\n",
       "    <tr>\n",
       "      <th>2</th>\n",
       "      <td>2</td>\n",
       "      <td>0.972</td>\n",
       "      <td>-0.972</td>\n",
       "      <td>0.096</td>\n",
       "      <td>-0.130</td>\n",
       "      <td>0.236</td>\n",
       "      <td>-0.272</td>\n",
       "      <td>-0.106</td>\n",
       "      <td>0.168</td>\n",
       "      <td>-0.580</td>\n",
       "      <td>...</td>\n",
       "      <td>-0.202</td>\n",
       "      <td>-0.774</td>\n",
       "      <td>0.784</td>\n",
       "      <td>-0.590</td>\n",
       "      <td>0.522</td>\n",
       "      <td>0.972</td>\n",
       "      <td>+</td>\n",
       "      <td>X</td>\n",
       "      <td>4.094562</td>\n",
       "      <td>-2.803718</td>\n",
       "    </tr>\n",
       "    <tr>\n",
       "      <th>3</th>\n",
       "      <td>3</td>\n",
       "      <td>0.976</td>\n",
       "      <td>-0.978</td>\n",
       "      <td>0.058</td>\n",
       "      <td>-0.052</td>\n",
       "      <td>-0.152</td>\n",
       "      <td>0.190</td>\n",
       "      <td>-0.100</td>\n",
       "      <td>0.038</td>\n",
       "      <td>-0.784</td>\n",
       "      <td>...</td>\n",
       "      <td>0.198</td>\n",
       "      <td>0.574</td>\n",
       "      <td>-0.614</td>\n",
       "      <td>-0.766</td>\n",
       "      <td>0.782</td>\n",
       "      <td>0.976</td>\n",
       "      <td>+</td>\n",
       "      <td>X</td>\n",
       "      <td>2.458046</td>\n",
       "      <td>2.477768</td>\n",
       "    </tr>\n",
       "    <tr>\n",
       "      <th>4</th>\n",
       "      <td>4</td>\n",
       "      <td>0.838</td>\n",
       "      <td>-0.826</td>\n",
       "      <td>0.444</td>\n",
       "      <td>-0.414</td>\n",
       "      <td>0.312</td>\n",
       "      <td>-0.310</td>\n",
       "      <td>-0.484</td>\n",
       "      <td>0.438</td>\n",
       "      <td>0.392</td>\n",
       "      <td>...</td>\n",
       "      <td>-0.220</td>\n",
       "      <td>-0.766</td>\n",
       "      <td>0.764</td>\n",
       "      <td>0.540</td>\n",
       "      <td>-0.560</td>\n",
       "      <td>0.838</td>\n",
       "      <td>+</td>\n",
       "      <td>X</td>\n",
       "      <td>5.240611</td>\n",
       "      <td>-4.604616</td>\n",
       "    </tr>\n",
       "    <tr>\n",
       "      <th>...</th>\n",
       "      <td>...</td>\n",
       "      <td>...</td>\n",
       "      <td>...</td>\n",
       "      <td>...</td>\n",
       "      <td>...</td>\n",
       "      <td>...</td>\n",
       "      <td>...</td>\n",
       "      <td>...</td>\n",
       "      <td>...</td>\n",
       "      <td>...</td>\n",
       "      <td>...</td>\n",
       "      <td>...</td>\n",
       "      <td>...</td>\n",
       "      <td>...</td>\n",
       "      <td>...</td>\n",
       "      <td>...</td>\n",
       "      <td>...</td>\n",
       "      <td>...</td>\n",
       "      <td>...</td>\n",
       "      <td>...</td>\n",
       "      <td>...</td>\n",
       "    </tr>\n",
       "    <tr>\n",
       "      <th>95</th>\n",
       "      <td>95</td>\n",
       "      <td>0.992</td>\n",
       "      <td>-0.986</td>\n",
       "      <td>0.148</td>\n",
       "      <td>-0.168</td>\n",
       "      <td>-0.086</td>\n",
       "      <td>0.082</td>\n",
       "      <td>-0.154</td>\n",
       "      <td>0.142</td>\n",
       "      <td>0.472</td>\n",
       "      <td>...</td>\n",
       "      <td>0.076</td>\n",
       "      <td>0.892</td>\n",
       "      <td>-0.896</td>\n",
       "      <td>0.392</td>\n",
       "      <td>-0.474</td>\n",
       "      <td>0.992</td>\n",
       "      <td>+</td>\n",
       "      <td>X</td>\n",
       "      <td>1.112030</td>\n",
       "      <td>-4.666942</td>\n",
       "    </tr>\n",
       "    <tr>\n",
       "      <th>96</th>\n",
       "      <td>96</td>\n",
       "      <td>0.972</td>\n",
       "      <td>-0.974</td>\n",
       "      <td>0.226</td>\n",
       "      <td>-0.200</td>\n",
       "      <td>0.010</td>\n",
       "      <td>0.022</td>\n",
       "      <td>-0.212</td>\n",
       "      <td>0.246</td>\n",
       "      <td>0.972</td>\n",
       "      <td>...</td>\n",
       "      <td>-0.070</td>\n",
       "      <td>0.180</td>\n",
       "      <td>-0.148</td>\n",
       "      <td>0.996</td>\n",
       "      <td>-0.992</td>\n",
       "      <td>0.972</td>\n",
       "      <td>+</td>\n",
       "      <td>X</td>\n",
       "      <td>0.119057</td>\n",
       "      <td>-3.652233</td>\n",
       "    </tr>\n",
       "    <tr>\n",
       "      <th>97</th>\n",
       "      <td>97</td>\n",
       "      <td>0.976</td>\n",
       "      <td>-0.970</td>\n",
       "      <td>0.204</td>\n",
       "      <td>-0.224</td>\n",
       "      <td>-0.118</td>\n",
       "      <td>0.010</td>\n",
       "      <td>-0.228</td>\n",
       "      <td>0.208</td>\n",
       "      <td>0.900</td>\n",
       "      <td>...</td>\n",
       "      <td>0.054</td>\n",
       "      <td>0.406</td>\n",
       "      <td>-0.420</td>\n",
       "      <td>0.898</td>\n",
       "      <td>-0.906</td>\n",
       "      <td>0.976</td>\n",
       "      <td>+</td>\n",
       "      <td>X</td>\n",
       "      <td>0.430843</td>\n",
       "      <td>3.605063</td>\n",
       "    </tr>\n",
       "    <tr>\n",
       "      <th>98</th>\n",
       "      <td>98</td>\n",
       "      <td>1.000</td>\n",
       "      <td>-0.998</td>\n",
       "      <td>0.026</td>\n",
       "      <td>-0.070</td>\n",
       "      <td>0.006</td>\n",
       "      <td>-0.018</td>\n",
       "      <td>-0.028</td>\n",
       "      <td>0.036</td>\n",
       "      <td>0.992</td>\n",
       "      <td>...</td>\n",
       "      <td>-0.030</td>\n",
       "      <td>-0.150</td>\n",
       "      <td>0.158</td>\n",
       "      <td>0.972</td>\n",
       "      <td>-0.978</td>\n",
       "      <td>1.000</td>\n",
       "      <td>+</td>\n",
       "      <td>X</td>\n",
       "      <td>6.077224</td>\n",
       "      <td>1.334615</td>\n",
       "    </tr>\n",
       "    <tr>\n",
       "      <th>99</th>\n",
       "      <td>99</td>\n",
       "      <td>0.952</td>\n",
       "      <td>-0.964</td>\n",
       "      <td>-0.232</td>\n",
       "      <td>0.248</td>\n",
       "      <td>-0.110</td>\n",
       "      <td>0.136</td>\n",
       "      <td>0.224</td>\n",
       "      <td>-0.212</td>\n",
       "      <td>0.482</td>\n",
       "      <td>...</td>\n",
       "      <td>0.126</td>\n",
       "      <td>-0.862</td>\n",
       "      <td>0.870</td>\n",
       "      <td>0.514</td>\n",
       "      <td>-0.532</td>\n",
       "      <td>0.952</td>\n",
       "      <td>+</td>\n",
       "      <td>X</td>\n",
       "      <td>5.171392</td>\n",
       "      <td>4.308521</td>\n",
       "    </tr>\n",
       "  </tbody>\n",
       "</table>\n",
       "<p>100 rows × 24 columns</p>\n",
       "</div>"
      ],
      "text/plain": [
       "    parameters_id  expectation_value/+/X  expectation_value/-/X  \\\n",
       "0               0                  0.982                 -0.954   \n",
       "1               1                  0.998                 -0.994   \n",
       "2               2                  0.972                 -0.972   \n",
       "3               3                  0.976                 -0.978   \n",
       "4               4                  0.838                 -0.826   \n",
       "..            ...                    ...                    ...   \n",
       "95             95                  0.992                 -0.986   \n",
       "96             96                  0.972                 -0.974   \n",
       "97             97                  0.976                 -0.970   \n",
       "98             98                  1.000                 -0.998   \n",
       "99             99                  0.952                 -0.964   \n",
       "\n",
       "    expectation_value/r/X  expectation_value/l/X  expectation_value/0/X  \\\n",
       "0                   0.244                 -0.188                 -0.042   \n",
       "1                  -0.064                  0.132                 -0.020   \n",
       "2                   0.096                 -0.130                  0.236   \n",
       "3                   0.058                 -0.052                 -0.152   \n",
       "4                   0.444                 -0.414                  0.312   \n",
       "..                    ...                    ...                    ...   \n",
       "95                  0.148                 -0.168                 -0.086   \n",
       "96                  0.226                 -0.200                  0.010   \n",
       "97                  0.204                 -0.224                 -0.118   \n",
       "98                  0.026                 -0.070                  0.006   \n",
       "99                 -0.232                  0.248                 -0.110   \n",
       "\n",
       "    expectation_value/1/X  expectation_value/+/Y  expectation_value/-/Y  \\\n",
       "0                  -0.010                 -0.228                  0.260   \n",
       "1                   0.026                  0.084                 -0.130   \n",
       "2                  -0.272                 -0.106                  0.168   \n",
       "3                   0.190                 -0.100                  0.038   \n",
       "4                  -0.310                 -0.484                  0.438   \n",
       "..                    ...                    ...                    ...   \n",
       "95                  0.082                 -0.154                  0.142   \n",
       "96                  0.022                 -0.212                  0.246   \n",
       "97                  0.010                 -0.228                  0.208   \n",
       "98                 -0.018                 -0.028                  0.036   \n",
       "99                  0.136                  0.224                 -0.212   \n",
       "\n",
       "    expectation_value/r/Y  ...  expectation_value/-/Z  expectation_value/r/Z  \\\n",
       "0                   0.934  ...                 -0.010                  0.264   \n",
       "1                   0.442  ...                  0.054                 -0.894   \n",
       "2                  -0.580  ...                 -0.202                 -0.774   \n",
       "3                  -0.784  ...                  0.198                  0.574   \n",
       "4                   0.392  ...                 -0.220                 -0.766   \n",
       "..                    ...  ...                    ...                    ...   \n",
       "95                  0.472  ...                  0.076                  0.892   \n",
       "96                  0.972  ...                 -0.070                  0.180   \n",
       "97                  0.900  ...                  0.054                  0.406   \n",
       "98                  0.992  ...                 -0.030                 -0.150   \n",
       "99                  0.482  ...                  0.126                 -0.862   \n",
       "\n",
       "    expectation_value/l/Z  expectation_value/0/Z  expectation_value/1/Z  \\\n",
       "0                  -0.234                  0.958                 -0.962   \n",
       "1                   0.886                  0.446                 -0.486   \n",
       "2                   0.784                 -0.590                  0.522   \n",
       "3                  -0.614                 -0.766                  0.782   \n",
       "4                   0.764                  0.540                 -0.560   \n",
       "..                    ...                    ...                    ...   \n",
       "95                 -0.896                  0.392                 -0.474   \n",
       "96                 -0.148                  0.996                 -0.992   \n",
       "97                 -0.420                  0.898                 -0.906   \n",
       "98                  0.158                  0.972                 -0.978   \n",
       "99                  0.870                  0.514                 -0.532   \n",
       "\n",
       "    expectation_value  initial_state  observable  parameter/0/theta  \\\n",
       "0               0.982              +           X           0.276427   \n",
       "1               0.998              +           X           5.154778   \n",
       "2               0.972              +           X           4.094562   \n",
       "3               0.976              +           X           2.458046   \n",
       "4               0.838              +           X           5.240611   \n",
       "..                ...            ...         ...                ...   \n",
       "95              0.992              +           X           1.112030   \n",
       "96              0.972              +           X           0.119057   \n",
       "97              0.976              +           X           0.430843   \n",
       "98              1.000              +           X           6.077224   \n",
       "99              0.952              +           X           5.171392   \n",
       "\n",
       "    parameter/0/beta  \n",
       "0           3.608326  \n",
       "1           2.333456  \n",
       "2          -2.803718  \n",
       "3           2.477768  \n",
       "4          -4.604616  \n",
       "..               ...  \n",
       "95         -4.666942  \n",
       "96         -3.652233  \n",
       "97          3.605063  \n",
       "98          1.334615  \n",
       "99          4.308521  \n",
       "\n",
       "[100 rows x 24 columns]"
      ]
     },
     "execution_count": 4,
     "metadata": {},
     "output_type": "execute_result"
    }
   ],
   "source": [
    "loaded_data.experiment_data.postprocessed_data"
   ]
  },
  {
   "cell_type": "markdown",
   "id": "9490b9f6",
   "metadata": {},
   "source": [
    "## Data preprocessing\n",
    "\n",
    "Since we are going to train Deep neural network, it is considered a good practice to split dataset into training and testing dataset. Here we use a `sq.utils.random_split` helper function for this task."
   ]
  },
  {
   "cell_type": "code",
   "execution_count": 5,
   "id": "089a8e89",
   "metadata": {},
   "outputs": [],
   "source": [
    "# Here, we just bundling things up for convinience uses.\n",
    "key = jax.random.key(0)\n",
    "key, random_split_key, training_key = jax.random.split(key, 3)\n",
    "(\n",
    "    train_control_parameters,\n",
    "    train_unitaries,\n",
    "    train_expectation_values,\n",
    "    test_control_paramaeters,\n",
    "    test_unitaries,\n",
    "    test_expectation_values,\n",
    ") = sq.utils.random_split(\n",
    "    random_split_key,\n",
    "    int(loaded_data.control_parameters.shape[0] * 0.1),  # Test size\n",
    "    loaded_data.control_parameters,\n",
    "    loaded_data.unitaries,\n",
    "    loaded_data.expectation_values,\n",
    ")"
   ]
  },
  {
   "cell_type": "markdown",
   "id": "6d094073",
   "metadata": {},
   "source": [
    "We going to pass the data back and forth a lot, so we use a helper `DataBundled` to hold the dataset. The advantange of using this `dataclass` is that we have a code completion."
   ]
  },
  {
   "cell_type": "code",
   "execution_count": 6,
   "id": "094cc8cc",
   "metadata": {},
   "outputs": [],
   "source": [
    "train_data = sq.optimize.DataBundled(\n",
    "    control_params=sq.predefined.drag_feature_map(train_control_parameters),\n",
    "    unitaries=train_unitaries,\n",
    "    observables=train_expectation_values,\n",
    ")\n",
    "\n",
    "test_data = sq.optimize.DataBundled(\n",
    "    control_params=sq.predefined.drag_feature_map(test_control_paramaeters),\n",
    "    unitaries=test_unitaries,\n",
    "    observables=test_expectation_values,\n",
    ")"
   ]
  },
  {
   "cell_type": "markdown",
   "id": "3d5e88a1",
   "metadata": {},
   "source": [
    "Now, we setup the optimizer with the number of epoches."
   ]
  },
  {
   "cell_type": "code",
   "execution_count": 7,
   "id": "f9e0621d",
   "metadata": {},
   "outputs": [],
   "source": [
    "NUM_EPOCH = 5000\n",
    "optimizer = sq.optimize.get_default_optimizer(8 * NUM_EPOCH)"
   ]
  },
  {
   "cell_type": "markdown",
   "id": "24b71fca",
   "metadata": {},
   "source": [
    "In this tutorial, we are going to use predefined $\\hat{W}_{O}$-based model using `flax.linen`."
   ]
  },
  {
   "cell_type": "code",
   "execution_count": 8,
   "id": "748f902a",
   "metadata": {},
   "outputs": [
    {
     "data": {
      "text/plain": [
       "WoModel(\n",
       "    # attributes\n",
       "    hidden_sizes_1 = [10]\n",
       "    hidden_sizes_2 = [10]\n",
       "    pauli_operators = ('X', 'Y', 'Z')\n",
       "    NUM_UNITARY_PARAMS = 3\n",
       "    NUM_DIAGONAL_PARAMS = 2\n",
       "    unitary_activation_fn = <lambda>\n",
       "    diagonal_activation_fn = <lambda>\n",
       ")"
      ]
     },
     "execution_count": 8,
     "metadata": {},
     "output_type": "execute_result"
    }
   ],
   "source": [
    "model = sq.models.linen.WoModel(\n",
    "    hidden_sizes_1=[10],\n",
    "    hidden_sizes_2=[10],\n",
    ")\n",
    "model"
   ]
  },
  {
   "cell_type": "markdown",
   "id": "e8c32d1b",
   "metadata": {},
   "source": [
    "Next, we also have to make a loss function using `make_loss_fn`. This part depends on the implementation of the model that you choose to use. "
   ]
  },
  {
   "cell_type": "code",
   "execution_count": 9,
   "id": "7956e908",
   "metadata": {},
   "outputs": [],
   "source": [
    "loss_fn = sq.models.linen.make_loss_fn(\n",
    "    predictive_fn=sq.models.linen.wo_predictive_fn,\n",
    "    model=model,\n",
    "    calculate_metric_fn=sq.model.calculate_metric,\n",
    "    loss_metric=sq.model.LossMetric.MSEE,\n",
    ")"
   ]
  },
  {
   "cell_type": "code",
   "execution_count": 10,
   "id": "578422a6",
   "metadata": {},
   "outputs": [
    {
     "name": "stdout",
     "output_type": "stream",
     "text": [
      "Training 🚀 |████████████████████████████████████████| 5000/5000 [100%] in 45.6s\n"
     ]
    }
   ],
   "source": [
    "import optax\n",
    "from alive_progress import alive_bar\n",
    "\n",
    "with alive_bar(NUM_EPOCH, title='Training 🚀', force_tty=True) as bar:\n",
    "\n",
    "    def callback(\n",
    "        model_params: sq.models.linen.VariableDict,\n",
    "        opt_state: optax.OptState,\n",
    "        histories: list[sq.optimize.HistoryEntryV3],\n",
    "    ):\n",
    "        bar()\n",
    "\n",
    "    model_params, opt_state, histories = sq.models.linen.train_model(\n",
    "        training_key,\n",
    "        train_data=train_data,\n",
    "        val_data=test_data,  # Here, we did not care about the validating dataset.\n",
    "        test_data=test_data,\n",
    "        model=model,\n",
    "        optimizer=optimizer,\n",
    "        loss_fn=loss_fn,\n",
    "        callbacks=[lambda x, y, z: bar()],\n",
    "        NUM_EPOCH=NUM_EPOCH,\n",
    "    )\n",
    "    # Alternatively, you can use callback for a compact callback function definition.\n",
    "    # alt_callback_fn = lambda x, y, z: bar() # noqa: E731"
   ]
  },
  {
   "cell_type": "markdown",
   "id": "0b68e47e",
   "metadata": {},
   "source": [
    "## Save and load model\n",
    "\n",
    "We can save the model using `ModelData` as follows,"
   ]
  },
  {
   "cell_type": "code",
   "execution_count": 11,
   "id": "cd2305f9",
   "metadata": {},
   "outputs": [],
   "source": [
    "import tempfile\n",
    "from pathlib import Path\n",
    "\n",
    "tmpdir = tempfile.TemporaryDirectory()\n",
    "model_path = Path(tmpdir.name)\n",
    "\n",
    "# Create the path with parents if not existed already\n",
    "model_path.mkdir(parents=True, exist_ok=True)\n",
    "\n",
    "model_state = sq.model.ModelData(\n",
    "    params=model_params,\n",
    "    config={\n",
    "        \"hidden_sizes_1\": model.hidden_sizes_1,\n",
    "        \"hidden_sizes_2\": model.hidden_sizes_1,\n",
    "    },\n",
    ")\n",
    "# Save with,\n",
    "model_state.to_file(model_path / \"model.json\")\n",
    "# and load it back using,\n",
    "model_state_from_file = sq.model.ModelData.from_file(model_path / \"model.json\")\n",
    "tmpdir.cleanup()\n"
   ]
  },
  {
   "cell_type": "markdown",
   "id": "64172442",
   "metadata": {},
   "source": [
    "We can check that both are equal,"
   ]
  },
  {
   "cell_type": "code",
   "execution_count": 12,
   "id": "5c369c4c",
   "metadata": {},
   "outputs": [
    {
     "data": {
      "text/plain": [
       "True"
      ]
     },
     "execution_count": 12,
     "metadata": {},
     "output_type": "execute_result"
    }
   ],
   "source": [
    "model_state == model_state_from_file"
   ]
  },
  {
   "cell_type": "code",
   "execution_count": 13,
   "id": "0f7e2064",
   "metadata": {},
   "outputs": [
    {
     "data": {
      "image/png": "[encoded data removed]",
      "text/plain": [
       "<Figure size 1000x300 with 1 Axes>"
      ]
     },
     "metadata": {},
     "output_type": "display_data"
    }
   ],
   "source": [
    "import pandas as pd\n",
    "import matplotlib.pyplot as plt\n",
    "\n",
    "hist_df = pd.DataFrame(\n",
    "    [\n",
    "        {\"step\": entry.step, \"loss\": float(entry.loss), \"loop\": entry.loop}\n",
    "        for entry in histories\n",
    "    ]\n",
    ")\n",
    "fig, ax = plt.subplots(1, 1, figsize=(10, 3))\n",
    "sq.visualization.plot_loss_with_moving_average(\n",
    "    x=hist_df.query(\"loop == 'train'\")[\"step\"].to_numpy(),\n",
    "    y=hist_df.query(\"loop == 'train'\")[\"loss\"].to_numpy(),\n",
    "    ax=ax,\n",
    "    annotate_at=[],\n",
    "    color=\"red\",\n",
    "    label=\"Training\",\n",
    ")\n",
    "\n",
    "sq.visualization.plot_loss_with_moving_average(\n",
    "    x=hist_df.query(\"loop == 'test'\")[\"step\"].to_numpy(),\n",
    "    y=hist_df.query(\"loop == 'test'\")[\"loss\"].to_numpy(),\n",
    "    ax=ax,\n",
    "    annotate_at=[],\n",
    "    color=\"blue\",\n",
    "    label=\"Testing\",\n",
    ")\n",
    "\n",
    "shots = loaded_data.experiment_data.experiment_config.shots\n",
    "\n",
    "ax.set_yscale(\"log\")\n",
    "ax.set_xscale(\"log\")\n",
    "ax.axhline(y=2/(3 * shots), linestyle='dashed', color=\"gray\")\n",
    "ax.legend()\n",
    "\n",
    "sq.visualization.set_fontsize(ax, 16)"
   ]
  },
  {
   "cell_type": "markdown",
   "id": "4756c5b5",
   "metadata": {},
   "source": [
    "## Predictive model construction.\n",
    "\n",
    "We can use the adapter function that we used to make a loss function with `partial` to create the predictive model."
   ]
  },
  {
   "cell_type": "code",
   "execution_count": 14,
   "id": "4030f3a3",
   "metadata": {},
   "outputs": [],
   "source": [
    "from functools import partial\n",
    "\n",
    "model = sq.models.linen.WoModel(**model_state.config)\n",
    "\n",
    "predictive_model = partial(\n",
    "    sq.models.linen.wo_predictive_fn, model=model, model_params=model_state.params\n",
    ")"
   ]
  },
  {
   "cell_type": "markdown",
   "id": "85dd8f2a",
   "metadata": {},
   "source": [
    "Here is how can the predictive model be used to predict the expectation values given new parameters."
   ]
  },
  {
   "cell_type": "code",
   "execution_count": 15,
   "id": "d8d56af8",
   "metadata": {},
   "outputs": [
    {
     "data": {
      "text/plain": [
       "Array([ 0.97084716, -0.97084716,  0.23626797, -0.23626797, -0.04041181,\n",
       "        0.04041181, -0.22440206,  0.22440206,  0.9390122 , -0.9390122 ,\n",
       "       -0.26057569,  0.26057569, -0.04353546,  0.04353546,  0.24955875,\n",
       "       -0.24955875,  0.96738053, -0.96738053], dtype=float64)"
      ]
     },
     "execution_count": 15,
     "metadata": {},
     "output_type": "execute_result"
    }
   ],
   "source": [
    "key, params_key = jax.random.split(key)\n",
    "_, l2a_fn = sq.control.get_param_array_converter(loaded_data.control_sequence)\n",
    "sample_params = l2a_fn(loaded_data.control_sequence.sample_params(params_key))\n",
    "\n",
    "unitary_f = loaded_data.whitebox(sample_params)[-1]\n",
    "predictive_model(sq.predefined.drag_feature_map(sample_params), unitary_f)"
   ]
  },
  {
   "cell_type": "markdown",
   "id": "e0f9594a",
   "metadata": {},
   "source": [
    "Even more elegant, we can define a predictive model with the `whitebox` embeded as follows."
   ]
  },
  {
   "cell_type": "code",
   "execution_count": 16,
   "id": "1892452f",
   "metadata": {},
   "outputs": [
    {
     "data": {
      "text/plain": [
       "Array([ 0.97084716, -0.97084716,  0.23626797, -0.23626797, -0.04041181,\n",
       "        0.04041181, -0.22440206,  0.22440206,  0.9390122 , -0.9390122 ,\n",
       "       -0.26057569,  0.26057569, -0.04353546,  0.04353546,  0.24955875,\n",
       "       -0.24955875,  0.96738053, -0.96738053], dtype=float64)"
      ]
     },
     "execution_count": 16,
     "metadata": {},
     "output_type": "execute_result"
    }
   ],
   "source": [
    "def embed_predictive_model(control_parameters: jnp.ndarray):\n",
    "    unitary_f = loaded_data.whitebox(control_parameters)[-1]\n",
    "    return predictive_model(\n",
    "        sq.predefined.drag_feature_map(control_parameters), unitary_f\n",
    "    )\n",
    "\n",
    "embed_predictive_model(sample_params)"
   ]
  },
  {
   "cell_type": "markdown",
   "id": "1330026c",
   "metadata": {},
   "source": [
    "## Control Calibration\n",
    "\n",
    "As an example, we are going to use the predictive model to calibrate for the quantum gate. Specifically, we want to find a control parameters that maximize an average gate fidelity with respected to $\\sqrt{X}$ gate. First, we define a cost function that the optimizer should find the parameters that minimize its output. "
   ]
  },
  {
   "cell_type": "code",
   "execution_count": 17,
   "id": "cd753abc",
   "metadata": {},
   "outputs": [
    {
     "data": {
      "text/plain": [
       "(Array(0.06409491, dtype=float64), {'AGF': Array(0.74683027, dtype=float64)})"
      ]
     },
     "execution_count": 17,
     "metadata": {},
     "output_type": "execute_result"
    }
   ],
   "source": [
    "calculate_agf_sx = sq.physics.direct_AGF_estimation_fn(sq.constant.SX)\n",
    "\n",
    "@jax.jit\n",
    "def average_gate_infidelity(params: jnp.ndarray):\n",
    "    # Predict the expectation values\n",
    "    predicted_expvals = embed_predictive_model(params)\n",
    "    # Calculate the average gate fidelity with respected to SX gate.\n",
    "    AGF = calculate_agf_sx(predicted_expvals)\n",
    "    # return average gate infidelity squared and log the results.\n",
    "    return (1 - AGF) ** 2, {\"AGF\": AGF}\n",
    "\n",
    "average_gate_infidelity(sample_params)"
   ]
  },
  {
   "cell_type": "markdown",
   "id": "e5accee1",
   "metadata": {},
   "source": [
    "Now, we can optimize it using `sq.optimize.minimize`."
   ]
  },
  {
   "cell_type": "code",
   "execution_count": 18,
   "id": "facd3930",
   "metadata": {},
   "outputs": [
    {
     "name": "stdout",
     "output_type": "stream",
     "text": [
      "|████████████████████████████████████████| 1000/1000 [100%] in 2:09.4 (7.73/s)  \n"
     ]
    }
   ],
   "source": [
    "key, init_key = jax.random.split(key)\n",
    "init_params = l2a_fn(loaded_data.control_sequence.sample_params(init_key))\n",
    "\n",
    "lower, upper = loaded_data.control_sequence.get_bounds()\n",
    "\n",
    "optimized_params, aux = sq.optimize.minimize(\n",
    "    init_params,\n",
    "    average_gate_infidelity,\n",
    "    sq.optimize.get_default_optimizer(1000),\n",
    "    l2a_fn(lower),\n",
    "    l2a_fn(upper),\n",
    "    maxiter=1000,\n",
    ")"
   ]
  },
  {
   "cell_type": "code",
   "execution_count": 56,
   "id": "59647b1b",
   "metadata": {},
   "outputs": [
    {
     "data": {
      "text/plain": [
       "Array([1.93835769, 0.05089961], dtype=float64)"
      ]
     },
     "execution_count": 56,
     "metadata": {},
     "output_type": "execute_result"
    }
   ],
   "source": [
    "optimized_params"
   ]
  },
  {
   "cell_type": "code",
   "execution_count": 58,
   "id": "256fd30a",
   "metadata": {},
   "outputs": [
    {
     "data": {
      "text/plain": [
       "{'AGF': Array(0.97483661, dtype=float64),\n",
       " 'params': Array([1.93835769, 0.05089961], dtype=float64)}"
      ]
     },
     "execution_count": 58,
     "metadata": {},
     "output_type": "execute_result"
    }
   ],
   "source": [
    "aux[-1]"
   ]
  },
  {
   "cell_type": "markdown",
   "id": "105c9cc0",
   "metadata": {},
   "source": [
    "## Benchmark\n",
    "\n",
    "Let's check if the model can accurately characterized the hidden device."
   ]
  },
  {
   "cell_type": "code",
   "execution_count": 63,
   "id": "81df52f8",
   "metadata": {},
   "outputs": [],
   "source": [
    "def quantum_device(params: jnp.ndarray):\n",
    "    return sq.model.get_predict_expectation_value(\n",
    "        {\"X\": sq.constant.X, \"Y\": sq.constant.Y, \"Z\": sq.constant.Z},\n",
    "        data_model.solver(params)[-1],\n",
    "        sq.constant.default_expectation_values_order,\n",
    "    )"
   ]
  },
  {
   "cell_type": "code",
   "execution_count": 66,
   "id": "2fa3d453",
   "metadata": {},
   "outputs": [
    {
     "data": {
      "text/plain": [
       "Array(0.97310763, dtype=float64)"
      ]
     },
     "execution_count": 66,
     "metadata": {},
     "output_type": "execute_result"
    }
   ],
   "source": [
    "assert isinstance(optimized_params, jnp.ndarray)\n",
    "real_expvals = quantum_device(optimized_params)\n",
    "\n",
    "calculate_agf_sx(real_expvals)"
   ]
  },
  {
   "cell_type": "markdown",
   "id": "702fd53c",
   "metadata": {},
   "source": [
    "As a final thought:\n",
    "- This is the benchmark without taking the finite-shot effect into the account.\n",
    "- This is characterization without a model selection process such as hyperparameter tuning."
   ]
  }
 ],
 "metadata": {
  "kernelspec": {
   "display_name": "inspeqtor (3.13.0)",
   "language": "python",
   "name": "python3"
  },
  "language_info": {
   "codemirror_mode": {
    "name": "ipython",
    "version": 3
   },
   "file_extension": ".py",
   "mimetype": "text/x-python",
   "name": "python",
   "nbconvert_exporter": "python",
   "pygments_lexer": "ipython3",
   "version": "3.13.0"
  }
 },
 "nbformat": 4,
 "nbformat_minor": 5
}
