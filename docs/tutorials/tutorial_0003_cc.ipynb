{
 "cells": [
  {
   "cell_type": "markdown",
   "id": "ef00bdf3",
   "metadata": {},
   "source": [
    "# Characterization and Calibration using Graybox\n",
    "\n",
    "<div class=\"admonition goal\">\n",
    "    <p class=\"admonition-title\">Goal</p>\n",
    "    <p>\n",
    "        This tutorial aims to guide you thourgh a process of characterizing a predicitive model, and using the predictive model in calibrating for quantum gate using open-loop optimization (although not necessary). \n",
    "    </p>\n",
    "</div>"
   ]
  },
  {
   "cell_type": "code",
   "execution_count": 1,
   "id": "18d5d758",
   "metadata": {},
   "outputs": [],
   "source": [
    "import jax\n",
    "import jax.numpy as jnp\n",
    "import inspeqtor.experimental as sq"
   ]
  },
  {
   "cell_type": "markdown",
   "id": "e61b26e8",
   "metadata": {},
   "source": [
    "## Generate some synthetic data"
   ]
  },
  {
   "cell_type": "code",
   "execution_count": 2,
   "id": "d4f95052",
   "metadata": {},
   "outputs": [],
   "source": [
    "data_model = sq.predefined.get_predefined_data_model_m1()\n",
    "\n",
    "# Now, we use the noise model to performing the data using simulator.\n",
    "exp_data, _, _, _ = sq.predefined.generate_experimental_data(\n",
    "    key=jax.random.key(0),\n",
    "    hamiltonian=data_model.total_hamiltonian,\n",
    "    sample_size=100,\n",
    "    strategy=sq.predefined.SimulationStrategy.SHOT,\n",
    "    get_qubit_information_fn=lambda: data_model.qubit_information,\n",
    "    get_control_sequence_fn=lambda: data_model.control_sequence,\n",
    "    method=sq.predefined.WhiteboxStrategy.TROTTER,\n",
    "    trotter_steps=10_000,\n",
    ")\n",
    "\n",
    "# Now we can prepare the dataset that ready to use.\n",
    "whitebox = sq.physics.make_trotterization_solver(\n",
    "    data_model.ideal_hamiltonian,\n",
    "    data_model.control_sequence,\n",
    "    data_model.dt,\n",
    "    trotter_steps=10_000,\n",
    ")\n",
    "loaded_data = sq.utils.prepare_data(\n",
    "    exp_data, data_model.control_sequence, whitebox\n",
    ")"
   ]
  },
  {
   "cell_type": "markdown",
   "id": "c5dcf27e",
   "metadata": {},
   "source": [
    "We can inspect the experiment configuration from predefined noise model using `display` function from `flax.nnx`"
   ]
  },
  {
   "cell_type": "code",
   "execution_count": 3,
   "id": "168cb54e",
   "metadata": {},
   "outputs": [
    {
     "data": {
      "text/html": [
       "<script> (()=>{ if (customElements.get('treescope-container') === undefined) { class TreescopeContainer extends HTMLElement { constructor() { super(); this.attachShadow({mode: \"open\"}); this.defns = {}; this.state = {}; } } customElements.define(\"treescope-container\", TreescopeContainer); } if (customElements.get('treescope-run-here') === undefined) { class RunHere extends HTMLElement { constructor() { super() } connectedCallback() { const run = child => { const fn = new Function(child.textContent); child.textContent = \"\"; fn.call(this); this.remove(); }; const child = this.querySelector(\"script\"); if (child) { run(child); } else { new MutationObserver(()=>{ run(this.querySelector(\"script\")); }).observe(this, {childList: true}); } } } customElements.define(\"treescope-run-here\", RunHere); } })(); </script> <treescope-container class=\"treescope_out_9b2ee383cbd84a908bc3606a4543ce35\" style=\"display:block\"></treescope-container> <treescope-run-here><script type=\"application/octet-stream\"> const root = ( Array.from(document.getElementsByClassName( \"treescope_out_9b2ee383cbd84a908bc3606a4543ce35\")) .filter((elt) => !elt.dataset.setup) )[0]; root.dataset.setup = 1; const msg = document.createElement(\"span\"); msg.style = \"color: #cccccc; font-family: monospace;\"; msg.textContent = \"(Loading...)\"; root.state.loadingMsg = msg; root.shadowRoot.appendChild(msg); root.state.chain = new Promise((resolve, reject) => { const observer = new IntersectionObserver((entries) => { for (const entry of entries) { if (entry.isIntersecting) { resolve(); observer.disconnect(); return; } } }, {rootMargin: \"1000px\"}); window.setTimeout(() => { observer.observe(root); }, 0); }); root.state.deferring = false; const _insertNode = (node) => { for (let oldScript of node.querySelectorAll(\"script\")) { let newScript = document.createElement(\"script\"); newScript.type = oldScript.type; newScript.textContent = oldScript.textContent; oldScript.parentNode.replaceChild(newScript, oldScript); } if (root.state.loadingMsg) { root.state.loadingMsg.remove(); root.state.loadingMsg = null; } root.shadowRoot.appendChild(node); }; root.defns.insertContent = ((contentNode, compressed) => { if (compressed) { root.state.deferring = true; } if (root.state.deferring) { root.state.chain = (async () => { await root.state.chain; if (compressed) { const encoded = contentNode.textContent; const blob = new Blob([ Uint8Array.from(atob(encoded), (m) => m.codePointAt(0)) ]); const reader = blob.stream().pipeThrough( new DecompressionStream(\"deflate\") ).pipeThrough( new TextDecoderStream(\"utf-8\") ).getReader(); const parts = []; while (true) { const step = await reader.read(); if (step.done) { break; } parts.push(step.value); } const tpl = document.createElement('template'); tpl.innerHTML = parts.join(\"\"); _insertNode(tpl.content); } else { _insertNode(contentNode.content); } })(); } else { _insertNode(contentNode.content); } }); </script></treescope-run-here><div style=\"display:none\"> <script type=\"application/octet-stream\" >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</script> <treescope-run-here><script type=\"application/octet-stream\"> const root = ( Array.from(document.getElementsByClassName( \"treescope_out_9b2ee383cbd84a908bc3606a4543ce35\")) .filter((elt) => !elt.dataset['step0']) )[0]; root.dataset['step0'] = 1; root.defns.insertContent( this.parentNode.querySelector('script[type=\"application/octet-stream\"]'), true ); this.parentNode.remove(); </script></treescope-run-here> </div>"
      ],
      "text/plain": [
       "<IPython.core.display.HTML object>"
      ]
     },
     "metadata": {},
     "output_type": "display_data"
    },
    {
     "data": {
      "text/html": [
       "<div style=\"display:none\"> <script type=\"application/octet-stream\" >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</script> <treescope-run-here><script type=\"application/octet-stream\"> const root = ( Array.from(document.getElementsByClassName( \"treescope_out_9b2ee383cbd84a908bc3606a4543ce35\")) .filter((elt) => !elt.dataset['step1']) )[0]; root.dataset['step1'] = 1; root.defns.insertContent( this.parentNode.querySelector('script[type=\"application/octet-stream\"]'), true ); this.parentNode.remove(); </script></treescope-run-here> </div>"
      ],
      "text/plain": [
       "<IPython.core.display.HTML object>"
      ]
     },
     "metadata": {},
     "output_type": "display_data"
    }
   ],
   "source": [
    "from flax.nnx import display\n",
    "\n",
    "display(loaded_data.experiment_data.experiment_config)"
   ]
  },
  {
   "cell_type": "markdown",
   "id": "ad62d4b1",
   "metadata": {},
   "source": [
    "And the experimental data,"
   ]
  },
  {
   "cell_type": "code",
   "execution_count": 4,
   "id": "f4c62169",
   "metadata": {},
   "outputs": [
    {
     "data": {
      "text/html": [
       "<div>\n",
       "<style scoped>\n",
       "    .dataframe tbody tr th:only-of-type {\n",
       "        vertical-align: middle;\n",
       "    }\n",
       "\n",
       "    .dataframe tbody tr th {\n",
       "        vertical-align: top;\n",
       "    }\n",
       "\n",
       "    .dataframe thead th {\n",
       "        text-align: right;\n",
       "    }\n",
       "</style>\n",
       "<table border=\"1\" class=\"dataframe\">\n",
       "  <thead>\n",
       "    <tr style=\"text-align: right;\">\n",
       "      <th></th>\n",
       "      <th>parameters_id</th>\n",
       "      <th>expectation_value/+/X</th>\n",
       "      <th>expectation_value/-/X</th>\n",
       "      <th>expectation_value/r/X</th>\n",
       "      <th>expectation_value/l/X</th>\n",
       "      <th>expectation_value/0/X</th>\n",
       "      <th>expectation_value/1/X</th>\n",
       "      <th>expectation_value/+/Y</th>\n",
       "      <th>expectation_value/-/Y</th>\n",
       "      <th>expectation_value/r/Y</th>\n",
       "      <th>...</th>\n",
       "      <th>expectation_value/-/Z</th>\n",
       "      <th>expectation_value/r/Z</th>\n",
       "      <th>expectation_value/l/Z</th>\n",
       "      <th>expectation_value/0/Z</th>\n",
       "      <th>expectation_value/1/Z</th>\n",
       "      <th>expectation_value</th>\n",
       "      <th>initial_state</th>\n",
       "      <th>observable</th>\n",
       "      <th>parameter/0/theta</th>\n",
       "      <th>parameter/0/beta</th>\n",
       "    </tr>\n",
       "  </thead>\n",
       "  <tbody>\n",
       "    <tr>\n",
       "      <th>0</th>\n",
       "      <td>0</td>\n",
       "      <td>0.982</td>\n",
       "      <td>-0.954</td>\n",
       "      <td>0.244</td>\n",
       "      <td>-0.188</td>\n",
       "      <td>-0.042</td>\n",
       "      <td>-0.010</td>\n",
       "      <td>-0.228</td>\n",
       "      <td>0.260</td>\n",
       "      <td>0.934</td>\n",
       "      <td>...</td>\n",
       "      <td>-0.010</td>\n",
       "      <td>0.264</td>\n",
       "      <td>-0.234</td>\n",
       "      <td>0.958</td>\n",
       "      <td>-0.962</td>\n",
       "      <td>0.982</td>\n",
       "      <td>+</td>\n",
       "      <td>X</td>\n",
       "      <td>0.276427</td>\n",
       "      <td>3.608326</td>\n",
       "    </tr>\n",
       "    <tr>\n",
       "      <th>1</th>\n",
       "      <td>1</td>\n",
       "      <td>0.998</td>\n",
       "      <td>-0.994</td>\n",
       "      <td>-0.064</td>\n",
       "      <td>0.132</td>\n",
       "      <td>-0.020</td>\n",
       "      <td>0.026</td>\n",
       "      <td>0.084</td>\n",
       "      <td>-0.130</td>\n",
       "      <td>0.442</td>\n",
       "      <td>...</td>\n",
       "      <td>0.054</td>\n",
       "      <td>-0.894</td>\n",
       "      <td>0.886</td>\n",
       "      <td>0.446</td>\n",
       "      <td>-0.486</td>\n",
       "      <td>0.998</td>\n",
       "      <td>+</td>\n",
       "      <td>X</td>\n",
       "      <td>5.154778</td>\n",
       "      <td>2.333456</td>\n",
       "    </tr>\n",
       "    <tr>\n",
       "      <th>2</th>\n",
       "      <td>2</td>\n",
       "      <td>0.972</td>\n",
       "      <td>-0.972</td>\n",
       "      <td>0.096</td>\n",
       "      <td>-0.130</td>\n",
       "      <td>0.236</td>\n",
       "      <td>-0.272</td>\n",
       "      <td>-0.106</td>\n",
       "      <td>0.168</td>\n",
       "      <td>-0.580</td>\n",
       "      <td>...</td>\n",
       "      <td>-0.202</td>\n",
       "      <td>-0.774</td>\n",
       "      <td>0.784</td>\n",
       "      <td>-0.590</td>\n",
       "      <td>0.522</td>\n",
       "      <td>0.972</td>\n",
       "      <td>+</td>\n",
       "      <td>X</td>\n",
       "      <td>4.094562</td>\n",
       "      <td>-2.803718</td>\n",
       "    </tr>\n",
       "    <tr>\n",
       "      <th>3</th>\n",
       "      <td>3</td>\n",
       "      <td>0.976</td>\n",
       "      <td>-0.978</td>\n",
       "      <td>0.058</td>\n",
       "      <td>-0.052</td>\n",
       "      <td>-0.152</td>\n",
       "      <td>0.190</td>\n",
       "      <td>-0.100</td>\n",
       "      <td>0.038</td>\n",
       "      <td>-0.784</td>\n",
       "      <td>...</td>\n",
       "      <td>0.198</td>\n",
       "      <td>0.574</td>\n",
       "      <td>-0.614</td>\n",
       "      <td>-0.766</td>\n",
       "      <td>0.782</td>\n",
       "      <td>0.976</td>\n",
       "      <td>+</td>\n",
       "      <td>X</td>\n",
       "      <td>2.458046</td>\n",
       "      <td>2.477768</td>\n",
       "    </tr>\n",
       "    <tr>\n",
       "      <th>4</th>\n",
       "      <td>4</td>\n",
       "      <td>0.838</td>\n",
       "      <td>-0.826</td>\n",
       "      <td>0.444</td>\n",
       "      <td>-0.414</td>\n",
       "      <td>0.312</td>\n",
       "      <td>-0.310</td>\n",
       "      <td>-0.484</td>\n",
       "      <td>0.438</td>\n",
       "      <td>0.392</td>\n",
       "      <td>...</td>\n",
       "      <td>-0.220</td>\n",
       "      <td>-0.766</td>\n",
       "      <td>0.764</td>\n",
       "      <td>0.540</td>\n",
       "      <td>-0.560</td>\n",
       "      <td>0.838</td>\n",
       "      <td>+</td>\n",
       "      <td>X</td>\n",
       "      <td>5.240611</td>\n",
       "      <td>-4.604616</td>\n",
       "    </tr>\n",
       "    <tr>\n",
       "      <th>...</th>\n",
       "      <td>...</td>\n",
       "      <td>...</td>\n",
       "      <td>...</td>\n",
       "      <td>...</td>\n",
       "      <td>...</td>\n",
       "      <td>...</td>\n",
       "      <td>...</td>\n",
       "      <td>...</td>\n",
       "      <td>...</td>\n",
       "      <td>...</td>\n",
       "      <td>...</td>\n",
       "      <td>...</td>\n",
       "      <td>...</td>\n",
       "      <td>...</td>\n",
       "      <td>...</td>\n",
       "      <td>...</td>\n",
       "      <td>...</td>\n",
       "      <td>...</td>\n",
       "      <td>...</td>\n",
       "      <td>...</td>\n",
       "      <td>...</td>\n",
       "    </tr>\n",
       "    <tr>\n",
       "      <th>95</th>\n",
       "      <td>95</td>\n",
       "      <td>0.992</td>\n",
       "      <td>-0.986</td>\n",
       "      <td>0.148</td>\n",
       "      <td>-0.168</td>\n",
       "      <td>-0.086</td>\n",
       "      <td>0.082</td>\n",
       "      <td>-0.154</td>\n",
       "      <td>0.142</td>\n",
       "      <td>0.472</td>\n",
       "      <td>...</td>\n",
       "      <td>0.076</td>\n",
       "      <td>0.892</td>\n",
       "      <td>-0.896</td>\n",
       "      <td>0.392</td>\n",
       "      <td>-0.474</td>\n",
       "      <td>0.992</td>\n",
       "      <td>+</td>\n",
       "      <td>X</td>\n",
       "      <td>1.112030</td>\n",
       "      <td>-4.666942</td>\n",
       "    </tr>\n",
       "    <tr>\n",
       "      <th>96</th>\n",
       "      <td>96</td>\n",
       "      <td>0.972</td>\n",
       "      <td>-0.974</td>\n",
       "      <td>0.226</td>\n",
       "      <td>-0.200</td>\n",
       "      <td>0.010</td>\n",
       "      <td>0.022</td>\n",
       "      <td>-0.212</td>\n",
       "      <td>0.246</td>\n",
       "      <td>0.972</td>\n",
       "      <td>...</td>\n",
       "      <td>-0.070</td>\n",
       "      <td>0.180</td>\n",
       "      <td>-0.148</td>\n",
       "      <td>0.996</td>\n",
       "      <td>-0.992</td>\n",
       "      <td>0.972</td>\n",
       "      <td>+</td>\n",
       "      <td>X</td>\n",
       "      <td>0.119057</td>\n",
       "      <td>-3.652233</td>\n",
       "    </tr>\n",
       "    <tr>\n",
       "      <th>97</th>\n",
       "      <td>97</td>\n",
       "      <td>0.976</td>\n",
       "      <td>-0.970</td>\n",
       "      <td>0.204</td>\n",
       "      <td>-0.224</td>\n",
       "      <td>-0.118</td>\n",
       "      <td>0.010</td>\n",
       "      <td>-0.228</td>\n",
       "      <td>0.208</td>\n",
       "      <td>0.900</td>\n",
       "      <td>...</td>\n",
       "      <td>0.054</td>\n",
       "      <td>0.406</td>\n",
       "      <td>-0.420</td>\n",
       "      <td>0.898</td>\n",
       "      <td>-0.906</td>\n",
       "      <td>0.976</td>\n",
       "      <td>+</td>\n",
       "      <td>X</td>\n",
       "      <td>0.430843</td>\n",
       "      <td>3.605063</td>\n",
       "    </tr>\n",
       "    <tr>\n",
       "      <th>98</th>\n",
       "      <td>98</td>\n",
       "      <td>1.000</td>\n",
       "      <td>-0.998</td>\n",
       "      <td>0.026</td>\n",
       "      <td>-0.070</td>\n",
       "      <td>0.006</td>\n",
       "      <td>-0.018</td>\n",
       "      <td>-0.028</td>\n",
       "      <td>0.036</td>\n",
       "      <td>0.992</td>\n",
       "      <td>...</td>\n",
       "      <td>-0.030</td>\n",
       "      <td>-0.150</td>\n",
       "      <td>0.158</td>\n",
       "      <td>0.972</td>\n",
       "      <td>-0.978</td>\n",
       "      <td>1.000</td>\n",
       "      <td>+</td>\n",
       "      <td>X</td>\n",
       "      <td>6.077224</td>\n",
       "      <td>1.334615</td>\n",
       "    </tr>\n",
       "    <tr>\n",
       "      <th>99</th>\n",
       "      <td>99</td>\n",
       "      <td>0.952</td>\n",
       "      <td>-0.964</td>\n",
       "      <td>-0.232</td>\n",
       "      <td>0.248</td>\n",
       "      <td>-0.110</td>\n",
       "      <td>0.136</td>\n",
       "      <td>0.224</td>\n",
       "      <td>-0.212</td>\n",
       "      <td>0.482</td>\n",
       "      <td>...</td>\n",
       "      <td>0.126</td>\n",
       "      <td>-0.862</td>\n",
       "      <td>0.870</td>\n",
       "      <td>0.514</td>\n",
       "      <td>-0.532</td>\n",
       "      <td>0.952</td>\n",
       "      <td>+</td>\n",
       "      <td>X</td>\n",
       "      <td>5.171392</td>\n",
       "      <td>4.308521</td>\n",
       "    </tr>\n",
       "  </tbody>\n",
       "</table>\n",
       "<p>100 rows × 24 columns</p>\n",
       "</div>"
      ],
      "text/plain": [
       "    parameters_id  expectation_value/+/X  expectation_value/-/X  \\\n",
       "0               0                  0.982                 -0.954   \n",
       "1               1                  0.998                 -0.994   \n",
       "2               2                  0.972                 -0.972   \n",
       "3               3                  0.976                 -0.978   \n",
       "4               4                  0.838                 -0.826   \n",
       "..            ...                    ...                    ...   \n",
       "95             95                  0.992                 -0.986   \n",
       "96             96                  0.972                 -0.974   \n",
       "97             97                  0.976                 -0.970   \n",
       "98             98                  1.000                 -0.998   \n",
       "99             99                  0.952                 -0.964   \n",
       "\n",
       "    expectation_value/r/X  expectation_value/l/X  expectation_value/0/X  \\\n",
       "0                   0.244                 -0.188                 -0.042   \n",
       "1                  -0.064                  0.132                 -0.020   \n",
       "2                   0.096                 -0.130                  0.236   \n",
       "3                   0.058                 -0.052                 -0.152   \n",
       "4                   0.444                 -0.414                  0.312   \n",
       "..                    ...                    ...                    ...   \n",
       "95                  0.148                 -0.168                 -0.086   \n",
       "96                  0.226                 -0.200                  0.010   \n",
       "97                  0.204                 -0.224                 -0.118   \n",
       "98                  0.026                 -0.070                  0.006   \n",
       "99                 -0.232                  0.248                 -0.110   \n",
       "\n",
       "    expectation_value/1/X  expectation_value/+/Y  expectation_value/-/Y  \\\n",
       "0                  -0.010                 -0.228                  0.260   \n",
       "1                   0.026                  0.084                 -0.130   \n",
       "2                  -0.272                 -0.106                  0.168   \n",
       "3                   0.190                 -0.100                  0.038   \n",
       "4                  -0.310                 -0.484                  0.438   \n",
       "..                    ...                    ...                    ...   \n",
       "95                  0.082                 -0.154                  0.142   \n",
       "96                  0.022                 -0.212                  0.246   \n",
       "97                  0.010                 -0.228                  0.208   \n",
       "98                 -0.018                 -0.028                  0.036   \n",
       "99                  0.136                  0.224                 -0.212   \n",
       "\n",
       "    expectation_value/r/Y  ...  expectation_value/-/Z  expectation_value/r/Z  \\\n",
       "0                   0.934  ...                 -0.010                  0.264   \n",
       "1                   0.442  ...                  0.054                 -0.894   \n",
       "2                  -0.580  ...                 -0.202                 -0.774   \n",
       "3                  -0.784  ...                  0.198                  0.574   \n",
       "4                   0.392  ...                 -0.220                 -0.766   \n",
       "..                    ...  ...                    ...                    ...   \n",
       "95                  0.472  ...                  0.076                  0.892   \n",
       "96                  0.972  ...                 -0.070                  0.180   \n",
       "97                  0.900  ...                  0.054                  0.406   \n",
       "98                  0.992  ...                 -0.030                 -0.150   \n",
       "99                  0.482  ...                  0.126                 -0.862   \n",
       "\n",
       "    expectation_value/l/Z  expectation_value/0/Z  expectation_value/1/Z  \\\n",
       "0                  -0.234                  0.958                 -0.962   \n",
       "1                   0.886                  0.446                 -0.486   \n",
       "2                   0.784                 -0.590                  0.522   \n",
       "3                  -0.614                 -0.766                  0.782   \n",
       "4                   0.764                  0.540                 -0.560   \n",
       "..                    ...                    ...                    ...   \n",
       "95                 -0.896                  0.392                 -0.474   \n",
       "96                 -0.148                  0.996                 -0.992   \n",
       "97                 -0.420                  0.898                 -0.906   \n",
       "98                  0.158                  0.972                 -0.978   \n",
       "99                  0.870                  0.514                 -0.532   \n",
       "\n",
       "    expectation_value  initial_state  observable  parameter/0/theta  \\\n",
       "0               0.982              +           X           0.276427   \n",
       "1               0.998              +           X           5.154778   \n",
       "2               0.972              +           X           4.094562   \n",
       "3               0.976              +           X           2.458046   \n",
       "4               0.838              +           X           5.240611   \n",
       "..                ...            ...         ...                ...   \n",
       "95              0.992              +           X           1.112030   \n",
       "96              0.972              +           X           0.119057   \n",
       "97              0.976              +           X           0.430843   \n",
       "98              1.000              +           X           6.077224   \n",
       "99              0.952              +           X           5.171392   \n",
       "\n",
       "    parameter/0/beta  \n",
       "0           3.608326  \n",
       "1           2.333456  \n",
       "2          -2.803718  \n",
       "3           2.477768  \n",
       "4          -4.604616  \n",
       "..               ...  \n",
       "95         -4.666942  \n",
       "96         -3.652233  \n",
       "97          3.605063  \n",
       "98          1.334615  \n",
       "99          4.308521  \n",
       "\n",
       "[100 rows x 24 columns]"
      ]
     },
     "execution_count": 4,
     "metadata": {},
     "output_type": "execute_result"
    }
   ],
   "source": [
    "loaded_data.experiment_data.postprocessed_data"
   ]
  },
  {
   "cell_type": "markdown",
   "id": "9490b9f6",
   "metadata": {},
   "source": [
    "## Data preprocessing\n",
    "\n",
    "Since we are going to train Deep neural network, it is considered a good practice to split dataset into training and testing dataset. Here we use a `sq.utils.random_split` helper function for this task."
   ]
  },
  {
   "cell_type": "code",
   "execution_count": 5,
   "id": "089a8e89",
   "metadata": {},
   "outputs": [],
   "source": [
    "# Here, we just bundling things up for convinience uses.\n",
    "key = jax.random.key(0)\n",
    "key, random_split_key, training_key = jax.random.split(key, 3)\n",
    "(\n",
    "    train_control_parameters,\n",
    "    train_unitaries,\n",
    "    train_expectation_values,\n",
    "    test_control_paramaeters,\n",
    "    test_unitaries,\n",
    "    test_expectation_values,\n",
    ") = sq.utils.random_split(\n",
    "    random_split_key,\n",
    "    int(loaded_data.control_parameters.shape[0] * 0.1),  # Test size\n",
    "    loaded_data.control_parameters,\n",
    "    loaded_data.unitaries,\n",
    "    loaded_data.expectation_values,\n",
    ")"
   ]
  },
  {
   "cell_type": "markdown",
   "id": "6d094073",
   "metadata": {},
   "source": [
    "We going to pass the data back and forth a lot, so we use a helper `DataBundled` to hold the dataset. The advantange of using this `dataclass` is that we have a code completion."
   ]
  },
  {
   "cell_type": "code",
   "execution_count": 6,
   "id": "094cc8cc",
   "metadata": {},
   "outputs": [],
   "source": [
    "train_data = sq.optimize.DataBundled(\n",
    "    control_params=sq.predefined.drag_feature_map(train_control_parameters),\n",
    "    unitaries=train_unitaries,\n",
    "    observables=train_expectation_values,\n",
    ")\n",
    "\n",
    "test_data = sq.optimize.DataBundled(\n",
    "    control_params=sq.predefined.drag_feature_map(test_control_paramaeters),\n",
    "    unitaries=test_unitaries,\n",
    "    observables=test_expectation_values,\n",
    ")"
   ]
  },
  {
   "cell_type": "markdown",
   "id": "3d5e88a1",
   "metadata": {},
   "source": [
    "Now, we setup the optimizer with the number of epoches."
   ]
  },
  {
   "cell_type": "code",
   "execution_count": 7,
   "id": "f9e0621d",
   "metadata": {},
   "outputs": [],
   "source": [
    "NUM_EPOCH = 5000\n",
    "optimizer = sq.optimize.get_default_optimizer(8 * NUM_EPOCH)"
   ]
  },
  {
   "cell_type": "markdown",
   "id": "24b71fca",
   "metadata": {},
   "source": [
    "In this tutorial, we are going to use predefined $\\hat{W}_{O}$-based model using `flax.linen`."
   ]
  },
  {
   "cell_type": "code",
   "execution_count": 8,
   "id": "748f902a",
   "metadata": {},
   "outputs": [
    {
     "data": {
      "text/plain": [
       "WoModel(\n",
       "    # attributes\n",
       "    hidden_sizes_1 = [10]\n",
       "    hidden_sizes_2 = [10]\n",
       "    pauli_operators = ('X', 'Y', 'Z')\n",
       "    NUM_UNITARY_PARAMS = 3\n",
       "    NUM_DIAGONAL_PARAMS = 2\n",
       "    unitary_activation_fn = <lambda>\n",
       "    diagonal_activation_fn = <lambda>\n",
       ")"
      ]
     },
     "execution_count": 8,
     "metadata": {},
     "output_type": "execute_result"
    }
   ],
   "source": [
    "model = sq.models.linen.WoModel(\n",
    "    hidden_sizes_1=[10],\n",
    "    hidden_sizes_2=[10],\n",
    ")\n",
    "model"
   ]
  },
  {
   "cell_type": "markdown",
   "id": "e8c32d1b",
   "metadata": {},
   "source": [
    "Next, we also have to make a loss function using `make_loss_fn`. This part depends on the implementation of the model that you choose to use. "
   ]
  },
  {
   "cell_type": "code",
   "execution_count": 9,
   "id": "7956e908",
   "metadata": {},
   "outputs": [],
   "source": [
    "loss_fn = sq.models.linen.make_loss_fn(\n",
    "    predictive_fn=sq.models.linen.wo_predictive_fn,\n",
    "    model=model,\n",
    "    calculate_metric_fn=sq.model.calculate_metric,\n",
    "    loss_metric=sq.model.LossMetric.MSEE,\n",
    ")"
   ]
  },
  {
   "cell_type": "code",
   "execution_count": 10,
   "id": "578422a6",
   "metadata": {},
   "outputs": [
    {
     "name": "stdout",
     "output_type": "stream",
     "text": [
      "Training 🚀 |████████████████████████████████████████| 5000/5000 [100%] in 44.7s\n"
     ]
    }
   ],
   "source": [
    "import optax\n",
    "from alive_progress import alive_bar\n",
    "\n",
    "with alive_bar(NUM_EPOCH, title='Training 🚀', force_tty=True) as bar:\n",
    "\n",
    "    def callback(\n",
    "        model_params: sq.models.linen.VariableDict,\n",
    "        opt_state: optax.OptState,\n",
    "        histories: list[sq.optimize.HistoryEntryV3],\n",
    "    ):\n",
    "        bar()\n",
    "\n",
    "    model_params, opt_state, histories = sq.models.linen.train_model(\n",
    "        training_key,\n",
    "        train_data=train_data,\n",
    "        val_data=test_data,  # Here, we did not care about the validating dataset.\n",
    "        test_data=test_data,\n",
    "        model=model,\n",
    "        optimizer=optimizer,\n",
    "        loss_fn=loss_fn,\n",
    "        callbacks=[lambda x, y, z: bar()],\n",
    "        NUM_EPOCH=NUM_EPOCH,\n",
    "    )\n",
    "    # Alternatively, you can use callback for a compact callback function definition.\n",
    "    # alt_callback_fn = lambda x, y, z: bar() # noqa: E731"
   ]
  },
  {
   "cell_type": "markdown",
   "id": "0b68e47e",
   "metadata": {},
   "source": [
    "## Save and load model\n",
    "\n",
    "We can save the model using `ModelData` as follows,"
   ]
  },
  {
   "cell_type": "code",
   "execution_count": null,
   "id": "cd2305f9",
   "metadata": {},
   "outputs": [],
   "source": [
    "import tempfile\n",
    "from pathlib import Path\n",
    "\n",
    "\n",
    "with tempfile.TemporaryDirectory() as tmpdir:\n",
    "\n",
    "    model_path = Path(tmpdir)\n",
    "\n",
    "    # Create the path with parents if not existed already\n",
    "    model_path.mkdir(parents=True, exist_ok=True)\n",
    "\n",
    "    model_state = sq.model.ModelData(\n",
    "        params=model_params,\n",
    "        config={\n",
    "            \"hidden_sizes_1\": model.hidden_sizes_1,\n",
    "            \"hidden_sizes_2\": model.hidden_sizes_1,\n",
    "        },\n",
    "    )\n",
    "\n",
    "    # Save with,\n",
    "    model_state.to_file(model_path / \"model.json\")\n",
    "    # and load it back using,\n",
    "    model_state_from_file = sq.model.ModelData.from_file(model_path / \"model.json\")\n"
   ]
  },
  {
   "cell_type": "markdown",
   "id": "64172442",
   "metadata": {},
   "source": [
    "We can check that both are equal,"
   ]
  },
  {
   "cell_type": "code",
   "execution_count": 13,
   "id": "5c369c4c",
   "metadata": {},
   "outputs": [
    {
     "data": {
      "text/plain": [
       "True"
      ]
     },
     "execution_count": 13,
     "metadata": {},
     "output_type": "execute_result"
    }
   ],
   "source": [
    "model_state == model_state_from_file"
   ]
  },
  {
   "cell_type": "code",
   "execution_count": 14,
   "id": "0f7e2064",
   "metadata": {},
   "outputs": [
    {
     "data": {
      "image/png": "[encoded data removed]",
      "text/plain": [
       "<Figure size 1000x300 with 1 Axes>"
      ]
     },
     "metadata": {},
     "output_type": "display_data"
    }
   ],
   "source": [
    "import pandas as pd\n",
    "import matplotlib.pyplot as plt\n",
    "\n",
    "hist_df = pd.DataFrame(\n",
    "    [\n",
    "        {\"step\": entry.step, \"loss\": float(entry.loss), \"loop\": entry.loop}\n",
    "        for entry in histories\n",
    "    ]\n",
    ")\n",
    "fig, ax = plt.subplots(1, 1, figsize=(10, 3))\n",
    "sq.visualization.plot_loss_with_moving_average(\n",
    "    x=hist_df.query(\"loop == 'train'\")[\"step\"].to_numpy(),\n",
    "    y=hist_df.query(\"loop == 'train'\")[\"loss\"].to_numpy(),\n",
    "    ax=ax,\n",
    "    annotate_at=[],\n",
    "    color=\"red\",\n",
    "    label=\"Training\",\n",
    ")\n",
    "\n",
    "sq.visualization.plot_loss_with_moving_average(\n",
    "    x=hist_df.query(\"loop == 'test'\")[\"step\"].to_numpy(),\n",
    "    y=hist_df.query(\"loop == 'test'\")[\"loss\"].to_numpy(),\n",
    "    ax=ax,\n",
    "    annotate_at=[],\n",
    "    color=\"blue\",\n",
    "    label=\"Testing\",\n",
    ")\n",
    "\n",
    "shots = loaded_data.experiment_data.experiment_config.shots\n",
    "\n",
    "ax.set_yscale(\"log\")\n",
    "ax.set_xscale(\"log\")\n",
    "ax.axhline(y=2/(3 * shots), linestyle='dashed', color=\"gray\")\n",
    "ax.legend()\n",
    "\n",
    "sq.visualization.set_fontsize(ax, 16)"
   ]
  },
  {
   "cell_type": "markdown",
   "id": "4756c5b5",
   "metadata": {},
   "source": [
    "## Predictive model construction.\n",
    "\n",
    "We can use the adapter function that we used to make a loss function with `partial` to create the predictive model."
   ]
  },
  {
   "cell_type": "code",
   "execution_count": 15,
   "id": "4030f3a3",
   "metadata": {},
   "outputs": [],
   "source": [
    "from functools import partial\n",
    "\n",
    "model = sq.models.linen.WoModel(**model_state.config)\n",
    "\n",
    "predictive_model = partial(\n",
    "    sq.models.linen.wo_predictive_fn, model=model, model_params=model_state.params\n",
    ")"
   ]
  },
  {
   "cell_type": "markdown",
   "id": "85dd8f2a",
   "metadata": {},
   "source": [
    "Here is how can the predictive model be used to predict the expectation values given new parameters."
   ]
  },
  {
   "cell_type": "code",
   "execution_count": 16,
   "id": "d8d56af8",
   "metadata": {},
   "outputs": [
    {
     "data": {
      "text/plain": [
       "Array([ 0.97084716, -0.97084716,  0.23626797, -0.23626797, -0.04041181,\n",
       "        0.04041181, -0.22440206,  0.22440206,  0.9390122 , -0.9390122 ,\n",
       "       -0.26057569,  0.26057569, -0.04353546,  0.04353546,  0.24955875,\n",
       "       -0.24955875,  0.96738053, -0.96738053], dtype=float64)"
      ]
     },
     "execution_count": 16,
     "metadata": {},
     "output_type": "execute_result"
    }
   ],
   "source": [
    "key, params_key = jax.random.split(key)\n",
    "_, l2a_fn = sq.control.get_param_array_converter(loaded_data.control_sequence)\n",
    "sample_params = l2a_fn(loaded_data.control_sequence.sample_params(params_key))\n",
    "\n",
    "unitary_f = loaded_data.whitebox(sample_params)[-1]\n",
    "predictive_model(sq.predefined.drag_feature_map(sample_params), unitary_f)"
   ]
  },
  {
   "cell_type": "markdown",
   "id": "e0f9594a",
   "metadata": {},
   "source": [
    "Even more elegant, we can define a predictive model with the `whitebox` embeded as follows."
   ]
  },
  {
   "cell_type": "code",
   "execution_count": 17,
   "id": "1892452f",
   "metadata": {},
   "outputs": [
    {
     "data": {
      "text/plain": [
       "Array([ 0.97084716, -0.97084716,  0.23626797, -0.23626797, -0.04041181,\n",
       "        0.04041181, -0.22440206,  0.22440206,  0.9390122 , -0.9390122 ,\n",
       "       -0.26057569,  0.26057569, -0.04353546,  0.04353546,  0.24955875,\n",
       "       -0.24955875,  0.96738053, -0.96738053], dtype=float64)"
      ]
     },
     "execution_count": 17,
     "metadata": {},
     "output_type": "execute_result"
    }
   ],
   "source": [
    "def embed_predictive_model(control_parameters: jnp.ndarray):\n",
    "    unitary_f = loaded_data.whitebox(control_parameters)[-1]\n",
    "    return predictive_model(\n",
    "        sq.predefined.drag_feature_map(control_parameters), unitary_f\n",
    "    )\n",
    "\n",
    "embed_predictive_model(sample_params)"
   ]
  },
  {
   "cell_type": "markdown",
   "id": "1330026c",
   "metadata": {},
   "source": [
    "## Control Calibration\n",
    "\n",
    "As an example, we are going to use the predictive model to calibrate for the quantum gate. Specifically, we want to find a control parameters that maximize an average gate fidelity with respected to $\\sqrt{X}$ gate. First, we define a cost function that the optimizer should find the parameters that minimize its output. "
   ]
  },
  {
   "cell_type": "code",
   "execution_count": 18,
   "id": "cd753abc",
   "metadata": {},
   "outputs": [
    {
     "data": {
      "text/plain": [
       "(Array(0.06409491, dtype=float64), {'AGF': Array(0.74683027, dtype=float64)})"
      ]
     },
     "execution_count": 18,
     "metadata": {},
     "output_type": "execute_result"
    }
   ],
   "source": [
    "calculate_agf_sx = sq.physics.direct_AGF_estimation_fn(sq.constant.SX)\n",
    "\n",
    "@jax.jit\n",
    "def average_gate_infidelity(params: jnp.ndarray):\n",
    "    # Predict the expectation values\n",
    "    predicted_expvals = embed_predictive_model(params)\n",
    "    # Calculate the average gate fidelity with respected to SX gate.\n",
    "    AGF = calculate_agf_sx(predicted_expvals)\n",
    "    # return average gate infidelity squared and log the results.\n",
    "    return (1 - AGF) ** 2, {\"AGF\": AGF}\n",
    "\n",
    "average_gate_infidelity(sample_params)"
   ]
  },
  {
   "cell_type": "markdown",
   "id": "e5accee1",
   "metadata": {},
   "source": [
    "Now, we can optimize it using `sq.optimize.minimize`."
   ]
  },
  {
   "cell_type": "code",
   "execution_count": 19,
   "id": "facd3930",
   "metadata": {},
   "outputs": [
    {
     "name": "stdout",
     "output_type": "stream",
     "text": [
      "|████████████████████████████████████████| 1000/1000 [100%] in 2:03.5 (8.09/s)  \n"
     ]
    }
   ],
   "source": [
    "key, init_key = jax.random.split(key)\n",
    "init_params = l2a_fn(loaded_data.control_sequence.sample_params(init_key))\n",
    "\n",
    "lower, upper = loaded_data.control_sequence.get_bounds()\n",
    "\n",
    "optimized_params, aux = sq.optimize.minimize(\n",
    "    init_params,\n",
    "    average_gate_infidelity,\n",
    "    sq.optimize.get_default_optimizer(1000),\n",
    "    l2a_fn(lower),\n",
    "    l2a_fn(upper),\n",
    "    maxiter=1000,\n",
    ")"
   ]
  },
  {
   "cell_type": "code",
   "execution_count": 24,
   "id": "59647b1b",
   "metadata": {},
   "outputs": [
    {
     "data": {
      "text/plain": [
       "Array([6.28318531, 5.        ], dtype=float64)"
      ]
     },
     "execution_count": 24,
     "metadata": {},
     "output_type": "execute_result"
    }
   ],
   "source": [
    "optimized_params"
   ]
  },
  {
   "cell_type": "code",
   "execution_count": 25,
   "id": "256fd30a",
   "metadata": {},
   "outputs": [
    {
     "data": {
      "text/plain": [
       "{'AGF': Array(0.70075917, dtype=float64),\n",
       " 'params': Array([6.28318531, 5.        ], dtype=float64)}"
      ]
     },
     "execution_count": 25,
     "metadata": {},
     "output_type": "execute_result"
    }
   ],
   "source": [
    "aux[-1]"
   ]
  },
  {
   "cell_type": "markdown",
   "id": "105c9cc0",
   "metadata": {},
   "source": [
    "## Benchmark\n",
    "\n",
    "Let's check if the model can accurately characterized the hidden device."
   ]
  },
  {
   "cell_type": "code",
   "execution_count": 26,
   "id": "81df52f8",
   "metadata": {},
   "outputs": [],
   "source": [
    "def quantum_device(params: jnp.ndarray):\n",
    "    return sq.model.get_predict_expectation_value(\n",
    "        {\"X\": sq.constant.X, \"Y\": sq.constant.Y, \"Z\": sq.constant.Z},\n",
    "        data_model.solver(params)[-1],\n",
    "        sq.constant.default_expectation_values_order,\n",
    "    )"
   ]
  },
  {
   "cell_type": "code",
   "execution_count": 27,
   "id": "2fa3d453",
   "metadata": {},
   "outputs": [
    {
     "data": {
      "text/plain": [
       "Array(0.68582795, dtype=float64)"
      ]
     },
     "execution_count": 27,
     "metadata": {},
     "output_type": "execute_result"
    }
   ],
   "source": [
    "assert isinstance(optimized_params, jnp.ndarray)\n",
    "real_expvals = quantum_device(optimized_params)\n",
    "\n",
    "calculate_agf_sx(real_expvals)"
   ]
  },
  {
   "cell_type": "markdown",
   "id": "702fd53c",
   "metadata": {},
   "source": [
    "As a final thought:\n",
    "- This is the benchmark without taking the finite-shot effect into the account.\n",
    "- This is characterization without a model selection process such as hyperparameter tuning."
   ]
  }
 ],
 "metadata": {
  "kernelspec": {
   "display_name": "inspeqtor (3.13.0)",
   "language": "python",
   "name": "python3"
  },
  "language_info": {
   "codemirror_mode": {
    "name": "ipython",
    "version": 3
   },
   "file_extension": ".py",
   "mimetype": "text/x-python",
   "name": "python",
   "nbconvert_exporter": "python",
   "pygments_lexer": "ipython3",
   "version": "3.13.0"
  }
 },
 "nbformat": 4,
 "nbformat_minor": 5
}
