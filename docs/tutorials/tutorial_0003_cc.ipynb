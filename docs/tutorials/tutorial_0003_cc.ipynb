{
 "cells": [
  {
   "cell_type": "markdown",
   "id": "ef00bdf3",
   "metadata": {},
   "source": [
    "# Characterization and Calibration using Graybox\n",
    "\n",
    "<div class=\"admonition goal\">\n",
    "    <p class=\"admonition-title\">Goal</p>\n",
    "    <p>\n",
    "        This tutorial aims to guide you thourgh a process of characterizing a predicitive model, and using the predictive model in calibrating for quantum gate using open-loop optimization (although not necessary). \n",
    "    </p>\n",
    "</div>"
   ]
  },
  {
   "cell_type": "code",
   "execution_count": 1,
   "id": "18d5d758",
   "metadata": {},
   "outputs": [],
   "source": [
    "import jax\n",
    "import jax.numpy as jnp\n",
    "import inspeqtor.experimental as sq"
   ]
  },
  {
   "cell_type": "markdown",
   "id": "e61b26e8",
   "metadata": {},
   "source": [
    "## Generate some synthetic data"
   ]
  },
  {
   "cell_type": "code",
   "execution_count": 2,
   "id": "d4f95052",
   "metadata": {},
   "outputs": [],
   "source": [
    "data_model = sq.predefined.get_predefined_data_model_m1()\n",
    "\n",
    "# Now, we use the noise model to performing the data using simulator.\n",
    "exp_data, _, _, _ = sq.predefined.generate_experimental_data(\n",
    "    key=jax.random.key(0),\n",
    "    hamiltonian=data_model.total_hamiltonian,\n",
    "    sample_size=100,\n",
    "    strategy=sq.predefined.SimulationStrategy.SHOT,\n",
    "    get_qubit_information_fn=lambda: data_model.qubit_information,\n",
    "    get_control_sequence_fn=lambda: data_model.control_sequence,\n",
    "    method=sq.predefined.WhiteboxStrategy.TROTTER,\n",
    "    trotter_steps=10_000,\n",
    ")\n",
    "\n",
    "# Now we can prepare the dataset that ready to use.\n",
    "whitebox = sq.physics.make_trotterization_solver(\n",
    "    data_model.ideal_hamiltonian,\n",
    "    data_model.control_sequence,\n",
    "    data_model.dt,\n",
    "    trotter_steps=10_000,\n",
    ")\n",
    "loaded_data = sq.utils.prepare_data(\n",
    "    exp_data, data_model.control_sequence, whitebox\n",
    ")"
   ]
  },
  {
   "cell_type": "markdown",
   "id": "c5dcf27e",
   "metadata": {},
   "source": [
    "We can inspect the experiment configuration from predefined noise model using `display` function from `flax.nnx`"
   ]
  },
  {
   "cell_type": "code",
   "execution_count": 3,
   "id": "168cb54e",
   "metadata": {},
   "outputs": [
    {
     "data": {
      "text/html": [
       "<script> (()=>{ if (customElements.get('treescope-container') === undefined) { class TreescopeContainer extends HTMLElement { constructor() { super(); this.attachShadow({mode: \"open\"}); this.defns = {}; this.state = {}; } } customElements.define(\"treescope-container\", TreescopeContainer); } if (customElements.get('treescope-run-here') === undefined) { class RunHere extends HTMLElement { constructor() { super() } connectedCallback() { const run = child => { const fn = new Function(child.textContent); child.textContent = \"\"; fn.call(this); this.remove(); }; const child = this.querySelector(\"script\"); if (child) { run(child); } else { new MutationObserver(()=>{ run(this.querySelector(\"script\")); }).observe(this, {childList: true}); } } } customElements.define(\"treescope-run-here\", RunHere); } })(); </script> <treescope-container class=\"treescope_out_aa13cf12efe74e54aa7289a6b74bb3b2\" style=\"display:block\"></treescope-container> <treescope-run-here><script type=\"application/octet-stream\"> const root = ( Array.from(document.getElementsByClassName( \"treescope_out_aa13cf12efe74e54aa7289a6b74bb3b2\")) .filter((elt) => !elt.dataset.setup) )[0]; root.dataset.setup = 1; const msg = document.createElement(\"span\"); msg.style = \"color: #cccccc; font-family: monospace;\"; msg.textContent = \"(Loading...)\"; root.state.loadingMsg = msg; root.shadowRoot.appendChild(msg); root.state.chain = new Promise((resolve, reject) => { const observer = new IntersectionObserver((entries) => { for (const entry of entries) { if (entry.isIntersecting) { resolve(); observer.disconnect(); return; } } }, {rootMargin: \"1000px\"}); window.setTimeout(() => { observer.observe(root); }, 0); }); root.state.deferring = false; const _insertNode = (node) => { for (let oldScript of node.querySelectorAll(\"script\")) { let newScript = document.createElement(\"script\"); newScript.type = oldScript.type; newScript.textContent = oldScript.textContent; oldScript.parentNode.replaceChild(newScript, oldScript); } if (root.state.loadingMsg) { root.state.loadingMsg.remove(); root.state.loadingMsg = null; } root.shadowRoot.appendChild(node); }; root.defns.insertContent = ((contentNode, compressed) => { if (compressed) { root.state.deferring = true; } if (root.state.deferring) { root.state.chain = (async () => { await root.state.chain; if (compressed) { const encoded = contentNode.textContent; const blob = new Blob([ Uint8Array.from(atob(encoded), (m) => m.codePointAt(0)) ]); const reader = blob.stream().pipeThrough( new DecompressionStream(\"deflate\") ).pipeThrough( new TextDecoderStream(\"utf-8\") ).getReader(); const parts = []; while (true) { const step = await reader.read(); if (step.done) { break; } parts.push(step.value); } const tpl = document.createElement('template'); tpl.innerHTML = parts.join(\"\"); _insertNode(tpl.content); } else { _insertNode(contentNode.content); } })(); } else { _insertNode(contentNode.content); } }); </script></treescope-run-here><div style=\"display:none\"> <script type=\"application/octet-stream\" >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</script> <treescope-run-here><script type=\"application/octet-stream\"> const root = ( Array.from(document.getElementsByClassName( \"treescope_out_aa13cf12efe74e54aa7289a6b74bb3b2\")) .filter((elt) => !elt.dataset['step0']) )[0]; root.dataset['step0'] = 1; root.defns.insertContent( this.parentNode.querySelector('script[type=\"application/octet-stream\"]'), true ); this.parentNode.remove(); </script></treescope-run-here> </div>"
      ],
      "text/plain": [
       "<IPython.core.display.HTML object>"
      ]
     },
     "metadata": {},
     "output_type": "display_data"
    },
    {
     "data": {
      "text/html": [
       "<div style=\"display:none\"> <script type=\"application/octet-stream\" >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</script> <treescope-run-here><script type=\"application/octet-stream\"> const root = ( Array.from(document.getElementsByClassName( \"treescope_out_aa13cf12efe74e54aa7289a6b74bb3b2\")) .filter((elt) => !elt.dataset['step1']) )[0]; root.dataset['step1'] = 1; root.defns.insertContent( this.parentNode.querySelector('script[type=\"application/octet-stream\"]'), true ); this.parentNode.remove(); </script></treescope-run-here> </div>"
      ],
      "text/plain": [
       "<IPython.core.display.HTML object>"
      ]
     },
     "metadata": {},
     "output_type": "display_data"
    }
   ],
   "source": [
    "from flax.nnx import display\n",
    "\n",
    "display(loaded_data.experiment_data.experiment_config)"
   ]
  },
  {
   "cell_type": "markdown",
   "id": "ad62d4b1",
   "metadata": {},
   "source": [
    "And the experimental data,"
   ]
  },
  {
   "cell_type": "code",
   "execution_count": 4,
   "id": "f4c62169",
   "metadata": {},
   "outputs": [
    {
     "data": {
      "text/html": [
       "<div>\n",
       "<style scoped>\n",
       "    .dataframe tbody tr th:only-of-type {\n",
       "        vertical-align: middle;\n",
       "    }\n",
       "\n",
       "    .dataframe tbody tr th {\n",
       "        vertical-align: top;\n",
       "    }\n",
       "\n",
       "    .dataframe thead th {\n",
       "        text-align: right;\n",
       "    }\n",
       "</style>\n",
       "<table border=\"1\" class=\"dataframe\">\n",
       "  <thead>\n",
       "    <tr style=\"text-align: right;\">\n",
       "      <th></th>\n",
       "      <th>parameters_id</th>\n",
       "      <th>expectation_value/+/X</th>\n",
       "      <th>expectation_value/-/X</th>\n",
       "      <th>expectation_value/r/X</th>\n",
       "      <th>expectation_value/l/X</th>\n",
       "      <th>expectation_value/0/X</th>\n",
       "      <th>expectation_value/1/X</th>\n",
       "      <th>expectation_value/+/Y</th>\n",
       "      <th>expectation_value/-/Y</th>\n",
       "      <th>expectation_value/r/Y</th>\n",
       "      <th>...</th>\n",
       "      <th>expectation_value/-/Z</th>\n",
       "      <th>expectation_value/r/Z</th>\n",
       "      <th>expectation_value/l/Z</th>\n",
       "      <th>expectation_value/0/Z</th>\n",
       "      <th>expectation_value/1/Z</th>\n",
       "      <th>expectation_value</th>\n",
       "      <th>initial_state</th>\n",
       "      <th>observable</th>\n",
       "      <th>parameter/0/theta</th>\n",
       "      <th>parameter/0/beta</th>\n",
       "    </tr>\n",
       "  </thead>\n",
       "  <tbody>\n",
       "    <tr>\n",
       "      <th>0</th>\n",
       "      <td>0</td>\n",
       "      <td>0.982</td>\n",
       "      <td>-0.954</td>\n",
       "      <td>0.244</td>\n",
       "      <td>-0.188</td>\n",
       "      <td>-0.042</td>\n",
       "      <td>-0.010</td>\n",
       "      <td>-0.228</td>\n",
       "      <td>0.260</td>\n",
       "      <td>0.934</td>\n",
       "      <td>...</td>\n",
       "      <td>-0.010</td>\n",
       "      <td>0.264</td>\n",
       "      <td>-0.234</td>\n",
       "      <td>0.958</td>\n",
       "      <td>-0.962</td>\n",
       "      <td>0.982</td>\n",
       "      <td>+</td>\n",
       "      <td>X</td>\n",
       "      <td>0.276427</td>\n",
       "      <td>3.608326</td>\n",
       "    </tr>\n",
       "    <tr>\n",
       "      <th>1</th>\n",
       "      <td>1</td>\n",
       "      <td>0.998</td>\n",
       "      <td>-0.994</td>\n",
       "      <td>-0.064</td>\n",
       "      <td>0.132</td>\n",
       "      <td>-0.020</td>\n",
       "      <td>0.026</td>\n",
       "      <td>0.084</td>\n",
       "      <td>-0.130</td>\n",
       "      <td>0.442</td>\n",
       "      <td>...</td>\n",
       "      <td>0.054</td>\n",
       "      <td>-0.894</td>\n",
       "      <td>0.886</td>\n",
       "      <td>0.446</td>\n",
       "      <td>-0.486</td>\n",
       "      <td>0.998</td>\n",
       "      <td>+</td>\n",
       "      <td>X</td>\n",
       "      <td>5.154778</td>\n",
       "      <td>2.333456</td>\n",
       "    </tr>\n",
       "    <tr>\n",
       "      <th>2</th>\n",
       "      <td>2</td>\n",
       "      <td>0.972</td>\n",
       "      <td>-0.972</td>\n",
       "      <td>0.096</td>\n",
       "      <td>-0.130</td>\n",
       "      <td>0.236</td>\n",
       "      <td>-0.272</td>\n",
       "      <td>-0.106</td>\n",
       "      <td>0.168</td>\n",
       "      <td>-0.580</td>\n",
       "      <td>...</td>\n",
       "      <td>-0.202</td>\n",
       "      <td>-0.774</td>\n",
       "      <td>0.784</td>\n",
       "      <td>-0.590</td>\n",
       "      <td>0.522</td>\n",
       "      <td>0.972</td>\n",
       "      <td>+</td>\n",
       "      <td>X</td>\n",
       "      <td>4.094562</td>\n",
       "      <td>-2.803718</td>\n",
       "    </tr>\n",
       "    <tr>\n",
       "      <th>3</th>\n",
       "      <td>3</td>\n",
       "      <td>0.976</td>\n",
       "      <td>-0.978</td>\n",
       "      <td>0.058</td>\n",
       "      <td>-0.052</td>\n",
       "      <td>-0.152</td>\n",
       "      <td>0.190</td>\n",
       "      <td>-0.100</td>\n",
       "      <td>0.038</td>\n",
       "      <td>-0.784</td>\n",
       "      <td>...</td>\n",
       "      <td>0.198</td>\n",
       "      <td>0.574</td>\n",
       "      <td>-0.614</td>\n",
       "      <td>-0.766</td>\n",
       "      <td>0.782</td>\n",
       "      <td>0.976</td>\n",
       "      <td>+</td>\n",
       "      <td>X</td>\n",
       "      <td>2.458046</td>\n",
       "      <td>2.477768</td>\n",
       "    </tr>\n",
       "    <tr>\n",
       "      <th>4</th>\n",
       "      <td>4</td>\n",
       "      <td>0.838</td>\n",
       "      <td>-0.826</td>\n",
       "      <td>0.444</td>\n",
       "      <td>-0.414</td>\n",
       "      <td>0.312</td>\n",
       "      <td>-0.310</td>\n",
       "      <td>-0.484</td>\n",
       "      <td>0.438</td>\n",
       "      <td>0.392</td>\n",
       "      <td>...</td>\n",
       "      <td>-0.220</td>\n",
       "      <td>-0.766</td>\n",
       "      <td>0.764</td>\n",
       "      <td>0.540</td>\n",
       "      <td>-0.560</td>\n",
       "      <td>0.838</td>\n",
       "      <td>+</td>\n",
       "      <td>X</td>\n",
       "      <td>5.240611</td>\n",
       "      <td>-4.604616</td>\n",
       "    </tr>\n",
       "    <tr>\n",
       "      <th>...</th>\n",
       "      <td>...</td>\n",
       "      <td>...</td>\n",
       "      <td>...</td>\n",
       "      <td>...</td>\n",
       "      <td>...</td>\n",
       "      <td>...</td>\n",
       "      <td>...</td>\n",
       "      <td>...</td>\n",
       "      <td>...</td>\n",
       "      <td>...</td>\n",
       "      <td>...</td>\n",
       "      <td>...</td>\n",
       "      <td>...</td>\n",
       "      <td>...</td>\n",
       "      <td>...</td>\n",
       "      <td>...</td>\n",
       "      <td>...</td>\n",
       "      <td>...</td>\n",
       "      <td>...</td>\n",
       "      <td>...</td>\n",
       "      <td>...</td>\n",
       "    </tr>\n",
       "    <tr>\n",
       "      <th>95</th>\n",
       "      <td>95</td>\n",
       "      <td>0.992</td>\n",
       "      <td>-0.986</td>\n",
       "      <td>0.148</td>\n",
       "      <td>-0.168</td>\n",
       "      <td>-0.086</td>\n",
       "      <td>0.082</td>\n",
       "      <td>-0.154</td>\n",
       "      <td>0.142</td>\n",
       "      <td>0.472</td>\n",
       "      <td>...</td>\n",
       "      <td>0.076</td>\n",
       "      <td>0.892</td>\n",
       "      <td>-0.896</td>\n",
       "      <td>0.392</td>\n",
       "      <td>-0.474</td>\n",
       "      <td>0.992</td>\n",
       "      <td>+</td>\n",
       "      <td>X</td>\n",
       "      <td>1.112030</td>\n",
       "      <td>-4.666942</td>\n",
       "    </tr>\n",
       "    <tr>\n",
       "      <th>96</th>\n",
       "      <td>96</td>\n",
       "      <td>0.972</td>\n",
       "      <td>-0.974</td>\n",
       "      <td>0.226</td>\n",
       "      <td>-0.200</td>\n",
       "      <td>0.010</td>\n",
       "      <td>0.022</td>\n",
       "      <td>-0.212</td>\n",
       "      <td>0.246</td>\n",
       "      <td>0.972</td>\n",
       "      <td>...</td>\n",
       "      <td>-0.070</td>\n",
       "      <td>0.180</td>\n",
       "      <td>-0.148</td>\n",
       "      <td>0.996</td>\n",
       "      <td>-0.992</td>\n",
       "      <td>0.972</td>\n",
       "      <td>+</td>\n",
       "      <td>X</td>\n",
       "      <td>0.119057</td>\n",
       "      <td>-3.652233</td>\n",
       "    </tr>\n",
       "    <tr>\n",
       "      <th>97</th>\n",
       "      <td>97</td>\n",
       "      <td>0.976</td>\n",
       "      <td>-0.970</td>\n",
       "      <td>0.204</td>\n",
       "      <td>-0.224</td>\n",
       "      <td>-0.118</td>\n",
       "      <td>0.010</td>\n",
       "      <td>-0.228</td>\n",
       "      <td>0.208</td>\n",
       "      <td>0.900</td>\n",
       "      <td>...</td>\n",
       "      <td>0.054</td>\n",
       "      <td>0.406</td>\n",
       "      <td>-0.420</td>\n",
       "      <td>0.898</td>\n",
       "      <td>-0.906</td>\n",
       "      <td>0.976</td>\n",
       "      <td>+</td>\n",
       "      <td>X</td>\n",
       "      <td>0.430843</td>\n",
       "      <td>3.605063</td>\n",
       "    </tr>\n",
       "    <tr>\n",
       "      <th>98</th>\n",
       "      <td>98</td>\n",
       "      <td>1.000</td>\n",
       "      <td>-0.998</td>\n",
       "      <td>0.026</td>\n",
       "      <td>-0.070</td>\n",
       "      <td>0.006</td>\n",
       "      <td>-0.018</td>\n",
       "      <td>-0.028</td>\n",
       "      <td>0.036</td>\n",
       "      <td>0.992</td>\n",
       "      <td>...</td>\n",
       "      <td>-0.030</td>\n",
       "      <td>-0.150</td>\n",
       "      <td>0.158</td>\n",
       "      <td>0.972</td>\n",
       "      <td>-0.978</td>\n",
       "      <td>1.000</td>\n",
       "      <td>+</td>\n",
       "      <td>X</td>\n",
       "      <td>6.077224</td>\n",
       "      <td>1.334615</td>\n",
       "    </tr>\n",
       "    <tr>\n",
       "      <th>99</th>\n",
       "      <td>99</td>\n",
       "      <td>0.952</td>\n",
       "      <td>-0.964</td>\n",
       "      <td>-0.232</td>\n",
       "      <td>0.248</td>\n",
       "      <td>-0.110</td>\n",
       "      <td>0.136</td>\n",
       "      <td>0.224</td>\n",
       "      <td>-0.212</td>\n",
       "      <td>0.482</td>\n",
       "      <td>...</td>\n",
       "      <td>0.126</td>\n",
       "      <td>-0.862</td>\n",
       "      <td>0.870</td>\n",
       "      <td>0.514</td>\n",
       "      <td>-0.532</td>\n",
       "      <td>0.952</td>\n",
       "      <td>+</td>\n",
       "      <td>X</td>\n",
       "      <td>5.171392</td>\n",
       "      <td>4.308521</td>\n",
       "    </tr>\n",
       "  </tbody>\n",
       "</table>\n",
       "<p>100 rows × 24 columns</p>\n",
       "</div>"
      ],
      "text/plain": [
       "    parameters_id  expectation_value/+/X  expectation_value/-/X  \\\n",
       "0               0                  0.982                 -0.954   \n",
       "1               1                  0.998                 -0.994   \n",
       "2               2                  0.972                 -0.972   \n",
       "3               3                  0.976                 -0.978   \n",
       "4               4                  0.838                 -0.826   \n",
       "..            ...                    ...                    ...   \n",
       "95             95                  0.992                 -0.986   \n",
       "96             96                  0.972                 -0.974   \n",
       "97             97                  0.976                 -0.970   \n",
       "98             98                  1.000                 -0.998   \n",
       "99             99                  0.952                 -0.964   \n",
       "\n",
       "    expectation_value/r/X  expectation_value/l/X  expectation_value/0/X  \\\n",
       "0                   0.244                 -0.188                 -0.042   \n",
       "1                  -0.064                  0.132                 -0.020   \n",
       "2                   0.096                 -0.130                  0.236   \n",
       "3                   0.058                 -0.052                 -0.152   \n",
       "4                   0.444                 -0.414                  0.312   \n",
       "..                    ...                    ...                    ...   \n",
       "95                  0.148                 -0.168                 -0.086   \n",
       "96                  0.226                 -0.200                  0.010   \n",
       "97                  0.204                 -0.224                 -0.118   \n",
       "98                  0.026                 -0.070                  0.006   \n",
       "99                 -0.232                  0.248                 -0.110   \n",
       "\n",
       "    expectation_value/1/X  expectation_value/+/Y  expectation_value/-/Y  \\\n",
       "0                  -0.010                 -0.228                  0.260   \n",
       "1                   0.026                  0.084                 -0.130   \n",
       "2                  -0.272                 -0.106                  0.168   \n",
       "3                   0.190                 -0.100                  0.038   \n",
       "4                  -0.310                 -0.484                  0.438   \n",
       "..                    ...                    ...                    ...   \n",
       "95                  0.082                 -0.154                  0.142   \n",
       "96                  0.022                 -0.212                  0.246   \n",
       "97                  0.010                 -0.228                  0.208   \n",
       "98                 -0.018                 -0.028                  0.036   \n",
       "99                  0.136                  0.224                 -0.212   \n",
       "\n",
       "    expectation_value/r/Y  ...  expectation_value/-/Z  expectation_value/r/Z  \\\n",
       "0                   0.934  ...                 -0.010                  0.264   \n",
       "1                   0.442  ...                  0.054                 -0.894   \n",
       "2                  -0.580  ...                 -0.202                 -0.774   \n",
       "3                  -0.784  ...                  0.198                  0.574   \n",
       "4                   0.392  ...                 -0.220                 -0.766   \n",
       "..                    ...  ...                    ...                    ...   \n",
       "95                  0.472  ...                  0.076                  0.892   \n",
       "96                  0.972  ...                 -0.070                  0.180   \n",
       "97                  0.900  ...                  0.054                  0.406   \n",
       "98                  0.992  ...                 -0.030                 -0.150   \n",
       "99                  0.482  ...                  0.126                 -0.862   \n",
       "\n",
       "    expectation_value/l/Z  expectation_value/0/Z  expectation_value/1/Z  \\\n",
       "0                  -0.234                  0.958                 -0.962   \n",
       "1                   0.886                  0.446                 -0.486   \n",
       "2                   0.784                 -0.590                  0.522   \n",
       "3                  -0.614                 -0.766                  0.782   \n",
       "4                   0.764                  0.540                 -0.560   \n",
       "..                    ...                    ...                    ...   \n",
       "95                 -0.896                  0.392                 -0.474   \n",
       "96                 -0.148                  0.996                 -0.992   \n",
       "97                 -0.420                  0.898                 -0.906   \n",
       "98                  0.158                  0.972                 -0.978   \n",
       "99                  0.870                  0.514                 -0.532   \n",
       "\n",
       "    expectation_value  initial_state  observable  parameter/0/theta  \\\n",
       "0               0.982              +           X           0.276427   \n",
       "1               0.998              +           X           5.154778   \n",
       "2               0.972              +           X           4.094562   \n",
       "3               0.976              +           X           2.458046   \n",
       "4               0.838              +           X           5.240611   \n",
       "..                ...            ...         ...                ...   \n",
       "95              0.992              +           X           1.112030   \n",
       "96              0.972              +           X           0.119057   \n",
       "97              0.976              +           X           0.430843   \n",
       "98              1.000              +           X           6.077224   \n",
       "99              0.952              +           X           5.171392   \n",
       "\n",
       "    parameter/0/beta  \n",
       "0           3.608326  \n",
       "1           2.333456  \n",
       "2          -2.803718  \n",
       "3           2.477768  \n",
       "4          -4.604616  \n",
       "..               ...  \n",
       "95         -4.666942  \n",
       "96         -3.652233  \n",
       "97          3.605063  \n",
       "98          1.334615  \n",
       "99          4.308521  \n",
       "\n",
       "[100 rows x 24 columns]"
      ]
     },
     "execution_count": 4,
     "metadata": {},
     "output_type": "execute_result"
    }
   ],
   "source": [
    "loaded_data.experiment_data.postprocessed_data"
   ]
  },
  {
   "cell_type": "markdown",
   "id": "9490b9f6",
   "metadata": {},
   "source": [
    "## Data preprocessing\n",
    "\n",
    "Since we are going to train Deep neural network, it is considered a good practice to split dataset into training and testing dataset. Here we use a `sq.utils.random_split` helper function for this task."
   ]
  },
  {
   "cell_type": "code",
   "execution_count": 5,
   "id": "089a8e89",
   "metadata": {},
   "outputs": [],
   "source": [
    "# Here, we just bundling things up for convinience uses.\n",
    "key = jax.random.key(0)\n",
    "key, random_split_key, training_key = jax.random.split(key, 3)\n",
    "(\n",
    "    train_control_parameters,\n",
    "    train_unitaries,\n",
    "    train_expectation_values,\n",
    "    test_control_paramaeters,\n",
    "    test_unitaries,\n",
    "    test_expectation_values,\n",
    ") = sq.utils.random_split(\n",
    "    random_split_key,\n",
    "    int(loaded_data.control_parameters.shape[0] * 0.1),  # Test size\n",
    "    loaded_data.control_parameters,\n",
    "    loaded_data.unitaries,\n",
    "    loaded_data.expectation_values,\n",
    ")"
   ]
  },
  {
   "cell_type": "markdown",
   "id": "6d094073",
   "metadata": {},
   "source": [
    "We going to pass the data back and forth a lot, so we use a helper `DataBundled` to hold the dataset. The advantange of using this `dataclass` is that we have a code completion."
   ]
  },
  {
   "cell_type": "code",
   "execution_count": 6,
   "id": "094cc8cc",
   "metadata": {},
   "outputs": [],
   "source": [
    "train_data = sq.optimize.DataBundled(\n",
    "    control_params=sq.predefined.drag_feature_map(train_control_parameters),\n",
    "    unitaries=train_unitaries,\n",
    "    observables=train_expectation_values,\n",
    ")\n",
    "\n",
    "test_data = sq.optimize.DataBundled(\n",
    "    control_params=sq.predefined.drag_feature_map(test_control_paramaeters),\n",
    "    unitaries=test_unitaries,\n",
    "    observables=test_expectation_values,\n",
    ")"
   ]
  },
  {
   "cell_type": "markdown",
   "id": "3d5e88a1",
   "metadata": {},
   "source": [
    "Now, we setup the optimizer with the number of epoches."
   ]
  },
  {
   "cell_type": "code",
   "execution_count": 7,
   "id": "f9e0621d",
   "metadata": {},
   "outputs": [],
   "source": [
    "NUM_EPOCH = 5000\n",
    "optimizer = sq.optimize.get_default_optimizer(8 * NUM_EPOCH)"
   ]
  },
  {
   "cell_type": "markdown",
   "id": "24b71fca",
   "metadata": {},
   "source": [
    "In this tutorial, we are going to use predefined $\\hat{W}_{O}$-based model using `flax.linen`."
   ]
  },
  {
   "cell_type": "code",
   "execution_count": 8,
   "id": "748f902a",
   "metadata": {},
   "outputs": [
    {
     "data": {
      "text/plain": [
       "WoModel(\n",
       "    # attributes\n",
       "    hidden_sizes_1 = [10]\n",
       "    hidden_sizes_2 = [10]\n",
       "    pauli_operators = ('X', 'Y', 'Z')\n",
       "    NUM_UNITARY_PARAMS = 3\n",
       "    NUM_DIAGONAL_PARAMS = 2\n",
       "    unitary_activation_fn = <lambda>\n",
       "    diagonal_activation_fn = <lambda>\n",
       ")"
      ]
     },
     "execution_count": 8,
     "metadata": {},
     "output_type": "execute_result"
    }
   ],
   "source": [
    "model = sq.models.linen.WoModel(\n",
    "    hidden_sizes_1=[10],\n",
    "    hidden_sizes_2=[10],\n",
    ")\n",
    "model"
   ]
  },
  {
   "cell_type": "markdown",
   "id": "e8c32d1b",
   "metadata": {},
   "source": [
    "Next, we also have to make a loss function using `make_loss_fn`. This part depends on the implementation of the model that you choose to use. "
   ]
  },
  {
   "cell_type": "code",
   "execution_count": null,
   "id": "7956e908",
   "metadata": {},
   "outputs": [],
   "source": [
    "loss_fn = sq.models.linen.make_loss_fn(\n",
    "    adapter_fn=sq.model.observable_to_expvals,\n",
    "    model=model,\n",
    "    calculate_metric_fn=sq.model.calculate_metric,\n",
    "    loss_metric=sq.model.LossMetric.MSEE,\n",
    ")"
   ]
  },
  {
   "cell_type": "code",
   "execution_count": 10,
   "id": "578422a6",
   "metadata": {},
   "outputs": [
    {
     "name": "stdout",
     "output_type": "stream",
     "text": [
      "Training 🚀 |████████████████████████████████████████| 5000/5000 [100%] in 43.5s\n"
     ]
    }
   ],
   "source": [
    "import optax\n",
    "from alive_progress import alive_bar\n",
    "\n",
    "with alive_bar(NUM_EPOCH, title='Training 🚀', force_tty=True) as bar:\n",
    "\n",
    "    def callback(\n",
    "        model_params: sq.models.linen.VariableDict,\n",
    "        opt_state: optax.OptState,\n",
    "        histories: list[sq.optimize.HistoryEntryV3],\n",
    "    ):\n",
    "        bar()\n",
    "\n",
    "    model_params, opt_state, histories = sq.models.linen.train_model(\n",
    "        training_key,\n",
    "        train_data=train_data,\n",
    "        val_data=test_data,  # Here, we did not care about the validating dataset.\n",
    "        test_data=test_data,\n",
    "        model=model,\n",
    "        optimizer=optimizer,\n",
    "        loss_fn=loss_fn,\n",
    "        callbacks=[lambda x, y, z: bar()],\n",
    "        NUM_EPOCH=NUM_EPOCH,\n",
    "    )\n",
    "    # Alternatively, you can use callback for a compact callback function definition.\n",
    "    # alt_callback_fn = lambda x, y, z: bar() # noqa: E731"
   ]
  },
  {
   "cell_type": "markdown",
   "id": "0b68e47e",
   "metadata": {},
   "source": [
    "## Save and load model\n",
    "\n",
    "We can save the model using `ModelData` as follows,"
   ]
  },
  {
   "cell_type": "code",
   "execution_count": 11,
   "id": "cd2305f9",
   "metadata": {},
   "outputs": [],
   "source": [
    "import tempfile\n",
    "from pathlib import Path\n",
    "\n",
    "\n",
    "with tempfile.TemporaryDirectory() as tmpdir:\n",
    "\n",
    "    model_path = Path(tmpdir)\n",
    "\n",
    "    # Create the path with parents if not existed already\n",
    "    model_path.mkdir(parents=True, exist_ok=True)\n",
    "\n",
    "    model_state = sq.model.ModelData(\n",
    "        params=model_params,\n",
    "        config={\n",
    "            \"hidden_sizes_1\": model.hidden_sizes_1,\n",
    "            \"hidden_sizes_2\": model.hidden_sizes_1,\n",
    "        },\n",
    "    )\n",
    "    # Save with,\n",
    "    model_state.to_file(model_path / \"model.json\")\n",
    "    # and load it back using,\n",
    "    model_state_from_file = sq.model.ModelData.from_file(model_path / \"model.json\")\n"
   ]
  },
  {
   "cell_type": "markdown",
   "id": "64172442",
   "metadata": {},
   "source": [
    "We can check that both are equal,"
   ]
  },
  {
   "cell_type": "code",
   "execution_count": 12,
   "id": "5c369c4c",
   "metadata": {},
   "outputs": [
    {
     "data": {
      "text/plain": [
       "True"
      ]
     },
     "execution_count": 12,
     "metadata": {},
     "output_type": "execute_result"
    }
   ],
   "source": [
    "model_state == model_state_from_file"
   ]
  },
  {
   "cell_type": "code",
   "execution_count": 13,
   "id": "0f7e2064",
   "metadata": {},
   "outputs": [
    {
     "data": {
      "image/png": "[encoded data removed]",
      "text/plain": [
       "<Figure size 1000x300 with 1 Axes>"
      ]
     },
     "metadata": {},
     "output_type": "display_data"
    }
   ],
   "source": [
    "import pandas as pd\n",
    "import matplotlib.pyplot as plt\n",
    "\n",
    "hist_df = pd.DataFrame(\n",
    "    [\n",
    "        {\"step\": entry.step, \"loss\": float(entry.loss), \"loop\": entry.loop}\n",
    "        for entry in histories\n",
    "    ]\n",
    ")\n",
    "fig, ax = plt.subplots(1, 1, figsize=(10, 3))\n",
    "sq.visualization.plot_loss_with_moving_average(\n",
    "    x=hist_df.query(\"loop == 'train'\")[\"step\"].to_numpy(),\n",
    "    y=hist_df.query(\"loop == 'train'\")[\"loss\"].to_numpy(),\n",
    "    ax=ax,\n",
    "    annotate_at=[],\n",
    "    color=\"red\",\n",
    "    label=\"Training\",\n",
    ")\n",
    "\n",
    "sq.visualization.plot_loss_with_moving_average(\n",
    "    x=hist_df.query(\"loop == 'test'\")[\"step\"].to_numpy(),\n",
    "    y=hist_df.query(\"loop == 'test'\")[\"loss\"].to_numpy(),\n",
    "    ax=ax,\n",
    "    annotate_at=[],\n",
    "    color=\"blue\",\n",
    "    label=\"Testing\",\n",
    ")\n",
    "\n",
    "shots = loaded_data.experiment_data.experiment_config.shots\n",
    "\n",
    "ax.set_yscale(\"log\")\n",
    "ax.set_xscale(\"log\")\n",
    "ax.axhline(y=2/(3 * shots), linestyle='dashed', color=\"gray\")\n",
    "ax.legend()\n",
    "\n",
    "sq.visualization.set_fontsize(ax, 16)"
   ]
  },
  {
   "cell_type": "markdown",
   "id": "4756c5b5",
   "metadata": {},
   "source": [
    "## Predictive model construction.\n",
    "\n",
    "We can use the adapter function that we used to make a loss function with `partial` to create the predictive model."
   ]
  },
  {
   "cell_type": "code",
   "execution_count": 14,
   "id": "4030f3a3",
   "metadata": {},
   "outputs": [],
   "source": [
    "model = sq.models.linen.WoModel(**model_state.config)\n",
    "predictive_fn = sq.models.linen.make_predictive_fn(sq.model.observable_to_expvals, model, model_state.params)"
   ]
  },
  {
   "cell_type": "markdown",
   "id": "85dd8f2a",
   "metadata": {},
   "source": [
    "Here is how can the predictive model be used to predict the expectation values given new parameters."
   ]
  },
  {
   "cell_type": "code",
   "execution_count": 15,
   "id": "d8d56af8",
   "metadata": {},
   "outputs": [
    {
     "data": {
      "text/plain": [
       "Array([ 0.97084716, -0.97084716,  0.23626797, -0.23626797, -0.04041181,\n",
       "        0.04041181, -0.22440206,  0.22440206,  0.9390122 , -0.9390122 ,\n",
       "       -0.26057569,  0.26057569, -0.04353546,  0.04353546,  0.24955875,\n",
       "       -0.24955875,  0.96738053, -0.96738053], dtype=float64)"
      ]
     },
     "execution_count": 15,
     "metadata": {},
     "output_type": "execute_result"
    }
   ],
   "source": [
    "key, params_key = jax.random.split(key)\n",
    "_, l2a_fn = sq.control.get_param_array_converter(loaded_data.control_sequence)\n",
    "sample_params = l2a_fn(loaded_data.control_sequence.sample_params(params_key))\n",
    "\n",
    "unitary_f = loaded_data.whitebox(sample_params)[-1]\n",
    "predictive_fn(sq.predefined.drag_feature_map(sample_params), unitary_f)"
   ]
  },
  {
   "cell_type": "markdown",
   "id": "e0f9594a",
   "metadata": {},
   "source": [
    "Even more elegant, we can define a predictive model with the `whitebox` embeded as follows."
   ]
  },
  {
   "cell_type": "code",
   "execution_count": 16,
   "id": "1892452f",
   "metadata": {},
   "outputs": [
    {
     "data": {
      "text/plain": [
       "Array([ 0.97084716, -0.97084716,  0.23626797, -0.23626797, -0.04041181,\n",
       "        0.04041181, -0.22440206,  0.22440206,  0.9390122 , -0.9390122 ,\n",
       "       -0.26057569,  0.26057569, -0.04353546,  0.04353546,  0.24955875,\n",
       "       -0.24955875,  0.96738053, -0.96738053], dtype=float64)"
      ]
     },
     "execution_count": 16,
     "metadata": {},
     "output_type": "execute_result"
    }
   ],
   "source": [
    "def embed_predictive_model(control_parameters: jnp.ndarray):\n",
    "    unitary_f = loaded_data.whitebox(control_parameters)[-1]\n",
    "    return predictive_fn(\n",
    "        sq.predefined.drag_feature_map(control_parameters), unitary_f\n",
    "    )\n",
    "\n",
    "embed_predictive_model(sample_params)"
   ]
  },
  {
   "cell_type": "markdown",
   "id": "1330026c",
   "metadata": {},
   "source": [
    "## Control Calibration\n",
    "\n",
    "As an example, we are going to use the predictive model to calibrate for the quantum gate. Specifically, we want to find a control parameters that maximize an average gate fidelity with respected to $\\sqrt{X}$ gate. First, we define a cost function that the optimizer should find the parameters that minimize its output. "
   ]
  },
  {
   "cell_type": "code",
   "execution_count": 17,
   "id": "cd753abc",
   "metadata": {},
   "outputs": [
    {
     "data": {
      "text/plain": [
       "(Array(0.06409491, dtype=float64), {'AGF': Array(0.74683027, dtype=float64)})"
      ]
     },
     "execution_count": 17,
     "metadata": {},
     "output_type": "execute_result"
    }
   ],
   "source": [
    "calculate_agf_sx = sq.physics.direct_AGF_estimation_fn(sq.constant.SX)\n",
    "\n",
    "@jax.jit\n",
    "def average_gate_infidelity(params: jnp.ndarray):\n",
    "    # Predict the expectation values\n",
    "    predicted_expvals = embed_predictive_model(params)\n",
    "    # Calculate the average gate fidelity with respected to SX gate.\n",
    "    AGF = calculate_agf_sx(predicted_expvals)\n",
    "    # return average gate infidelity squared and log the results.\n",
    "    return (1 - AGF) ** 2, {\"AGF\": AGF}\n",
    "\n",
    "average_gate_infidelity(sample_params)"
   ]
  },
  {
   "cell_type": "markdown",
   "id": "e5accee1",
   "metadata": {},
   "source": [
    "Now, we can optimize it using `sq.optimize.minimize`."
   ]
  },
  {
   "cell_type": "code",
   "execution_count": 18,
   "id": "facd3930",
   "metadata": {},
   "outputs": [
    {
     "name": "stdout",
     "output_type": "stream",
     "text": [
      "|████████████████████████████████████████| 400/400 [100%] in 50.2s (7.97/s)     \n"
     ]
    }
   ],
   "source": [
    "init_key = jax.random.key(73)\n",
    "init_params = l2a_fn(loaded_data.control_sequence.sample_params(init_key))\n",
    "\n",
    "lower, upper = loaded_data.control_sequence.get_bounds()\n",
    "\n",
    "steps = 400\n",
    "optimized_params, aux = sq.optimize.minimize(\n",
    "    init_params,\n",
    "    average_gate_infidelity,\n",
    "    sq.optimize.get_default_optimizer(steps),\n",
    "    l2a_fn(lower),\n",
    "    l2a_fn(upper),\n",
    "    maxiter=steps,\n",
    ")"
   ]
  },
  {
   "cell_type": "code",
   "execution_count": 19,
   "id": "59647b1b",
   "metadata": {},
   "outputs": [
    {
     "data": {
      "text/plain": [
       "Array([ 1.20804706, -0.15345464], dtype=float64)"
      ]
     },
     "execution_count": 19,
     "metadata": {},
     "output_type": "execute_result"
    }
   ],
   "source": [
    "optimized_params"
   ]
  },
  {
   "cell_type": "code",
   "execution_count": 20,
   "id": "256fd30a",
   "metadata": {},
   "outputs": [
    {
     "data": {
      "text/plain": [
       "{'AGF': Array(0.97544916, dtype=float64),\n",
       " 'params': Array([ 1.20804706, -0.15345464], dtype=float64)}"
      ]
     },
     "execution_count": 20,
     "metadata": {},
     "output_type": "execute_result"
    }
   ],
   "source": [
    "aux[-1]"
   ]
  },
  {
   "cell_type": "markdown",
   "id": "105c9cc0",
   "metadata": {},
   "source": [
    "## Benchmark\n",
    "\n",
    "Let's check if the model can accurately characterized the hidden device."
   ]
  },
  {
   "cell_type": "code",
   "execution_count": 21,
   "id": "81df52f8",
   "metadata": {},
   "outputs": [],
   "source": [
    "def quantum_device(params: jnp.ndarray):\n",
    "    return sq.model.get_predict_expectation_value(\n",
    "        {\"X\": sq.constant.X, \"Y\": sq.constant.Y, \"Z\": sq.constant.Z},\n",
    "        data_model.solver(params)[-1],\n",
    "        sq.constant.default_expectation_values_order,\n",
    "    )"
   ]
  },
  {
   "cell_type": "code",
   "execution_count": 22,
   "id": "2fa3d453",
   "metadata": {},
   "outputs": [
    {
     "data": {
      "text/plain": [
       "Array(0.97306995, dtype=float64)"
      ]
     },
     "execution_count": 22,
     "metadata": {},
     "output_type": "execute_result"
    }
   ],
   "source": [
    "assert isinstance(optimized_params, jnp.ndarray)\n",
    "real_expvals = quantum_device(optimized_params)\n",
    "\n",
    "calculate_agf_sx(real_expvals)"
   ]
  },
  {
   "cell_type": "markdown",
   "id": "702fd53c",
   "metadata": {},
   "source": [
    "As a final thought:\n",
    "- This is the benchmark without taking the finite-shot effect into the account.\n",
    "- This is characterization without a model selection process such as hyperparameter tuning."
   ]
  }
 ],
 "metadata": {
  "kernelspec": {
   "display_name": "inspeqtor (3.13.0)",
   "language": "python",
   "name": "python3"
  },
  "language_info": {
   "codemirror_mode": {
    "name": "ipython",
    "version": 3
   },
   "file_extension": ".py",
   "mimetype": "text/x-python",
   "name": "python",
   "nbconvert_exporter": "python",
   "pygments_lexer": "ipython3",
   "version": "3.13.0"
  }
 },
 "nbformat": 4,
 "nbformat_minor": 5
}
